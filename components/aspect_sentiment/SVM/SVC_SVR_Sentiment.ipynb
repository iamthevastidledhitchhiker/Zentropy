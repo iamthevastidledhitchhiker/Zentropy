{
 "cells": [
  {
   "cell_type": "markdown",
   "metadata": {},
   "source": [
    "# Using Support Vector Classification and Regression for Sentiment Analysis"
   ]
  },
  {
   "cell_type": "code",
   "execution_count": 1,
   "metadata": {},
   "outputs": [],
   "source": [
    "import sys\n",
    "import os\n",
    "import time\n",
    "\n",
    "from sklearn.feature_extraction.text import TfidfVectorizer\n",
    "from sklearn import svm\n",
    "from sklearn.metrics import classification_report\n",
    "from sklearn.metrics import mean_squared_error\n",
    "import pandas as pd\n",
    "import pickle"
   ]
  },
  {
   "cell_type": "markdown",
   "metadata": {},
   "source": [
    "### Load pre-trained models and TfidfVectorizer"
   ]
  },
  {
   "cell_type": "code",
   "execution_count": 2,
   "metadata": {},
   "outputs": [],
   "source": [
    "vectorizer = pickle.load(open(\"vectorizer.pickle\", \"rb\"))\n",
    "SVR = pickle.load(open(\"sentiment_SVR.pickle\", \"rb\")) #Regression model\n",
    "SVC = pickle.load(open(\"sentiment_SVC.pickle\", \"rb\")) #Classification model"
   ]
  },
  {
   "cell_type": "markdown",
   "metadata": {},
   "source": [
    "### Make some predictions for sentiment"
   ]
  },
  {
   "cell_type": "code",
   "execution_count": 3,
   "metadata": {},
   "outputs": [],
   "source": [
    "from svm_utils import predict_sentiment"
   ]
  },
  {
   "cell_type": "code",
   "execution_count": 4,
   "metadata": {},
   "outputs": [
    {
     "name": "stdout",
     "output_type": "stream",
     "text": [
      "['[1.0, 0.0]']\n",
      "['[1.0, 0.0]']\n"
     ]
    }
   ],
   "source": [
    "print(predict_sentiment(SVC, 'aspect_term suffered enormous losses this quarter', vectorizer))\n",
    "print(predict_sentiment(SVC, \"aspect_term has gone bankrupt\", vectorizer))"
   ]
  },
  {
   "cell_type": "code",
   "execution_count": 5,
   "metadata": {},
   "outputs": [
    {
     "name": "stdout",
     "output_type": "stream",
     "text": [
      "['[1.0, 0.0]']\n",
      "['[0.0, 1.0]']\n"
     ]
    }
   ],
   "source": [
    "print(predict_sentiment(SVC, \"Engine maker aspect_term has revealed it slumped to a record loss of £4 million\", vectorizer))\n",
    "print(predict_sentiment(SVC, \"aspect_term won a lawsuit against Intel marking a win for the tech giant\", vectorizer))"
   ]
  },
  {
   "cell_type": "code",
   "execution_count": 6,
   "metadata": {},
   "outputs": [
    {
     "name": "stdout",
     "output_type": "stream",
     "text": [
      "['[1.0, 0.0]']\n",
      "['[1.0, 0.0]']\n"
     ]
    }
   ],
   "source": [
    "print(predict_sentiment(SVC, \"Apple won a lawsuit against aspect_term marking a win for the tech giant\", vectorizer))\n",
    "print(predict_sentiment(SVC, \"aspect_term won a lawsuit against Samsung marking a win for the tech giant\",  vectorizer))"
   ]
  },
  {
   "cell_type": "markdown",
   "metadata": {},
   "source": [
    "As we can see from the outputs, the classifier generally performs quite well for simpler sentences, however sentences with multiple aspects can be challenging for the model to classify."
   ]
  },
  {
   "cell_type": "code",
   "execution_count": 7,
   "metadata": {},
   "outputs": [
    {
     "name": "stdout",
     "output_type": "stream",
     "text": [
      "['[1.0, 0.0]']\n",
      "[0.54261226]\n",
      "['[0.0, 1.0]']\n",
      "[0.83887178]\n",
      "['[0.7, 0.3]']\n",
      "[0.62456279]\n"
     ]
    }
   ],
   "source": [
    "print(predict_sentiment(SVC, \"Samsung has recorded record losses\",  vectorizer))\n",
    "print(predict_sentiment(SVR, \"Samsung has recorded record losses\",  vectorizer))\n",
    "print(predict_sentiment(SVC, \"Samsung has recorded record profits\",  vectorizer))\n",
    "print(predict_sentiment(SVR, \"Samsung has recorded record profits\",  vectorizer))\n",
    "print(predict_sentiment(SVC, \"Samsung files for bankruptsy.\",  vectorizer))\n",
    "print(predict_sentiment(SVR, \"Samsung files for bankruptsy.\",  vectorizer))"
   ]
  },
  {
   "cell_type": "markdown",
   "metadata": {},
   "source": [
    "The trained SVR model struggles with recognizing negative sentiment, even among simpler sentences."
   ]
  },
  {
   "cell_type": "markdown",
   "metadata": {},
   "source": [
    "### Train a new model from pickled data"
   ]
  },
  {
   "cell_type": "code",
   "execution_count": 8,
   "metadata": {},
   "outputs": [],
   "source": [
    "from svm_utils import train_model\n",
    "from svm_utils import create_vectorizer"
   ]
  },
  {
   "cell_type": "code",
   "execution_count": 9,
   "metadata": {},
   "outputs": [],
   "source": [
    "# Create a new vectorizer. \n",
    "vectorizer = create_vectorizer(min_df=3, max_df = 1.0, sublinear_tf = True, use_idf=True)"
   ]
  },
  {
   "cell_type": "code",
   "execution_count": 10,
   "metadata": {},
   "outputs": [
    {
     "name": "stdout",
     "output_type": "stream",
     "text": [
      "Results for LinearSVC()\n",
      "Training time: 0.820324s; Prediction time: 0.006179s\n",
      "             precision    recall  f1-score   support\n",
      "\n",
      " [0.0, 1.0]       0.73      0.69      0.71       664\n",
      " [0.3, 0.7]       0.77      0.84      0.80      1185\n",
      " [0.5, 0.5]       0.64      0.36      0.46        80\n",
      " [0.7, 0.3]       0.82      0.73      0.77       666\n",
      " [1.0, 0.0]       0.86      0.89      0.88      1063\n",
      "\n",
      "avg / total       0.80      0.80      0.79      3658\n",
      "\n"
     ]
    }
   ],
   "source": [
    "# Train a classification model. SVR requires strings as labels\n",
    "SVC = train_model(model_type = 'svc', print_results = True, vectorizer=vectorizer, train_data = \"train_data.pickle\",\n",
    "                 train_labels = \"train_labels.pickle\", test_data = \"test_data.pickle\", test_labels = \"test_labels.pickle\")"
   ]
  },
  {
   "cell_type": "code",
   "execution_count": 11,
   "metadata": {},
   "outputs": [
    {
     "name": "stdout",
     "output_type": "stream",
     "text": [
      "No vectorizer specified, loading default\n",
      "Results for LinearSVR()\n",
      "Training time: 4.435170s; Prediction time: 0.000921s\n",
      "Mean squared error:  0.04233757775290541\n",
      "r2 score:  0.6922808038520507\n"
     ]
    }
   ],
   "source": [
    "# Train a regression model. SVR requires floats as labels\n",
    "SVR = train_model(model_type = 'svr', print_results = True, vectorizer=None, train_data = \"train_data.pickle\",\n",
    "                 train_labels = \"train_labels_SVR.pickle\", test_data = \"test_data.pickle\", test_labels = \"test_labels_SVR.pickle\")"
   ]
  },
  {
   "cell_type": "markdown",
   "metadata": {},
   "source": [
    "### Save our models and vectorizer for future use"
   ]
  },
  {
   "cell_type": "code",
   "execution_count": null,
   "metadata": {},
   "outputs": [],
   "source": [
    "pickle.dump(SVR, open( \"sentiment_SVR_01.pickle\", \"wb\" ))\n",
    "pickle.dump(SVC, open( \"sentiment_SVC_01.pickle\", \"wb\" ))\n",
    "pickle.dump(vectorizer, open( \"vectorizer_01.pickle\", \"wb\" ))\n"
   ]
  }
 ],
 "metadata": {
  "kernelspec": {
   "display_name": "Python 3",
   "language": "python",
   "name": "python3"
  },
  "language_info": {
   "codemirror_mode": {
    "name": "ipython",
    "version": 3
   },
   "file_extension": ".py",
   "mimetype": "text/x-python",
   "name": "python",
   "nbconvert_exporter": "python",
   "pygments_lexer": "ipython3",
   "version": "3.5.2"
  }
 },
 "nbformat": 4,
 "nbformat_minor": 2
}
