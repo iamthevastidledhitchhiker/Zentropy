{
 "cells": [
  {
   "cell_type": "code",
   "execution_count": 30,
   "metadata": {},
   "outputs": [
    {
     "name": "stdout",
     "output_type": "stream",
     "text": [
      "The autoreload extension is already loaded. To reload it, use:\n",
      "  %reload_ext autoreload\n"
     ]
    }
   ],
   "source": [
    "%load_ext autoreload\n",
    "%autoreload 2\n",
    "\n",
    "import summarizer_utils as sutils\n",
    "import story_converter as sconv\n",
    "import pickle\n",
    "import nltk.tokenize as tokenize\n",
    "import os\n",
    "from nltk.tokenize.moses import MosesDetokenizer"
   ]
  },
  {
   "cell_type": "markdown",
   "metadata": {},
   "source": [
    "## Get some articles to summarize!"
   ]
  },
  {
   "cell_type": "code",
   "execution_count": 3,
   "metadata": {},
   "outputs": [
    {
     "name": "stdout",
     "output_type": "stream",
     "text": [
      "The autoreload extension is already loaded. To reload it, use:\n",
      "  %reload_ext autoreload\n",
      "Downloading articles...\n",
      "Downloading articles DONE\n"
     ]
    }
   ],
   "source": [
    "articles = [\n",
    "    \"https://yle.fi/uutiset/osasto/news/finnish_capital_planning_rules_for_airbnb_market/10139225\",\n",
    "    \"http://metropolitan.fi/entry/finnish-amer-sports-acquires-peak-performance-athletic-apparel-brand\",\n",
    "    \"http://metropolitan.fi/entry/koskenkorva-factory-finland-12-hour-shift\"\n",
    "]\n",
    "\n",
    "print(\"Downloading articles...\")\n",
    "story_data = sutils.fetch_and_pickle_stories(articles, True)\n",
    "print(\"Downloading articles DONE\")"
   ]
  },
  {
   "cell_type": "markdown",
   "metadata": {},
   "source": [
    "## Convert articles to the format read by the TensorFlow model:"
   ]
  },
  {
   "cell_type": "code",
   "execution_count": 4,
   "metadata": {},
   "outputs": [],
   "source": [
    "sconv.process_and_save_to_disk(story_data['stories'], \"test.bin\")"
   ]
  },
  {
   "cell_type": "markdown",
   "metadata": {},
   "source": [
    "## Run TensorFlow model in decoder mode:"
   ]
  },
  {
   "cell_type": "code",
   "execution_count": 5,
   "metadata": {},
   "outputs": [
    {
     "name": "stdout",
     "output_type": "stream",
     "text": [
      "Starting TensorFlow Decoder...\n",
      "INFO:tensorflow:Starting seq2seq_attention in asdfdsaf decode mode...\n",
      "INFO:tensorflow:Current folder /Users/arturs/gpu-projects/Zentropy/components/summarizer\n",
      "Warning: incorrectly formatted line in vocabulary file: 0800 555 111 356\n",
      "\n",
      "\n",
      "Warning: incorrectly formatted line in vocabulary file: 1800 333 000 139\n",
      "\n",
      "\n",
      "Warning: incorrectly formatted line in vocabulary file: 2 1/2 124\n",
      "\n",
      "\n",
      "Warning: incorrectly formatted line in vocabulary file: 3 1/2 86\n",
      "\n",
      "\n",
      "max_size of vocab was specified as 50000; we now have 50000 words. Stopping reading.\n",
      "Finished constructing vocabulary of 50000 total words. Last word added: farina\n",
      "INFO:tensorflow:Building graph...\n",
      "example_generator completed reading all datafiles. No more data.\n",
      "INFO:tensorflow:The example generator for this example queue filling thread has exhausted data.\n",
      "INFO:tensorflow:single_pass mode is on, so we've finished reading dataset. This thread is stopping.\n",
      "INFO:tensorflow:Adding attention_decoder timestep 0 of 1\n",
      "INFO:tensorflow:Time to build graph: 0 seconds\n",
      "INFO:tensorflow:Loading checkpoint experiments/more_coverage/train/model.ckpt-363378\n",
      "INFO:tensorflow:Restoring parameters from experiments/more_coverage/train/model.ckpt-363378\n",
      "WARNING:tensorflow:Bucket input queue is empty when calling next_batch. Bucket queue size: 0, Input queue size: 0\n",
      "INFO:tensorflow:Finished reading dataset in single_pass mode.\n",
      "INFO:tensorflow:Decoder has finished reading dataset for single_pass.\n",
      "INFO:tensorflow:Output has been saved in experiments/more_coverage/decode_test_400maxenc_4beam_35mindec_100maxdec_ckpt-363378/reference and experiments/more_coverage/decode_test_400maxenc_4beam_35mindec_100maxdec_ckpt-363378/decoded. Now starting ROUGE eval...\n",
      "Summarization model exited as expected :)\n"
     ]
    }
   ],
   "source": [
    "summarizer_internal_pickle = \"pickles/decoded_stories.pickle\"\n",
    "sutils.run_summarization_model_decoder(summarizer_internal_pickle, \"more_coverage\")"
   ]
  },
  {
   "cell_type": "markdown",
   "metadata": {},
   "source": [
    "## Look at results:"
   ]
  },
  {
   "cell_type": "code",
   "execution_count": 13,
   "metadata": {},
   "outputs": [],
   "source": [
    "summarization_output = pickle.load(open(summarizer_internal_pickle, \"rb\" ))"
   ]
  },
  {
   "cell_type": "code",
   "execution_count": 17,
   "metadata": {},
   "outputs": [
    {
     "name": "stdout",
     "output_type": "stream",
     "text": [
      "researcher pekka mustonen from helsinki city administration says there were 2,300 airbnb-accommodations available in helsinki last year . anna varakas has been renting her property in ullanlinna through airbnb for two years . anna varakas has been renting her property in ullanlinna through airbnb for two years .\n",
      "\n",
      "\n",
      "finnish amer sports acquires peak performance athletic apparel brand peak performance for 255 million euros . the company known for it 's premium sports gear was sold by danish fashion company ic group . the total price is 255 million euros , and it will be financed with cash assets as well as bank financing .\n",
      "\n",
      "\n",
      "altia 's koskenkorva factory in south pohjanmaa uses abnormally long twelve hour shifts . the facility produces grain alcohol , starch , livestock feed and carbon dioxide . the facility produces grain alcohol , starch , livestock feed and carbon dioxide . the facility produces grain alcohol , starch , livestock feed and carbon dioxide .\n",
      "\n",
      "\n"
     ]
    }
   ],
   "source": [
    "for s in summarization_output['summaries']:\n",
    "    print(s+\"\\n\\n\")\n"
   ]
  },
  {
   "cell_type": "markdown",
   "metadata": {},
   "source": [
    "## All lower case - Named entity detector will complain!"
   ]
  },
  {
   "cell_type": "code",
   "execution_count": 43,
   "metadata": {},
   "outputs": [
    {
     "name": "stdout",
     "output_type": "stream",
     "text": [
      "Researcher Pekka Mustonen from Helsinki city administration says there were 2,300 Airbnb-accommodations available in Helsinki last year. Anna Varakas has been renting her property in Ullanlinna through Airbnb for two years. Anna Varakas has been renting her property in Ullanlinna through Airbnb for two years.\n",
      "\n",
      "\n",
      "Finnish Amer sports acquires Peak Performance athletic apparel brand Peak Performance for 255 Million euros. the company known for it's premium sports gear was sold by Danish fashion company IC Group. the total price is 255 Million euros, and it will be financed with cash assets as well as bank financing.\n",
      "\n",
      "\n",
      "Altia's Koskenkorva factory in South Pohjanmaa uses abnormally long twelve hour shifts. the facility produces grain alcohol, starch, livestock feed and carbon dioxide. the facility produces grain alcohol, starch, livestock feed and carbon dioxide. the facility produces grain alcohol, starch, livestock feed and carbon dioxide.\n",
      "\n",
      "\n"
     ]
    }
   ],
   "source": [
    "tokenized_summaries = sutils.try_fix_upper_case_for_summaries(story_data['stories'], summarization_output['summaries_tokens'])\n",
    "\n",
    "detokenizer = MosesDetokenizer()\n",
    "\n",
    "detokenized_summaries = []\n",
    "\n",
    "for s in tokenized_summaries:\n",
    "    s_detok = detokenizer.detokenize(s, return_str=True)\n",
    "    detokenized_summaries.append(s_detok)\n",
    "    print(s_detok+\"\\n\\n\")"
   ]
  },
  {
   "cell_type": "markdown",
   "metadata": {},
   "source": [
    "## Much better! Next let's look at our baseline summaries:"
   ]
  },
  {
   "cell_type": "code",
   "execution_count": 28,
   "metadata": {},
   "outputs": [
    {
     "name": "stdout",
     "output_type": "stream",
     "text": [
      "Extractive summaries:\n",
      "\n",
      "Researcher Pekka Mustonen from Helsinki city administration says that statistics compiled by AirDNA show that there were 2,300 Airbnb-accommodations available in Helsinki last year.\n",
      "Regulation of Airbnb plannedThe figures of Helsinki's Airbnb beds became as a surprise to Mustonen and Laura Aalto, the chief executive at Helsinki Marketing.\n",
      "Nonetheless the city of Helsinki plans to introduce rules for residents who want to rent their property through Airbnb.\n",
      "According to Lappi, Airbnb used to be part of the sharing economy, but it has now turned into a professional business.\n",
      "Airbnb is changing the market in a way that hotels do not like, she says.\n",
      "\n",
      "\n",
      "Finnish Amer Sports acquires Peak Performance athletic apparel brandFinnish company acquires athletics apparel brand Peak Performance for 255 Million euros.\n",
      "Finnish sports equipment and apparel company Amer Sports has acquired all the shares in Peak Performance.\n",
      "The total price is 255 Million euros, and it will be financed with cash assets as well as bank financing.\n",
      "Peak Performance is a Swedish brand, whose turnover for the last reported 12 month period was 145 Million euros.\n",
      "Source: Amer Sports accelerates in Softgoods by acquiring the iconic brand Peak PerformanceWritten by Janita on Monday April 30, 2018Permalink -\n",
      "\n",
      "\n",
      "The Koskenkorva booze factory runs 12 hour working shifts instead of 8h onesAltia's Koskenkorva factory in South Pohjanmaa uses abnormally long twelve hour shifts.\n",
      "After the year long trial ended in 2014 no employees wanted to return to regular eight hour shifts.\n",
      "The 12h work routine 12 hour day shift 12 hour day shift 24 hour break 12 hour night shift 12 hour night shift Sleeping day Day off Day off Day off Day off Day offAfter two shifts there is a 24 hour break for sleeping.\n",
      "Experts belive that two 12 hour night shifts are easier for the body to recover from, than four 8 hour shifts.\n",
      "Other companies in Finland are also interested in adopting 12 hour shifts.\n",
      "\n",
      "\n",
      "3 sentence summaries:\n",
      "\n",
      "Of all the accommodation available in Helsinki, about 20 percent is covered by Airbnb – an online service where private individuals can rent rooms or whole properties to visitors. Researcher Pekka Mustonen from Helsinki city administration says that statistics compiled by AirDNA show that there were 2,300 Airbnb-accommodations available in Helsinki last year. In contrast, the number of hotel rooms totaled 10,000.\n",
      "\n",
      "\n",
      "Finnish Amer Sports acquires Peak Performance athletic apparel brand. Finnish company acquires athletics apparel brand Peak Performance for 255 Million euros. The company believes this will bring the company a small improvement to the financial results for the year 2018.\n",
      "\n",
      "\n",
      "The Koskenkorva booze factory runs 12 hour working shifts instead of 8h ones. Altia's Koskenkorva factory in South Pohjanmaa uses abnormally long twelve hour shifts. The facility produces grain alcohol, starch, livestock feed and carbon dioxide.\n",
      "\n",
      "\n"
     ]
    }
   ],
   "source": [
    "print(\"Extractive summaries:\\n\")\n",
    "for s1 in story_data['summaries_extractive']:\n",
    "    print(s1+\"\\n\\n\")\n",
    "\n",
    "print(\"3 sentence summaries:\\n\")\n",
    "for s2 in story_data['summaries_3sent']:\n",
    "    print(s2+\"\\n\\n\")"
   ]
  },
  {
   "cell_type": "markdown",
   "metadata": {},
   "source": [
    "## Send data to named entity extractor:"
   ]
  },
  {
   "cell_type": "code",
   "execution_count": 29,
   "metadata": {},
   "outputs": [],
   "source": [
    "summarizer_output_pickle = \"pickles/summarizer_output.pickle\"\n",
    "\n",
    "summarizer_output = {\n",
    "    'urls': story_data['urls'],\n",
    "    'titles': story_data['titles'],\n",
    "    'stories': story_data['stories'],\n",
    "    'summaries_extractive': story_data['summaries_extractive'],\n",
    "    'summaries_model': tokenized_summaries,\n",
    "    'summaries_3sent': story_data['summaries_3sent']\n",
    "}\n",
    "\n",
    "pickle.dump(summarizer_output, open(summarizer_output_pickle, \"wb\"))"
   ]
  },
  {
   "cell_type": "markdown",
   "metadata": {},
   "source": [
    "## Load NER library:"
   ]
  },
  {
   "cell_type": "code",
   "execution_count": 36,
   "metadata": {
    "scrolled": true
   },
   "outputs": [],
   "source": [
    "import sys\n",
    "sys.path.append(\"../ner\")\n",
    "\n",
    "import NERutils as ner\n"
   ]
  },
  {
   "cell_type": "markdown",
   "metadata": {},
   "source": [
    "## Showtime:"
   ]
  },
  {
   "cell_type": "code",
   "execution_count": 41,
   "metadata": {},
   "outputs": [
    {
     "name": "stdout",
     "output_type": "stream",
     "text": [
      "RUNNING TOKENIZER\n",
      "SPLITTING SENTENCES LINE BY LINE\n",
      "RUNNING MODEL\n",
      "NAMED ENTITIES:\n",
      "['AirDNA', 'Helsinki Marketing', 'Airbnb', 'Finnish Hospitality Association', 'Airbnb guests. ” Hotels']\n",
      "RUNNING TOKENIZER\n",
      "SPLITTING SENTENCES LINE BY LINE\n",
      "RUNNING MODEL\n",
      "NAMED ENTITIES:\n",
      "['Marlboro', 'IC Group', 'Finnish Amer Sports', 'Peak Performance', 'Peak Perofmrance', 'Amer Sport', 'Amer', 'Amer Sports', 'Salomon']\n",
      "RUNNING TOKENIZER\n",
      "SPLITTING SENTENCES LINE BY LINE\n",
      "RUNNING MODEL\n",
      "NAMED ENTITIES:\n",
      "['AM', 'Altia']\n"
     ]
    }
   ],
   "source": [
    "all_orgs = []\n",
    "\n",
    "for story in summarizer_output['stories']:\n",
    "    storyCombined = story.replace('\\n', ' ')\n",
    "\n",
    "    print('RUNNING TOKENIZER')\n",
    "    storyTokenized = tokenize.word_tokenize(storyCombined)\n",
    "\n",
    "    print('SPLITTING SENTENCES LINE BY LINE')\n",
    "    split = ner.sentenceSplitter(storyTokenized)\n",
    "\n",
    "    inputFile = open(r'../ner/input.txt','w')\n",
    "    ner.writeArticle(split,inputFile)\n",
    "    inputFile.close()\n",
    "\n",
    "    print('RUNNING MODEL')\n",
    "    os.system('python2.7 ../ner/tagger-master/tagger.py --model ../ner/tagger-master/models/english/ --input ../ner/input.txt --output ../ner/output.txt')\n",
    "\n",
    "    with open(r'../ner/output.txt','r') as namedStory:\n",
    "        namedStory=namedStory.read().replace('\\n', ' ')\n",
    "\n",
    "    print('NAMED ENTITIES:')\n",
    "    orgs  = ner.findNamedEntities(namedStory.split(' '))\n",
    "    all_orgs.append(orgs)\n",
    "    print(orgs)\n"
   ]
  },
  {
   "cell_type": "code",
   "execution_count": 42,
   "metadata": {},
   "outputs": [
    {
     "data": {
      "text/plain": [
       "[['AirDNA',\n",
       "  'Helsinki Marketing',\n",
       "  'Airbnb',\n",
       "  'Finnish Hospitality Association',\n",
       "  'Airbnb guests. ” Hotels'],\n",
       " ['Marlboro',\n",
       "  'IC Group',\n",
       "  'Finnish Amer Sports',\n",
       "  'Peak Performance',\n",
       "  'Peak Perofmrance',\n",
       "  'Amer Sport',\n",
       "  'Amer',\n",
       "  'Amer Sports',\n",
       "  'Salomon'],\n",
       " ['AM', 'Altia']]"
      ]
     },
     "execution_count": 42,
     "metadata": {},
     "output_type": "execute_result"
    }
   ],
   "source": [
    "all_orgs"
   ]
  },
  {
   "cell_type": "code",
   "execution_count": 44,
   "metadata": {},
   "outputs": [
    {
     "data": {
      "text/plain": [
       "['Researcher Pekka Mustonen from Helsinki city administration says there were 2,300 Airbnb-accommodations available in Helsinki last year. Anna Varakas has been renting her property in Ullanlinna through Airbnb for two years. Anna Varakas has been renting her property in Ullanlinna through Airbnb for two years.',\n",
       " \"Finnish Amer sports acquires Peak Performance athletic apparel brand Peak Performance for 255 Million euros. the company known for it's premium sports gear was sold by Danish fashion company IC Group. the total price is 255 Million euros, and it will be financed with cash assets as well as bank financing.\",\n",
       " \"Altia's Koskenkorva factory in South Pohjanmaa uses abnormally long twelve hour shifts. the facility produces grain alcohol, starch, livestock feed and carbon dioxide. the facility produces grain alcohol, starch, livestock feed and carbon dioxide. the facility produces grain alcohol, starch, livestock feed and carbon dioxide.\"]"
      ]
     },
     "execution_count": 44,
     "metadata": {},
     "output_type": "execute_result"
    }
   ],
   "source": [
    "detokenized_summaries"
   ]
  },
  {
   "cell_type": "code",
   "execution_count": null,
   "metadata": {},
   "outputs": [],
   "source": []
  }
 ],
 "metadata": {
  "kernelspec": {
   "display_name": "tensorflow",
   "language": "python",
   "name": "tensorflow"
  },
  "language_info": {
   "codemirror_mode": {
    "name": "ipython",
    "version": 3
   },
   "file_extension": ".py",
   "mimetype": "text/x-python",
   "name": "python",
   "nbconvert_exporter": "python",
   "pygments_lexer": "ipython3",
   "version": "3.6.4"
  }
 },
 "nbformat": 4,
 "nbformat_minor": 2
}
