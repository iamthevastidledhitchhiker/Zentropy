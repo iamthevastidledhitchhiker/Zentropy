{
 "cells": [
  {
   "cell_type": "code",
   "execution_count": 1,
   "metadata": {},
   "outputs": [],
   "source": [
    "%load_ext autoreload\n",
    "%autoreload 2\n",
    "\n",
    "import summarizer_utils as sutils\n",
    "import story_converter as sconv\n",
    "import pickle\n",
    "import nltk.tokenize as tokenize\n",
    "import os\n",
    "from nltk.tokenize.moses import MosesDetokenizer\n",
    "import pandas as pd\n",
    "import re"
   ]
  },
  {
   "cell_type": "markdown",
   "metadata": {},
   "source": [
    "## Get the test data:"
   ]
  },
  {
   "cell_type": "code",
   "execution_count": 84,
   "metadata": {},
   "outputs": [],
   "source": [
    "article_df = pd.read_csv('test_roman.csv')\n",
    "\n",
    "def remove_date_title_and_id(s):\n",
    "    _s = s.split('\\n')\n",
    "    return ''.join(_s[3:])\n",
    "\n",
    "\n",
    "#replace period followed by a capital with a period space capital\n",
    "def fix_periods(s):\n",
    "    fixed = re.sub('\\.([A-Z])', '. \\g<1>', s)\n",
    "    return fixed\n",
    "\n",
    "articles = article_df['full_text'].apply(remove_date_title_and_id)\n",
    "articles = articles.apply(fix_periods)\n",
    "\n",
    "#date_and_id_regex = '^[0-9]{8}[\\n][A-Z0-9]{32}[\\n]'\n",
    "#articles = article_df['full_text'].apply(lambda x: re.sub(date_and_id_regex, '', x))\n",
    "#ids = article_df['docno_x']"
   ]
  },
  {
   "cell_type": "code",
   "execution_count": 83,
   "metadata": {},
   "outputs": [
    {
     "data": {
      "text/plain": [
       "'Net management fees fell by 9pc over the course of the year to $691m while performance fees dived by almost two-thirds to $112m. As a result the firm’s shares dropped by 10pc in early trading, but recovered later in the day to a more modest 1.8pc loss. In part that was due to a rise in overall assets under management which increased by 3pc to $80.9bn. The company prefers to focus on adjusted pre-tax profits, which came in at $205m, down from 2015’s profit of $400m. Chief executive Luke Ellis, who took the reins in the middle of 2016, said Man Group has “made real progress in repositioning the firm for the future” and “continued to control our cost base”.“Looking forward to 2017, we have started the year with a good pipeline of interest from clients and encouraging performance across most of our strategies as the new global political environment has created many alpha opportunities, but it remains early days in an uncertain market,” he said.'"
      ]
     },
     "execution_count": 83,
     "metadata": {},
     "output_type": "execute_result"
    }
   ],
   "source": [
    "articles[0]"
   ]
  },
  {
   "cell_type": "markdown",
   "metadata": {},
   "source": [
    "## Convert articles to the format read by the TensorFlow model:"
   ]
  },
  {
   "cell_type": "code",
   "execution_count": 58,
   "metadata": {},
   "outputs": [],
   "source": [
    "sconv.process_and_save_to_disk(articles[:10], \"test.bin\")"
   ]
  },
  {
   "cell_type": "markdown",
   "metadata": {},
   "source": [
    "## Run TensorFlow model in decoder mode:"
   ]
  },
  {
   "cell_type": "code",
   "execution_count": 59,
   "metadata": {},
   "outputs": [
    {
     "name": "stdout",
     "output_type": "stream",
     "text": [
      "Starting TensorFlow Decoder...\n",
      "INFO:tensorflow:Starting seq2seq_attention in asdfdsaf decode mode...\n",
      "INFO:tensorflow:Current folder /Users/arturs/gpu-projects/Zentropy/components/summarizer\n",
      "Warning: incorrectly formatted line in vocabulary file: 0800 555 111 356\n",
      "\n",
      "\n",
      "Warning: incorrectly formatted line in vocabulary file: 1800 333 000 139\n",
      "\n",
      "\n",
      "Warning: incorrectly formatted line in vocabulary file: 2 1/2 124\n",
      "\n",
      "\n",
      "Warning: incorrectly formatted line in vocabulary file: 3 1/2 86\n",
      "\n",
      "\n",
      "max_size of vocab was specified as 50000; we now have 50000 words. Stopping reading.\n",
      "Finished constructing vocabulary of 50000 total words. Last word added: farina\n",
      "INFO:tensorflow:Building graph...\n",
      "example_generator completed reading all datafiles. No more data.\n",
      "INFO:tensorflow:The example generator for this example queue filling thread has exhausted data.\n",
      "INFO:tensorflow:single_pass mode is on, so we've finished reading dataset. This thread is stopping.\n",
      "INFO:tensorflow:Adding attention_decoder timestep 0 of 1\n",
      "INFO:tensorflow:Time to build graph: 0 seconds\n",
      "INFO:tensorflow:Loading checkpoint experiments/more_coverage/train/model.ckpt-363378\n",
      "INFO:tensorflow:Restoring parameters from experiments/more_coverage/train/model.ckpt-363378\n",
      "WARNING:tensorflow:Bucket input queue is empty when calling next_batch. Bucket queue size: 0, Input queue size: 0\n",
      "INFO:tensorflow:Finished reading dataset in single_pass mode.\n",
      "INFO:tensorflow:Decoder has finished reading dataset for single_pass.\n",
      "INFO:tensorflow:Output has been saved in experiments/more_coverage/decode_test_400maxenc_4beam_35mindec_100maxdec_ckpt-363378/reference and experiments/more_coverage/decode_test_400maxenc_4beam_35mindec_100maxdec_ckpt-363378/decoded. Now starting ROUGE eval...\n",
      "Summarization model exited as expected :)\n"
     ]
    }
   ],
   "source": [
    "summarizer_internal_pickle = \"pickles/decoded_stories.pickle\"\n",
    "#sutils.run_summarization_model_decoder(summarizer_internal_pickle, \"pretrained_model_tf1.2.1_original\")\n",
    "#sutils.run_summarization_model_decoder(summarizer_internal_pickle, \"coverage_trained\")\n",
    "sutils.run_summarization_model_decoder(summarizer_internal_pickle, \"more_coverage\")"
   ]
  },
  {
   "cell_type": "markdown",
   "metadata": {},
   "source": [
    "## Look at results:"
   ]
  },
  {
   "cell_type": "code",
   "execution_count": 60,
   "metadata": {},
   "outputs": [],
   "source": [
    "summarization_output = pickle.load(open(summarizer_internal_pickle, \"rb\" ))"
   ]
  },
  {
   "cell_type": "code",
   "execution_count": 61,
   "metadata": {},
   "outputs": [
    {
     "name": "stdout",
     "output_type": "stream",
     "text": [
      "net management fees fell by 9pc over the course of the year to $ 691m while performance fees dived by almost two-thirds to $ 112m . chief executive luke ellis , who took the reins in the middle of 2016 , said man group has `` made real progress in repositioning the firm for the future '' he said man group has `` made real progress in repositioning the firm for the future ''\n",
      "\n",
      "\n",
      "british american tobacco took the plastic film off another industry consolidation effort . british american tobacco took the plastic film off another industry consolidation effort . the figures imply a total current value of $ 59.64 bn for the 57.8 % of reynolds not already owned by bat.it .\n",
      "\n",
      "\n",
      "glencore plc rode a wave of surging commodity prices in 2016 to return to a profit of $ 1.4 billion . chief executive ivan glasenberg is known as one of the mining industry 's most voracious deal-makers . the company earlier said it plans to pay out $ 1 billion in dividends in 2017 .\n",
      "\n",
      "\n",
      "intel will buy israel 's mobileye in a deal valued at about $ 15 billion . intel will buy israel 's mobileye in a deal valued at about $ 15 billion . intel will buy israel 's mobileye in a deal valued at about $ 15 billion .\n",
      "\n",
      "\n",
      "amazon has the amazonfresh grocery delivery service in several larger markets . the company 's presence in groceries has been relatively muted . jeff bezos has always been plowing all available resources into growing the company into a global behemoth .\n",
      "\n",
      "\n",
      "royal dutch shell of a package of assets in the north sea to chrysaor in a deal valued at up to # 3bn . shell 's total north sea production during 2016 was around 211,000 barrels per day.on completion of the deal chrysaor . shell 's total north sea production during 2016 was around 211,000 barrels per day.on completion of the deal chrysaor , backed by private equity firm eig .\n",
      "\n",
      "\n",
      "tesco has been hit with a # 129 million fine . tesco has been hit with a # 129 million fine . tesco has been hit with a # 129 million fine from the serious fraud office .\n",
      "\n",
      "\n",
      "hewlett packard enterprise -lrb- hpe -rrb- announced tuesday that it has entered into a definitive agreement to acquire nimble storage -lrb- nmbl -rrb- for $ 12.50 per share in cash with a net cash purchase price of $ 1.0 billion.nimble storage . the stock has soared to a new high for the year.by rtt staff writerfor comments and feedback .\n",
      "\n",
      "\n",
      "hindustan motors has formed an alliance with the ck birla group . the french company has formed an alliance with the ck birla group . the french company has formed an alliance with the ck birla group .\n",
      "\n",
      "\n",
      "the ford smartlink.the device will work seamlessly with ford and lincoln vehicles.you . the device will go on sale a ford and lincoln dealers in the us this summer . the device will go on sale a ford and lincoln dealers in the us .\n",
      "\n",
      "\n"
     ]
    }
   ],
   "source": [
    "for s in summarization_output['summaries']:\n",
    "    print(s+\"\\n\\n\")\n"
   ]
  },
  {
   "cell_type": "markdown",
   "metadata": {},
   "source": [
    "## All lower case - Named entity detector will complain!"
   ]
  },
  {
   "cell_type": "code",
   "execution_count": 43,
   "metadata": {
    "scrolled": false
   },
   "outputs": [
    {
     "name": "stdout",
     "output_type": "stream",
     "text": [
      "Hedge fund giant Man Group stumbles to loss in choppy markets. Net management fees fell by 9pc over the year to $691m while performance fees dived by almost two-thirds to $112m. Chief executive Luke Ellis, who took the reins in the middle of 2016, said Man Group has ``made real progress ''\n",
      "\n",
      "\n",
      "British American tobacco took the plastic film off another industry consolidation effort. Reynolds shareholders will receive $29.44 in cash and 0.5260 BAT ordinary shares. the BAT also represents a premium of 26% over the closing price of Reynolds common stock on 20 October 2016.\n",
      "\n",
      "\n",
      "Glencore PLC rode a wave of surging commodity prices in 2016 to return to a profit of $1.4 billion. Chief executive Ivan Glasenberg now faces a tough decision: start splurging on new mergers or acquisitions, or return the rewards to shareholders in the form of dividends. Shares in the company were up more than 4% in early-afternoon trading in london.\n",
      "\n",
      "\n",
      "Intel will buy Israel's Mobileye in a deal valued at about $15 billion. the combination, expected to close by year's end, will allow the companies to bring components to market faster at a lower cost, solidifying Mobileye's leadership position. automakers and some technology companies are testing autonomous vehicles in California, Michigan and a few other states.\n",
      "\n",
      "\n",
      "Amazon has the AmazonFresh grocery delivery service in several larger markets. the company's presence in groceries has been relatively muted. the company's presence in groceries has been relatively muted. the company's presence in groceries has been relatively muted.\n",
      "\n",
      "\n",
      "Royal Dutch Shell agrees # 3bn sale of North Sea assets to Chrysaor. around 400 staff are expected to transfer following the sale by Royal Dutch Shell of a package of assets in the North Sea. around 400 staff are expected to transfer following the sale by Royal Dutch Shell of a package of assets in the North Sea to Chrysaor in a deal valued at up to # 3bn.\n",
      "\n",
      "\n",
      "Tesco has been hit with a # 129 million fine from the Serious Fraud Office. the move means Britain's biggest supermarket will escape prosecution as long as it ``fulfils certain requirements ''\n",
      "\n",
      "\n",
      "Hewlett Packard Enterprise -lrb- HPE -rrb- announced Tuesday that it has entered into a definitive agreement to acquire Nimble Storage -lrb- NMBL -rrb-. the stock has soared to a new high for the year.\n",
      "\n",
      "\n",
      "Hindustan Motors has formed an alliance with the CK Birla Group. It will be producing cars at Hindustan Motors' plant in Thiruvallur, Tamil Nadu. It was the first car to be built in India, at a plant in Uttarpara near Kolkata.\n",
      "\n",
      "\n",
      "Ford has announced the launch if a new gadget will bring connected features to older cars, the Ford SmartLink. the device will allow you to bring a range of connected features to vehicles from 2010 to 2016 that do n't come with these features. Ford has announced the launch if a new gadget that will bring connected features to older cars.\n",
      "\n",
      "\n"
     ]
    }
   ],
   "source": [
    "tokenized_summaries = sutils.try_fix_upper_case_for_summaries(articles[:10], summarization_output['summaries_tokens'])\n",
    "\n",
    "detokenizer = MosesDetokenizer()\n",
    "\n",
    "detokenized_summaries = []\n",
    "\n",
    "for s in tokenized_summaries:\n",
    "    s_detok = detokenizer.detokenize(s, return_str=True)\n",
    "    detokenized_summaries.append(s_detok)\n",
    "    print(s_detok+\"\\n\\n\")"
   ]
  },
  {
   "cell_type": "markdown",
   "metadata": {},
   "source": [
    "## Much better! Next let's look at our baseline summaries:"
   ]
  },
  {
   "cell_type": "code",
   "execution_count": 85,
   "metadata": {},
   "outputs": [],
   "source": [
    "#Get 3 sentence summaries\n",
    "from nltk.tokenize import sent_tokenize\n",
    "\n",
    "\n",
    "\n",
    "def get_3_sentence_summaries(articles):\n",
    "    summaries = []\n",
    "    for article in articles:\n",
    "        sent_tokens = sent_tokenize(article)\n",
    "        summaries.append(' '.join(sent_tokens[:3]))\n",
    "    return summaries\n",
    "\n",
    "summaries = get_3_sentence_summaries(articles)\n"
   ]
  },
  {
   "cell_type": "code",
   "execution_count": 87,
   "metadata": {},
   "outputs": [
    {
     "data": {
      "text/plain": [
       "[\"SANTA CLARA, Calif. (AP) -- Intel will buy Israel's Mobileye in a deal valued at about $15 billion, instantly propelling the computer chip and technology giant to the forefront of autonomous vehicle technology.\",\n",
       " \"The deal announced Monday combines Mobileye's market-leading software that processes information from cameras and other sensors with Intel's hardware, data centers and its own software, giving automakers a one-stop place to shop for fully autonomous car systems.\",\n",
       " '\"This acquisition essentially merges the intelligent eyes of the autonomous car with the intelligent brain that actually drives the car,\" Intel CEO Brian Krzanich wrote in a note to employees about the acquisition.',\n",
       " \"The combination, expected to close by year's end, will allow the companies to bring components to market faster at a lower cost, solidifying Mobileye's leadership position, officials from the companies said.\",\n",
       " 'Automakers and some technology companies are testing autonomous vehicles in California, Michigan and a few other states.',\n",
       " \"Nearly all use Mobileye's software, which reads inputs from cameras, radar, and laser sensors and makes decisions on what an autonomous car should do.\",\n",
       " 'Jerusalem-based Mobileye says it has contracts with 27 different automakers.',\n",
       " 'It also makes software that runs automatic emergency braking and semi-autonomous cruise control systems that are in cars and trucks on the road today.',\n",
       " 'Autonomous cars will need higher levels of connectivity to the Internet and access to bigger data centers, which Intel can provide, Krzanich said.',\n",
       " 'The two companies also will combine highly detailed mapping efforts.',\n",
       " 'Automakers, Krzanich said, want lower costs, faster times to market and the ability to get an autonomous driving system in one place.',\n",
       " '\"If you put all of that together, you really get an end-do-end solution for autonomous driving,\" said Mobileye Chairman and co-founder Amnon Shashua, who will continue to lead the combined autonomous car unit.',\n",
       " 'In the deal, Intel Corp. will pay $63.54 for each share of Mobileye N. V., a 34 percent premium to its Friday closing price.',\n",
       " 'The boards of both companies still have to approve the transaction.',\n",
       " 'The companies put the equity value of the deal at $15.3 billion.',\n",
       " 'The deal is the latest combination as automakers and technology firms race to build autonomous cars and for leadership in life-saving electronics.',\n",
       " 'Mobileye, with 660 employees, has been forming partnerships worldwide as its growth continued as a separate company.',\n",
       " 'BMW, Intel and Mobileye partnered last year, and Mobileye teamed up with Delphi Automotive to develop building blocks for a fully autonomous car.',\n",
       " 'Competitors also formed partnerships in 2016.',\n",
       " 'Ride-hailing company Uber Technologies and Volvo signed a $300 million deal for Volvo to provide SUVs to Uber for autonomous vehicle research.',\n",
       " 'General Motors Co. invested $500 million in Uber rival Lyft Inc. to develop a fleet of autonomous electric taxis.',\n",
       " 'Google has a partnership with Fiat Chrysler to work on autonomous minivans, and Volkswagen is working with Uber competitor Gett.',\n",
       " 'Ford has invested $150 million in laser sensor maker Velodyne, and it recently announced a $1 billion purchase of budding robotics startup Argo AI.',\n",
       " \"Israeli Prime Minister Benjamin Netanyahu praised the Intel acquisition of Mobileye, which he said was the largest deal in the country's history.\",\n",
       " \"He said he's been assured that the company's operations will stay in Israel.\",\n",
       " '\"The purchase dramatically proves that the vision we are leading is coming true.',\n",
       " 'Israel is turning into a global technology center, not just in cyber but also in the automotive industry,\" he said.',\n",
       " \"The combined global autonomous driving company, which includes Mobileye and Intel's autonomous driving group, will be based in Israel, supporting both companies' existing production programs and building on relationships with automakers, Tier-1 parts suppliers and semiconductor partners, the companies said.\",\n",
       " \"Mobileye's stock jumped nearly 30 percent Monday to $61.34 in morning trading.\"]"
      ]
     },
     "execution_count": 87,
     "metadata": {},
     "output_type": "execute_result"
    }
   ],
   "source": [
    "sent_tokenize(articles[3])"
   ]
  },
  {
   "cell_type": "code",
   "execution_count": 70,
   "metadata": {},
   "outputs": [
    {
     "name": "stdout",
     "output_type": "stream",
     "text": [
      "Net management fees fell by 9pc over the course of the year to $691m while performance fees dived by almost two-thirds to $112m.As a result the firm’s shares dropped by 10pc in early trading, but recovered later in the day to a more modest 1.8pc loss.In part that was due to a rise in overall assets under management which increased by 3pc to $80.9bn.The company prefers to focus on adjusted pre-tax profits, which came in at $205m, down from 2015’s profit of $400m.Chief executive Luke Ellis, who took the reins in the middle of 2016, said Man Group has “made real progress in repositioning the firm for the future” and “continued to control our cost base”.“Looking forward to 2017, we have started the year with a good pipeline of interest from clients and encouraging performance across most of our strategies as the new global political environment has created many alpha opportunities, but it remains early days in an uncertain market,” he said.\n",
      "Net management fees fell by 9pc over the course of the year to $691m while performance fees dived by almost two-thirds to $112m.As a result the firm’s shares dropped by 10pc in early trading, but recovered later in the day to a more modest 1.8pc loss.In part that was due to a rise in overall assets under management which increased by 3pc to $80.9bn.The company prefers to focus on adjusted pre-tax profits, which came in at $205m, down from 2015’s profit of $400m.Chief executive Luke Ellis, who took the reins in the middle of 2016, said Man Group has “made real progress in repositioning the firm for the future” and “continued to control our cost base”.“Looking forward to 2017, we have started the year with a good pipeline of interest from clients and encouraging performance across most of our strategies as the new global political environment has created many alpha opportunities, but it remains early days in an uncertain market,” he said.\n"
     ]
    }
   ],
   "source": [
    "print(summaries[0])\n",
    "print(articles[0])"
   ]
  },
  {
   "cell_type": "code",
   "execution_count": 44,
   "metadata": {},
   "outputs": [
    {
     "name": "stdout",
     "output_type": "stream",
     "text": [
      "Extractive summaries:\n",
      "\n"
     ]
    },
    {
     "ename": "NameError",
     "evalue": "name 'story_data' is not defined",
     "output_type": "error",
     "traceback": [
      "\u001b[0;31m---------------------------------------------------------------------------\u001b[0m",
      "\u001b[0;31mNameError\u001b[0m                                 Traceback (most recent call last)",
      "\u001b[0;32m<ipython-input-44-eaba68d59dbe>\u001b[0m in \u001b[0;36m<module>\u001b[0;34m()\u001b[0m\n\u001b[1;32m      1\u001b[0m \u001b[0mprint\u001b[0m\u001b[0;34m(\u001b[0m\u001b[0;34m\"Extractive summaries:\\n\"\u001b[0m\u001b[0;34m)\u001b[0m\u001b[0;34m\u001b[0m\u001b[0m\n\u001b[0;32m----> 2\u001b[0;31m \u001b[0;32mfor\u001b[0m \u001b[0ms1\u001b[0m \u001b[0;32min\u001b[0m \u001b[0mstory_data\u001b[0m\u001b[0;34m[\u001b[0m\u001b[0;34m'summaries_extractive'\u001b[0m\u001b[0;34m]\u001b[0m\u001b[0;34m:\u001b[0m\u001b[0;34m\u001b[0m\u001b[0m\n\u001b[0m\u001b[1;32m      3\u001b[0m     \u001b[0mprint\u001b[0m\u001b[0;34m(\u001b[0m\u001b[0ms1\u001b[0m\u001b[0;34m+\u001b[0m\u001b[0;34m\"\\n\\n\"\u001b[0m\u001b[0;34m)\u001b[0m\u001b[0;34m\u001b[0m\u001b[0m\n\u001b[1;32m      4\u001b[0m \u001b[0;34m\u001b[0m\u001b[0m\n\u001b[1;32m      5\u001b[0m \u001b[0mprint\u001b[0m\u001b[0;34m(\u001b[0m\u001b[0;34m\"3 sentence summaries:\\n\"\u001b[0m\u001b[0;34m)\u001b[0m\u001b[0;34m\u001b[0m\u001b[0m\n",
      "\u001b[0;31mNameError\u001b[0m: name 'story_data' is not defined"
     ]
    }
   ],
   "source": [
    "print(\"Extractive summaries:\\n\")\n",
    "for s1 in story_data['summaries_extractive']:\n",
    "    print(s1+\"\\n\\n\")\n",
    "\n",
    "print(\"3 sentence summaries:\\n\")\n",
    "for s2 in story_data['summaries_3sent']:\n",
    "    print(s2+\"\\n\\n\")"
   ]
  },
  {
   "cell_type": "markdown",
   "metadata": {},
   "source": [
    "## Send data to named entity extractor:"
   ]
  },
  {
   "cell_type": "code",
   "execution_count": 105,
   "metadata": {},
   "outputs": [],
   "source": [
    "summarizer_output_pickle = \"pickles/summarizer_output.pickle\"\n",
    "\n",
    "summarizer_output = {\n",
    "    'urls': story_data['urls'],\n",
    "    'titles': story_data['titles'],\n",
    "    'stories': story_data['stories'],\n",
    "    'summaries_extractive': story_data['summaries_extractive'],\n",
    "    'summaries_model': tokenized_summaries,\n",
    "    'summaries_3sent': story_data['summaries_3sent']\n",
    "}\n",
    "\n",
    "pickle.dump(summarizer_output, open(summarizer_output_pickle, \"wb\"))"
   ]
  },
  {
   "cell_type": "markdown",
   "metadata": {},
   "source": [
    "## Load NER library:"
   ]
  },
  {
   "cell_type": "code",
   "execution_count": 106,
   "metadata": {
    "scrolled": true
   },
   "outputs": [],
   "source": [
    "import sys\n",
    "sys.path.append(\"../ner\")\n",
    "\n",
    "import NERutils as ner\n"
   ]
  },
  {
   "cell_type": "markdown",
   "metadata": {},
   "source": [
    "## Showtime:"
   ]
  },
  {
   "cell_type": "code",
   "execution_count": 112,
   "metadata": {},
   "outputs": [
    {
     "name": "stdout",
     "output_type": "stream",
     "text": [
      "RUNNING TOKENIZER\n",
      "SPLITTING SENTENCES LINE BY LINE\n",
      "RUNNING MODEL\n",
      "NAMED ENTITIES:\n",
      "['Philips']\n",
      "RUNNING TOKENIZER\n",
      "SPLITTING SENTENCES LINE BY LINE\n",
      "RUNNING MODEL\n",
      "NAMED ENTITIES:\n",
      "['Musk', 'Elon Musk']\n",
      "RUNNING TOKENIZER\n",
      "SPLITTING SENTENCES LINE BY LINE\n",
      "RUNNING MODEL\n",
      "NAMED ENTITIES:\n",
      "[]\n"
     ]
    }
   ],
   "source": [
    "all_orgs = []\n",
    "\n",
    "for story in detokenized_summaries:\n",
    "    storyCombined = story.replace('\\n', ' ')\n",
    "\n",
    "    print('RUNNING TOKENIZER')\n",
    "    storyTokenized = tokenize.word_tokenize(storyCombined)\n",
    "\n",
    "    print('SPLITTING SENTENCES LINE BY LINE')\n",
    "    split = ner.sentenceSplitter(storyTokenized)\n",
    "\n",
    "    inputFile = open(r'../ner/input.txt','w')\n",
    "    ner.writeArticle(split,inputFile)\n",
    "    inputFile.close()\n",
    "\n",
    "    print('RUNNING MODEL')\n",
    "    os.system('python2.7 ../ner/tagger-master/tagger.py --model ../ner/tagger-master/models/english/ --input ../ner/input.txt --output ../ner/output.txt')\n",
    "\n",
    "    with open(r'../ner/output.txt','r') as namedStory:\n",
    "        namedStory=namedStory.read().replace('\\n', ' ')\n",
    "\n",
    "    print('NAMED ENTITIES:')\n",
    "    orgs  = ner.findNamedEntities(namedStory.split(' '))\n",
    "    all_orgs.append(orgs)\n",
    "    print(orgs)\n"
   ]
  },
  {
   "cell_type": "code",
   "execution_count": 113,
   "metadata": {},
   "outputs": [
    {
     "data": {
      "text/plain": [
       "[['Philips'], ['Musk', 'Elon Musk'], []]"
      ]
     },
     "execution_count": 113,
     "metadata": {},
     "output_type": "execute_result"
    }
   ],
   "source": [
    "all_orgs"
   ]
  },
  {
   "cell_type": "code",
   "execution_count": 114,
   "metadata": {},
   "outputs": [
    {
     "data": {
      "text/plain": [
       "[\"Lenders will take control of the Nashville-based company, which was founded in 1902. it made an ill-fated acquisition of Philips' consumer audio division four years ago for $135m. the firm makes its electric guitars in Nashville and Memphis, while its acoustic guitars are manufactured in Bozeman, Montana.\",\n",
       " \"analysts: Elon Musk got testy with analysts amid concerns over company's future. Tesla investors gave a rare rebuke to Musk after he cut off analysts asking about future profit potential. Tesla investors gave a rare rebuke to Musk after he cut off analysts asking about future profit potential.\",\n",
       " 'irreparable Aibo robotic dogs are marked in much the same way as that of humans. the demise of irreparable Aibo robotic dogs is marked in much the same way as that of humans. the firm stopped repairing malfunctioning Aibo in 2014, leaving owners whose pets were beyond repair unsure.']"
      ]
     },
     "execution_count": 114,
     "metadata": {},
     "output_type": "execute_result"
    }
   ],
   "source": [
    "detokenized_summaries"
   ]
  },
  {
   "cell_type": "code",
   "execution_count": null,
   "metadata": {},
   "outputs": [],
   "source": []
  }
 ],
 "metadata": {
  "kernelspec": {
   "display_name": "tensorflow",
   "language": "python",
   "name": "tensorflow"
  },
  "language_info": {
   "codemirror_mode": {
    "name": "ipython",
    "version": 3
   },
   "file_extension": ".py",
   "mimetype": "text/x-python",
   "name": "python",
   "nbconvert_exporter": "python",
   "pygments_lexer": "ipython3",
   "version": "3.6.4"
  }
 },
 "nbformat": 4,
 "nbformat_minor": 2
}
