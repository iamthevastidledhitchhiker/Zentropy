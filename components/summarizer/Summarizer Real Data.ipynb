{
 "cells": [
  {
   "cell_type": "code",
   "execution_count": 6,
   "metadata": {},
   "outputs": [
    {
     "name": "stdout",
     "output_type": "stream",
     "text": [
      "The autoreload extension is already loaded. To reload it, use:\n",
      "  %reload_ext autoreload\n"
     ]
    }
   ],
   "source": [
    "%load_ext autoreload\n",
    "%autoreload 2\n",
    "\n",
    "import summarizer_utils as sutils\n",
    "import story_converter as sconv\n",
    "import pickle\n",
    "import nltk.tokenize as tokenize\n",
    "import os\n",
    "from nltk.tokenize.moses import MosesDetokenizer\n",
    "import pandas as pd\n",
    "import re\n",
    "\n",
    "DATA_PATH = '../../data/'"
   ]
  },
  {
   "cell_type": "markdown",
   "metadata": {},
   "source": [
    "## Get the test data:"
   ]
  },
  {
   "cell_type": "code",
   "execution_count": 2,
   "metadata": {
    "scrolled": true
   },
   "outputs": [
    {
     "name": "stdout",
     "output_type": "stream",
     "text": [
      "08:45 31 January 2017Ravender SembhyAround 400 staff are expected to transfer following the sale by Royal Dutch Shell of a package of assets in the North Sea to Chrysaor in a deal valued at up to £3bn. Photo: Yui Mok/PA WireRoyal Dutch Shell is to sell off a package of North Sea assets for up to 3.8bn US dollars (£3bn) to smaller rival Chrysaor as it continues its divestment drive. The oil giant’ s interests in Buzzard, Beryl, Bressay, Elgin-Franklin, J-Block, the Greater Armada cluster, Everest, Lomond and Erskine, plus a 10% stake in Schiehallion, will all be offloaded as part of the deal. Around 400 staff are expected to transfer to Chrysaor on their existing terms and conditions of employment. Shell will pocket an initial 3bn US dollars, followed by a payment of up to 600m US dollars between 2018 and 2021, subject to commodity prices, with potential further payments of up to 180m US dollars for future discoveries. The company said it would record an “accounting gain” on the sale of the assets, which pump out a total of 115,000 barrels of oil per day. Shell’s total North Sea production during 2016 was around 211,000 barrels per day. On completion of the deal Chrysaor, backed by private equity firm EIG, will become one of the largest producers of oil and gas in the UK. Andy Brown, Shell’s upstream director, said the firm remains committed to the North Sea: “Shell has a long and proud history in the UK North Sea, to which we remain committed.“This deal complements the great strides we have made over the last two years in improving the competitiveness of our UK upstream business,” he said.“We believe this deal is a vote of confidence in the UK North Sea and offers proof that the industry’s increasing competitiveness, and improvements to the fiscal and regulatory regime, are starting to produce positive results.“It also contributes to the UK’s goal of maximising economic recovery of oil and gas from the UK North Sea, which will continue to be a source of energy, and revenue, for the country for many years to come.”Shell, which completed a 50bn US dollars (£38bn) acquisition of BG Group last year, is embarking on an ambitious cost-cutting drive and a 30bn US dollars (£24.6bn) divestment initiative.\n",
      "B6AF366948232B17C4F9EB31A14EE78C\n"
     ]
    }
   ],
   "source": [
    "article_df = pd.read_csv(DATA_PATH + 'test_data.csv')\n",
    "\n",
    "def remove_date_title_and_id(s):\n",
    "    _s = s.split('\\n')\n",
    "    return ''.join(_s[3:])\n",
    "\n",
    "\n",
    "#replace period followed by a capital with a period space capital\n",
    "def fix_periods(s):\n",
    "    fixed = re.sub('\\.([A-Z])', '. \\g<1>', s)\n",
    "    return fixed\n",
    "\n",
    "articles = article_df['full_text'].apply(remove_date_title_and_id)\n",
    "articles = articles.apply(fix_periods)\n",
    "\n",
    "#date_and_id_regex = '^[0-9]{8}[\\n][A-Z0-9]{32}[\\n]'\n",
    "ids = article_df['docno_x']\n",
    "\n",
    "\n",
    "def load_test_data(csv_file):\n",
    "    article_df = pd.read_csv(csv_file)\n",
    "    \n",
    "    articles = article_df['full_text'].apply(remove_date_title_and_id)\n",
    "    articles = articles.apply(fix_periods)\n",
    "    \n",
    "    ids = article_df['docno_x']\n",
    "    \n",
    "    return articles, ids\n",
    "\n",
    "articles, ids = load_test_data(DATA_PATH + 'test_data.csv')\n",
    "\n",
    "print(articles[5])\n",
    "print(ids[5])"
   ]
  },
  {
   "cell_type": "code",
   "execution_count": 3,
   "metadata": {},
   "outputs": [
    {
     "name": "stdout",
     "output_type": "stream",
     "text": [
      "Processing story number: 1\n",
      "Processing story number: 26\n"
     ]
    },
    {
     "data": {
      "text/plain": [
       "[\"Net management fees fell by 9pc over the course of the year to $ 691m while performance fees dived by almost two-thirds to $ 112m . As a result the firm 's shares dropped by 10pc in early trading , but recovered later in the day to a more modest 1.8 pc loss . In part that was due to a rise in overall assets under management which increased by 3pc to $ 80.9 bn . The company prefers to focus on adjusted pre-tax profits , which came in at $ 205m , down from 2015 's profit of $ 400m . Chief executive Luke Ellis , who took the reins in the middle of 2016 , said Man Group has `` made real progress in repositioning the firm for the future '' and `` continued to control our cost base '' . `` Looking forward to 2017 , we have started the year with a good pipeline of interest from clients and encouraging performance across most of our strategies as the new global political environment has created many alpha opportunities , but it remains early days in an uncertain market , '' he said .\",\n",
       " \"Tue , 17th Jan 2017 07:07 -LRB- ShareCast News -RRB- - British American Tobacco took the plastic film off another industry consolidation effort on Tuesday , announcing it was buying the 57.8 % of Reynolds American it does n't already own in an agreed cash-and-shares offer worth $ 49.4 bn . The FTSE 100 company said the deal has been unanimously approved by the transaction committee of independent Reynolds directors established to evaluate the BAT offer , and by the boards of Reynolds and BAT . Under the offer , Reynolds shareholders will receive $ 29.44 in cash and 0.5260 BAT ordinary shares for each Reynolds share , with the BAT shares represented by American Depository Receipts listed on the New York Stock Exchange . Based on BAT 's share price and the dollar-sterling exchange rate as at market close on 16 January , the figures imply a total current value of $ 59.64 per Reynolds share and a total current value of approximately $ 49.4 bn for the 57.8 % of Reynolds not already owned by BAT . It also represents a premium of 26 % over the closing price of Reynolds common stock on 20 October 2016 , being the last day prior to BAT 's announcement of a proposal to merge with Reynolds , according to the board of BAT . NYSE-listed Level III ADRs representing BAT ordinary shares will be issued following registration under US securities laws , it confirmed . `` We are very pleased to have reached an agreement with the transaction committee and board of Reynolds and we look forward to putting the recommended offer to shareholders , '' said British American Tobacco chief executive Nicandro Durante . `` We have been shareholders in Reynolds since 2004 and we have benefited from the success of the present management team 's strategy , including its acquisition of Lorillard , which we supported with our own investment in 2015 . `` Durante said BAT has consistently executed a `` winning strategy '' and has a proven track record of delivering strong results and returns for its shareholders while successfully investing for future growth . `` Our combination with Reynolds will benefit from utilising the best talent from both organisations . `` It will create a stronger , global tobacco and NGP business with direct access for our products across the most attractive markets in the world , '' Durante explained . `` We believe this will drive continued , sustainable profit growth and returns for shareholders long into the future . `` FREE Member Services - Setup a personalised Watchlist and Virtual Portfolio . - Gain access to LIVE real-time Regulatory News -LRB- RNS -RRB- . - View more Trades , Directors ' Deals , and Broker Ratings .\",\n",
       " \"LONDON -- Glencore PLC rode a wave of surging commodity prices in 2016 to return to a profit of $ 1.4 billion , marking a head-snapping turnaround for a miner that faced an investor revolt just 18 months ago . With cash hordes now burgeoning at the world 's No. 4 mining company by market value , Chief Executive Ivan Glasenberg now faces a tough decision : start splurging on new mergers or acquisitions , or return the rewards to shareholders in the form of dividends . Mr. Glasenberg -- known as one of the mining industry 's most voracious deal-makers -- appears to be leaning in a surprising direction : dividends . `` I do n't think there 's big stuff around to look at , but we 'll see what opportunities come , '' the CEO said about potential deals on a conference call with reporters Thursday . `` If we do n't find big opportunities , we 'll kick out big dividends . `` Mr. Glasenberg said Glencore could eventually contemplate returning a special dividend to shareholders as high as $ 20 billion , a move that would benefit the CEO who , along with other senior management , is a major shareholder . The company earlier said it plans to pay out $ 1 billion in dividends in 2017 . Shares in the company were up more than 4 % in early-afternoon trading in London . It is a big change for the swashbuckling executive known for pulling off some of the biggest deals in the industry , including the $ 29.5 billion deal to merge with Xstrata in 2013 . Two years ago , the talk of the industry was a potential merger between Glencore and Anglo-Australian behemoth Rio Tinto PLC , a deal that would likely have created the biggest mining company in the world . The more conservative approach could raise questions about whether Glencore 's days of meteoric growth are behind it . Since its IPO in 2011 , Glencore had been distinct from other mining giants like BHP Billiton Ltd. , which were attractive to investors for steady dividends . By contrast , Mr. Glasenberg offered a narrative of deals and earnings buoyed by the company 's powerful trading unit . Mr. Glasenberg 's emphasis on dividends is `` a shift in focus for Glencore , '' said John Meyer , an analyst for SP Angel in London . `` Glencore has traditionally been highly acquisitive . '' Now , a tighter balance sheet is causing Glencore 's strategy to shift `` to one of cash generation , debt reduction and cash returns to shareholders , '' he said . It is the latest sign of how much Glencore has changed in the past year and a half . Back in the summer of 2015 , its share price took a dip , including a 29 % drop in one day , as investors punished the company for high debt levels amid what was then a brutal downturn in commodity prices . Since then , Glencore pared back debt , cut spending and sold off $ 4.7 billion in assets in an effort to mend its debt-laden balance sheet . A sharp rise in commodity prices last year also helped boost the firm 's cash flow , with metallurgical coal almost tripling and copper 27 % higher . On Thursday , Glencore reported net income of $ 1.4 billion for 2016 , compared with a $ 4.9 billion net loss the previous year . Net debt fell to $ 15.5 billion by year-end from $ 25.9 billion at the end of 2015 , below the lower end of the range of its guidance of $ 16.5 billion to $ 17.5 billion . Glencore 's earnings are the latest positive sign from the mining sector . BHP Billiton and Anglo American PLC earlier this week also returned to profit . On Thursday , Vale , the Brazilian mining giant , said it returned to a net profit of $ 525 million in the fourth quarter of 2016 . Mr. Glasenberg said reduced supplies in key commodities such as copper , coal and zinc were a big reason why commodities soared in 2016 . The CEO has long criticized his competitors for ramping up supplies in the face of falling prices . Glencore in the past few years has cut back production in its zinc , copper and coal operations , moves Mr. Glasenberg said provided support for the prices of those commodities . `` There was n't this massive new increase in supply '' last year , Mr. Glasenberg said . `` You saw voluntary cutbacks , ourselves , we were one of the leaders . `` Glencore said its trading business posted earnings before interest and taxes of $ 2.8 billion last year , a 14 % gain from 2015 , amid stronger demand , particularly from China , and drops in inventory levels . It expects its trading group to report adjusted earnings in the range of $ 2.2 billion and $ 2.5 billion in 2017 . That is lower than previous years ' guidance of as much as $ 3.2 billion , due to its sale of half of its agriculture division last year . Write to Scott Patterson at scott.patterson@wsj.com\",\n",
       " \"SANTA CLARA , Calif. -LRB- AP -RRB- -- Intel will buy Israel 's Mobileye in a deal valued at about $ 15 billion , instantly propelling the computer chip and technology giant to the forefront of autonomous vehicle technology . The deal announced Monday combines Mobileye 's market-leading software that processes information from cameras and other sensors with Intel 's hardware , data centers and its own software , giving automakers a one-stop place to shop for fully autonomous car systems . `` This acquisition essentially merges the intelligent eyes of the autonomous car with the intelligent brain that actually drives the car , '' Intel CEO Brian Krzanich wrote in a note to employees about the acquisition . The combination , expected to close by year 's end , will allow the companies to bring components to market faster at a lower cost , solidifying Mobileye 's leadership position , officials from the companies said . Automakers and some technology companies are testing autonomous vehicles in California , Michigan and a few other states . Nearly all use Mobileye 's software , which reads inputs from cameras , radar , and laser sensors and makes decisions on what an autonomous car should do . Jerusalem-based Mobileye says it has contracts with 27 different automakers . It also makes software that runs automatic emergency braking and semi-autonomous cruise control systems that are in cars and trucks on the road today . Autonomous cars will need higher levels of connectivity to the Internet and access to bigger data centers , which Intel can provide , Krzanich said . The two companies also will combine highly detailed mapping efforts . Automakers , Krzanich said , want lower costs , faster times to market and the ability to get an autonomous driving system in one place . `` If you put all of that together , you really get an end-do-end solution for autonomous driving , '' said Mobileye Chairman and co-founder Amnon Shashua , who will continue to lead the combined autonomous car unit . In the deal , Intel Corp. will pay $ 63.54 for each share of Mobileye N. V. , a 34 percent premium to its Friday closing price . The boards of both companies still have to approve the transaction . The companies put the equity value of the deal at $ 15.3 billion . The deal is the latest combination as automakers and technology firms race to build autonomous cars and for leadership in life-saving electronics . Mobileye , with 660 employees , has been forming partnerships worldwide as its growth continued as a separate company . BMW , Intel and Mobileye partnered last year , and Mobileye teamed up with Delphi Automotive to develop building blocks for a fully autonomous car . Competitors also formed partnerships in 2016 . Ride-hailing company Uber Technologies and Volvo signed a $ 300 million deal for Volvo to provide SUVs to Uber for autonomous vehicle research . General Motors Co. invested $ 500 million in Uber rival Lyft Inc. to develop a fleet of autonomous electric taxis . Google has a partnership with Fiat Chrysler to work on autonomous minivans , and Volkswagen is working with Uber competitor Gett . Ford has invested $ 150 million in laser sensor maker Velodyne , and it recently announced a $ 1 billion purchase of budding robotics startup Argo AI . Israeli Prime Minister Benjamin Netanyahu praised the Intel acquisition of Mobileye , which he said was the largest deal in the country 's history . He said he 's been assured that the company 's operations will stay in Israel . `` The purchase dramatically proves that the vision we are leading is coming true . Israel is turning into a global technology center , not just in cyber but also in the automotive industry , '' he said . The combined global autonomous driving company , which includes Mobileye and Intel 's autonomous driving group , will be based in Israel , supporting both companies ' existing production programs and building on relationships with automakers , Tier-1 parts suppliers and semiconductor partners , the companies said . Mobileye 's stock jumped nearly 30 percent Monday to $ 61.34 in morning trading .\",\n",
       " \"Stalwarts such as Sears -LRB- SHLD -RRB- and JCPenney -LRB- JCP -RRB- sit on the brink of extinction . More current names like Macy 's -LRB- M -RRB- , Kohl 's -LRB- KSS -RRB- and Target -LRB- TGT -RRB- are getting hammered as business continues to shift away from traditional brick-and-mortar to towards the online channel . On area that Amazon had n't ventured too far into yet was the grocery space . Sure , it has the AmazonFresh grocery delivery service in several larger markets and the recently debuted checkout-less Amazon Go store in Seattle , but the company 's presence in groceries has been relatively muted . That changed in a big way today when Amazon announced its intent to purchase Whole Foods -LRB- WFM -RRB- in an all-cash deal that could ultimately be driving another nail into the retail sector 's coffin . The grocery industry is a notoriously thin margin business , so it begs the question why it wants to enter an area of the market that may end up paying little in the way of dividends . I think there are a couple of reasons for this . First , if there 's one thing that we 've learned over Amazon 's 20-year history as a publicly traded company is that it 's never been terribly interested in the bottom line . Jeff Bezos has always been plowing all available resources into growing the company into a global behemoth . What started as an online bookstore now sells everything from furniture to electronics to apparel and operates the world 's largest cloud infrastructure business , Amazon Web Services . Amazon is not interested in generating profits . It 's interested in being involved in every aspect of your daily life . And that , I believe , is the real reason why Amazon targeted Whole Foods . Groceries is perhaps the one area of the market the company really does n't have a foothold in yet . Since they want to be all things to all people , it makes sense to try to own this area of the market too . And since the company essentially wants to dominate every area it operates in , it 's not surprising they decided to acquire a big player in the space in order to get things moving quickly . The online grocery delivery business has largely failed up to this point . Peapod , probably the most famous online grocery delivery service , has been around longer than Amazon and still only operates in 11 states plus the District of Columbia . Can Amazon grow adoption of online grocery delivery ? It certainly has the scale and the infrastructure to make it happen and the Amazon name alone may be the biggest competitive advantage it has to growing this segment of the market . Looking at the broader retail picture again , there seems to be little reason for optimism within the rest of the sector . While clothing and home goods retailers were struggling , Kroger was a bright spot . From the beginning of 2012 through the end of 2015 , the stock was up roughly 250 % . After Friday 's move , it 's now down about 50 % from that high point . The grocery business has never been a growth industry , but at least it was relatively steady . Like many other niches within the retail space , that stability now appears gone with Amazon 's big move into the space . The SPDR S&P Retail ETF -LRB- XRT -RRB- is the obvious play on the sector . It 's down about 10 % on the year and has a portfolio of around 100 names spread across many areas within the industry . The VanEck Vectors Retail ETF -LRB- RTH -RRB- is up around 6 % year-to-date thanks to its 17 % position in Amazon . Walmart , Costco , Kroger and Target , all stocks that have been hit hard on Friday , comprise another 20 % of the fund . The Amplify Online Retail ETF -LRB- IBUY -RRB- is an interesting way to play the transition to online . It 's up around 27 % this year . The SPDR S&P Retail ETF -LRB- NYSE : XRT -RRB- closed at $ 39.97 on Friday , down $ -0.69 -LRB- -1.70 % -RRB- . Year-to-date , XRT has declined -9.30 % , versus a 8.55 % rise in the benchmark S&P 500 index during the same period . XRT currently has an ETF Daily News SMART Grade of C -LRB- Neutral -RRB- , and is ranked # 35 of 45 ETFs in the Consumer-Focused ETFs category . About the Author : David DierkingDavid Dierking is a freelance writer focusing primarily on ETFs , mutual funds , dividend income strategies and retirement planning . He has spent more than 20 years in the financial services industry and his background includes experience in investment management , portfolio analytics and asset/liability management at both BMO Financial Group and Strong Capital Management . He has written for Seeking Alpha , Motley Fool , ETF Trends and Investopedia and was also included in the panel for ETFReference.com 's `` 101 ETF Investing Tips from the Experts '' . He has a B. A. in Finance from Michigan State University and lives in Wisconsin with his wife and two daughters . You can connect with David on Twitter and LinkedIn . Also be sure to visit his new website , ETFFocus.com .\",\n",
       " \"08:45 31 January 2017Ravender SembhyAround 400 staff are expected to transfer following the sale by Royal Dutch Shell of a package of assets in the North Sea to Chrysaor in a deal valued at up to # 3bn . Photo : Yui Mok/PA WireRoyal Dutch Shell is to sell off a package of North Sea assets for up to 3.8 bn US dollars -LRB- # 3bn -RRB- to smaller rival Chrysaor as it continues its divestment drive . The oil giant ' s interests in Buzzard , Beryl , Bressay , Elgin-Franklin , J-Block , the Greater Armada cluster , Everest , Lomond and Erskine , plus a 10 % stake in Schiehallion , will all be offloaded as part of the deal . Around 400 staff are expected to transfer to Chrysaor on their existing terms and conditions of employment . Shell will pocket an initial 3bn US dollars , followed by a payment of up to 600m US dollars between 2018 and 2021 , subject to commodity prices , with potential further payments of up to 180m US dollars for future discoveries . The company said it would record an `` accounting gain '' on the sale of the assets , which pump out a total of 115,000 barrels of oil per day . Shell 's total North Sea production during 2016 was around 211,000 barrels per day . On completion of the deal Chrysaor , backed by private equity firm EIG , will become one of the largest producers of oil and gas in the UK . Andy Brown , Shell 's upstream director , said the firm remains committed to the North Sea : `` Shell has a long and proud history in the UK North Sea , to which we remain committed . `` This deal complements the great strides we have made over the last two years in improving the competitiveness of our UK upstream business , '' he said . `` We believe this deal is a vote of confidence in the UK North Sea and offers proof that the industry 's increasing competitiveness , and improvements to the fiscal and regulatory regime , are starting to produce positive results . `` It also contributes to the UK 's goal of maximising economic recovery of oil and gas from the UK North Sea , which will continue to be a source of energy , and revenue , for the country for many years to come . '' Shell , which completed a 50bn US dollars -LRB- # 38bn -RRB- acquisition of BG Group last year , is embarking on an ambitious cost-cutting drive and a 30bn US dollars -LRB- # 24.6 bn -RRB- divestment initiative .\",\n",
       " \"Tesco has been hit with a # 129 million fine from the Serious Fraud Office -LRB- SFO -RRB- , but has escaped prosecution over its accounting scandal . The supermarket giant said its subsidiary - Tesco Stores - has reached a Deferred Prosecution Agreement with the SFO following a two-year investigation into false accounting at the firm . The move means Britain 's biggest supermarket will escape prosecution as long as it `` fulfils certain requirements '' , including paying a hefty penalty .\",\n",
       " 'Hewlett Packard Enterprise -LRB- HPE -RRB- announced Tuesday that it has entered into a definitive agreement to acquire Nimble Storage -LRB- NMBL -RRB- for $ 12.50 per share in cash with a net cash purchase price of $ 1.0 billion . Nimble Storage has gapped open dramatically higher this morning and is now up 3.89 at $ 12.49 on the highest volume of the year . The stock has soared to a new high for the year.by RTT Staff WriterFor comments and feedback : editorial@rttnews.comBusiness News',\n",
       " \"Hindustan Motors has sold off its iconic Ambassador brand to France-based auto maker Peugeot SA for Rs 80 crore . The French company has formed an alliance with the CK Birla Group and will be producing cars at Hindustan Motors ' plant in Thiruvallur , Tamil Nadu . Hindustan Motors -LRB- HM -RRB- , the Kolkata-based automobile maker , introduced the Ambassador in 1954 as the Hindustan Landmaster . It was then replaced with the Hindustan Ambassador Mark-1 , which was the first car to be built in India , at a plant in Uttarpara near Kolkata .\",\n",
       " \"10:54 am January 27 , 2017 By Roland HutchinsonFord has announced the launch if a new gadget that will bring connected features to older cars , the Ford SmartLink . The device will allow you to bring a range of connected feature to vehicles from 2010 to 2016 that do n't come with these features . Ford SmartLink will surprise and delight owners of recent model-year vehicles by adding some of today 's most popular connectivity features '' said Stephen Odell , executive vice president , Global Marketing , Sales and Service . `` Offering it through our dealerships is another way to keep us connected with our customers and earn their loyalty . '' With more than two years of research and development invested , the Ford SmartLink team of engineers , in collaboration with Delphi Automotive and Verizon Telematics , have ensured the technology will work seamlessly with Ford and Lincoln vehicles . You can find out more details about the new Ford SmartLink over at Ford at the link below , the device will go on sale a Ford and Lincoln dealers in the US this summer , as yet there are no details on pricing . Source FordPopular Geeky Gadgets Deals\",\n",
       " \"LONDON : As they guided Europe 's largest oil companies through the industry 's worst slump in two decades , the bosses of Royal Dutch Shell Plc and BP Plc had a simple message for investors : we 'll protect the dividend at all costs . Not everyone is convinced they 'll be able to keep their word . Even after they raised billions of dollars by cutting costs , selling assets and adding debt , cash is pouring out of both companies in the form of hefty shareholder dividends . Yields on those payments - which fell through 2016 as crude started to recover - have risen this year , typically a signal that investors fear a cut in payouts . `` BP and Royal Dutch Shell have unsustainable dividends , '' Neil Woodford , head of investment at Woodford Investment Management Ltd , who manages about US$ 20bil , wrote in a blog . `` These companies are liquidating themselves rather than facing up to the need for a dividend cut . The only thing that can save them from that eventuality is a return to sustainably higher oil prices , `` something that I think is very unlikely to happen . '' BP shelled out US$ 4.6 bil in cash dividends last year , on top of US$ 16bil in capital spending , according to a presentation last month . It failed to generate enough cash from operations to match that outlay . Shell 's cash also fell short as project spending reached US$ 22bil and cash dividends US$ 9.7 bil . While crude rebounded more than 50 % in 2016 , prices have since slid this year as US production and inventories climb . Global benchmark Brent traded at US$ 52.48 a barrel at 2:03 pm . Singapore time . The price decline has weighed on the shares of Europe 's majors , with London-based BP down 9.5 % this year and The Hague-based Shell losing 5.4 % . This week BP 's dividend yield - the annual return divided by the share price - rose to the highest this year . It 's now at 7.1 % , compared with 6.2 % at the end of 2016 . Shell 's yield has risen to 6.5 % from 5.9 % . Dividends from Big Oil have been in the spotlight since crude 's 2014-2015 slump decimated cash and profits . Shell and BP have long deemed the payouts sacrosanct - Shell has n't cut its dividend since at least the Second World War - and have increased debt and sold assets to show investors that payments will be maintained . Yet some competitors have caved in . Italian peer Eni SpA capitulated when its dividend yield was 7.2 % , becoming the first major oil company to reduce its payout in 2015 . Spain 's Repsol SA followed , cutting its final 2015 dividend when it was yielding 8.8 % . The average yield for the UK benchmark FTSE 100 index is currently 3.83 % . Shell chief executive officer Ben van Beurden said earlier this year that free cash flow `` more than covered our cash dividend '' in the last quarter and `` there is no change in the dividend intention . '' The company declined to comment beyond that statement this week . BP also declined to comment . In February , CEO Bob Dudley said the dividend remains a top priority and BP is `` sustaining and strengthening '' the payout . `` The companies have spent a lot of time trying to convince shareholders about the dividend but not everyone believes them , '' said Iain Armstrong , an analyst at Brewin Dolphin Ltd , which owns BP and Shell shares . `` If and when oil goes to US$ 60 , people will really start to believe the dividend is safe . '' BP 's Dudley has spent most of his six-year tenure divesting assets , but BP went on a spending spree at the end of 2016 - taking in assets around Africa and the Middle East - which will result in a cash shortfall this year if oil stays below US$ 60 a barrel . -- Bloomberg\",\n",
       " \"Ford is spending big to up its game in the artificial intelligence -LRB- AI -RRB- sector . The US carmaker said it will invest $ 1bn -LRB- # 800m -RRB- over the next five years in Argo AI , an AI software and robotics technology startup , to support its autonomous vehicle development . Pittsburgh-based Argo AI , which was founded by former Google and Uber leaders , will work to develop a new software platform for Ford , strengthening its self-driving offering , Ford said in an announcement late last night . Ford 's investment will make it the tech firm 's largest shareholder . The new virtual driver system will be put into Ford 's fully autonomous vehicle that 's set to come by 2021 - and the carmaker hopes to license the technology out to other companies . Read more : Uber 's created its very own lab for researching artificial intelligenceFord president and chief executive Mark Fields likened the impact of the automation of cars on society to that of Ford 's original assembly line 100 years ago . He added : `` As Ford expands to be an auto and a mobility company , we believe that investing in Argo AI will create significant value for our shareholders by strengthening Ford 's leadership in bringing self-driving vehicles to market in the near term and by creating technology that could be licensed to others in the future . `` Argo AI chief executive Bryan Salesky said : `` We are energised by Ford 's commitment and vision for the future of mobility , and we believe this partnership will enable self-driving cars to be commercialised and deployed at scale to extend affordable mobility to all . `` Ford has previously said it 's bringing its self-driving cars to European roads this year for testing . Read more : This patent is a major hint Amazon 's entering the self-driving vehicle race\",\n",
       " \"Electric vehicle chargers are becoming increasingly commonplace . That 's good news for current and would-be owners of electric cars . However , a charger is only useful if you can actually park your car next to it . To help maximize the availability of its own Superchargers , Tesla 's introducing a new , $ 0.40 per-minute charge for anyone who leaves their car sitting there after it has completed charging .66 Tesla Model 3 unveiled , deliveries begin late 2017 -LRB- pictures -RRB- Tesla 's Supercharger network , which now stretches coast-to-coast and has achieved surprising penetration into even rural US , allows current Model S owners to quickly re-charge their cars completely for free . In just about 20 minutes a car can get a 50-percent charge , or slightly over an hour to full . However , many people plug their cars in and go shopping , see a movie or , indeed , have a friend pick them up and go somewhere else . This leaves a charger occupied for much longer than is strictly necessary . `` We envision a future where cars move themselves once fully charged , enhancing network efficiency and the customer experience even further , '' Tesla 's statement today says . `` Until then , we ask that vehicles be moved from the Supercharger once fully charged . A customer would never leave a car parked by the pump at a gas and the same thinking applies with Superchargers . `` TeslaThe so-called `` idle fee '' will be $ 0.40 per minute , but if the car is moved within five minutes of the charge completing that charge will be waived . The Tesla app will give you real-time status updates and keep you from going broke -- just do n't turn your phone off before running into that Star Wars marathon . Oh , and if you need additional help in not being a jerk at the EV charger of your choice , do n't worry : we 've got you covered .\",\n",
       " \"The 500 new jobs at its London headquarter would be added next year , Facebook announced on Monday , taking its UK workforce to a total of 1,500 staffBritain remained `` one of the best places to be a tech company , '' said Facebook 's vice president for Europe , the Middle East and Africa , Nicola Mendelsohn , with London being an important part of Facebook 's story . `` We came to London in 2007 with just a handful of people , by the end of next year we will have opened a new HQ and plan to employ 1,500 people , '' she added in a statement . `` Many of those new roles will be high skilled engineering jobs as the UK is home to our largest engineering base outside of the US . `` Defiant movesLondon Mayor Sadiq Khan welcomed the news from the US giant . `` Facebook 's decision to expand in London is further evidence that London 's strength as a tech hub keeps on growing , '' Khan said , adding that London 's vibrant tech scene was the envy of Europe . `` Facebook 's continuing commitment is another sign that London is open to talent , innovation and entrepreneurship from all four corners of the world . `` The announcement came one week after US search engine Google confirmed it would expand its vast London campus in a move that could bring 3,000 more jobs . Google revealed it would add a new office building to a complex currently under development behind London 's King 's Cross train station . A total of 7,000 Google staff would eventually be working at the hub , which was set to open in 2018 . Facebook 's new London office is currently under construction in the central district of Fitzrovia and planned to be opened next year.uhe / jd -LRB- Reuters , AFP -RRB-\",\n",
       " \"LONDON -- American cladding maker Arconic said Monday it is discontinuing global sales of one type of composite paneling for use on high-rise buildings following the deadly fire at a London apartment tower as Britain 's government sought to manage a burgeoning fire safety crisis . Arconic said in a statement that Reynobond PE would no longer be sold for use in high-rise buildings . The company also makes another style of cladding -- Reynobond FR -- which is fire-resistant . `` We believe this is the right decision because of the inconsistency of building codes across the world and issues that have arisen in the wake of the Grenfell Tower , '' Arconic said in a statement . `` We will continue to fully support the authorities as they investigate this . '' The cladding -- panels widely used to insulate buildings and improve their appearance -- may have been a factor in rapidly spreading the June 14 blaze that killed at least 79 people trapped in the 24-story Grenfell Tower . The U. K. government is scrambling to test panels similar to those used at the destroyed tower , hoping to better understand the national fire safety implications . Arconic 's announcement came as Britain 's government announced that 75 buildings had failed cladding combustibility tests in 26 local authority areas . Communities and Local Government Secretary Sajid Javid said every building tested so far had failed . `` The fact that all samples so far have failed underlines the value of the testing program and the vital importance of submitting samples urgently , '' Javid said . `` I am concerned about the speed at which samples are being submitted . '' Fire officials are checking the safety of thousands of buildings nationwide amid fears by residents that what happened at Grenfell could happen to them . Thousands of people have been evacuated from four high-rises in north London after inspectors found myriad safety problems that included faulty fire doors and troubles with gas pipe insulation as well as the cladding . Hospitals and school buildings across Britain will also have their exterior cladding tested for flammability as part of an urgent nationwide push to increase fire safety . Meanwhile , Britain 's government says it is donating 1 million pounds -LRB- $ 1.27 million -RRB- to the charitable response to the fatal fire . Javid said the figure recognizes that small charities and not-for-profit organizations are making a contribution to the relief effort . The government is also giving 48,000 pounds -LRB- $ 61,000 -RRB- to support an assistance venue , the Westway Center . The funding is in addition to 5 million pounds -LRB- $ 6.4 million -RRB- provided for the Grenfell Tower Residents ' Discretionary Fund .\",\n",
       " \"SAN FRANCISCO With the release of a new video app called Clips , Apple Inc is inching one step closer to fully engaging in the messaging world , where its huge base of iPhone users could help it compete with Snap Inc 's Snapchat and Facebook Inc 's Messenger . Clips , which will hit Apple 's App Store in April , lets customers take videos and add animated captions and titles , complete with colorful emoji symbols . The app also makes it possible to stitch together multiple video clips and add speech bubbles and filters . The functions closely resemble those that drive Snap 's wildly popular Stories feature . With Stories , Snap users string together photos and videos , embellish them and then post them to their feeds . Apple 's new Clips lets users post their video to Instagram , Facebook , YouTube , Vimeo and more . But if users post them to Apple 's own Messages app , Apple will recommend whom to share it with based on which friends are in the videos and whom the user frequently contacts - the kind of predictive social features Facebook excels at . Apple has a huge number of users for Messages , the flagship app for short notes that is built into the iPhone 's iOS 10 software . Apple does not say how many people use the app , but it does say that there more than 1 billion iOS devices on the market and that 79 percent of them run iOS 10 . Apple also says that Messages is the most commonly used app on iOS devices , giving the company potentially up to 800 million users for its latest messaging platform . Snap , by contrast , has 161 million daily active users . While Apple 's Clips competitor will technically be a separate app from Messages , it will be tied closely to it for the ability share Clips videos with other Apple users . Facebook has more than 1 billion users for both Messenger , which was split off from the main Facebook service in 2014 , and for WhatsApp , which it acquired for $ 19 billion the same year . Apple has been steadily matching the features of Facebook 's Messenger . But Apple is also walking a fine line with other messaging players , cooperating with them often as it competes with them . For example , it has opened up the iPhone 's dialer app , long closed off to developers , so that iPhone users could place and receive Skype and WhatsApp calls through the device 's native interface . Alphabet Inc 's Google and Microsoft Corp have been scrambling to get into the game , too . Google has more than a half dozen messaging apps , including Allo , its latest . Microsoft has tried to integrate chat into its Skype app , and Microsoft-owned LinkedIn is a popular tool for business notes . But tech giants obsess over messaging because it is where users are headed , according to analyst firm Gartner . Between 2015 and 2016 , the percentage of U. S. and UK smartphone owners who used social media apps dropped from 85 percent to 83 percent while messaging apps jumped from 68 percent to 71 percent , a trend Gartner expects will continue . -LRB- Reporting by Stephen Nellis ; Editing by Jonathan Weber and Lisa Shumaker -RRB-\",\n",
       " \"There 's no such thing as a free lunch , or a string-free deal for that matter . Yes , you 're going to have to pay for all those Cyber Monday savings . The cost ? A piece of your online privacy . To keep tabs of your online shopping footprint , you need to follow the cookies . The data collected by stores is n't limited to your credit card information and shopping history at checkout . A site like Amazon might track your search on their site , but cookies potentially allow them to see where else you shop , what other sites you visit , and even what you buy elsewhere . All of that information culled together gives them a portrait of more than just your buying habits -- helping them to estimate everything from age and gender to marital status and income . In general , cookies are useful : Without them , you would n't have saved passwords and usernames for faster sign-in . Sometimes they keep tabs on your frequent shopping for a particular product , yielding customized deals on larger sites like Amazon . The problem arises when you are caught unaware . That when cookies can become creepy -- popping up ads for things that you did n't even search for -LRB- but maybe clicked on in at some point ? -RRB- . Amazon might have a few on your browser , but Facebook , Google , and your fantasy football lineup advice page all probably have them too . A recent study showed 60 percent or more of the sites you visit tack on cookies from third parties . So what should you do ? Go to your History tab and clear out your cookies often , for one . Before and after you do things like shopping , clearing cookies keeps you from experiencing strategic price changes in goods and services you want to purchase . That 's why , for instance , you should use an incognito browser to buy airline tickets : prices go up when you search a route regularly . If you 're so concerned by this insight that you 'd consider avoiding online shopping , relax . For better or worse , the majority of retailer data collection is n't different from what they 're able to collect during physical shopping trips . Their profile is likely just as complete , if lacking information about your YouTube binge of Planet Earth clips . So get back to those Cyber Monday deals . Big Brother probably knows everything there is to know about you already .\",\n",
       " \"Buy what you know . It 's a philosophy made famous by investing guru Peter Lynch when he was the head of Fidelity 's massive Magellan mutual fund . So should Millennials buy shares of Snapchat owner Snap when it starts trading on Thursday?Snap Inc. is set to debut on the New York Stock Exchange Thursday with the ticker symbol SNAP . The company is likely to be valued at above $ 20 billion as soon as it starts trading . It 's the first of the most high-profile unicorn startups to go public , a list of companies that includes Uber , Airbnb , Elon Musk 's SpaceX and Chinese mobile giant Xiaomi . And it 's one of the most eagerly awaited initial public offerings since Twitter . But that could be a blessing and a curse . Twitter had a splashy debut , but its stock has since tanked . Facebook , on the other hand , had a disappointing first day -- but it 's now one of the most valuable companies on the planet . And many experts see more comparisons to Twitter than Facebook when looking at Snapchat . So young investors should be careful . Buying the stock just because you think the company 's filters are cool is not all that smart . Snapchat continues to lose money , and some professional investors are worried that user growth is stagnating -- not to mention the fact that the company 's user base is smaller than Twitter and Facebook to begin with . So should young investors take a gamble with Snapchat ? It might be wise to wait and see how the stock does instead of buying it on the first day . Some investors think Snap 's valuation is too high . `` The biggest problem you have with the old investment adage of ` buy what you know ' is that the private markets have become much more efficient at valuing companies . -LSB- And -RSB- in cases like Snap , overvaluing companies , '' said Jared Carmel , managing partner with Manhattan Venture Partners , a firm that focuses on private companies . Carmel added that `` Millennials have proven to be fickle . '' John Norris , managing director of Oakworth Capital Bank , is also worried about how quickly tastes change in social media . He said his firm has no plans to buy shares of Snap . Norris added that his teenaged kids use Snapchat , and not Facebook . But they also use Instagram -- which is owned by Facebook . `` My kids tell me Snapchat does n't have all the ads Facebook has , and that is part of the appeal . However , that is also an important revenue stream for Snap , '' Norris said . `` What happens to its popularity when it ramps up the ads to turn a profit ? Will it still be as popular with Millennials and Generation Z ? '' Norris added . `` Ultimately , IPO hype gives way to show me the money . '' But some think Snapchat wo n't alienate its users the way Twitter arguably has with some of its promoted tweets . Drew Pascarella , lecturer of finance at Cornell University 's Samuel Curtis Johnson Graduate School of Management , pointed out in a report that Snapchat 's recent partnership with Pepsi-owned Gatorade could be a model for how Snap works with marketers . Snapchat debuted a new filter during the Super Bowl that made it look like a cooler of Gatorade was getting dumped on your head . `` Snap 's ability to attract and entertain users is clear , '' he said . `` The question is -- will they be able to use their place in the social media pecking order to become a premiere destination for digital advertising ? '' Facebook has found a way to make money off ads and keep users happy . Ditto for Google with its YouTube video service . Brendan Connaughton , chief investment officer of ClearPath Capital Partners , thinks Snapchat will succeed in attracting more advertisers . He added that the company 's hardware , Snapchat Spectacles , could be a nice revenue stream too . He said his firm has an order to buy some shares of Snap -- but that he is worried about the company 's valuation . As for whether young Snapchat users should buy the stock ? He thinks that many , including his own children , would love to ... but could they afford it ? `` The problem is that a lot of Snapchat 's core users do n't have a lot of disposable income . If they did , this would be something they 'd look at . But they are burdened with student debt and other financial obligations , '' he said . And it while it might seem tempting to try and make a quick buck off the Snapchat IPO in order to pay off student loans or credit card debt , it 's not the best of ideas for anyone just trying to make a living .\",\n",
       " \"NEW YORK , NY -- -LRB- Marketwired - Jun 23 , 2017 -RRB- - Viking Energy Group , Inc. -LRB- `` Viking '' -RRB- -LRB- OTC PINK : VKIN -RRB- is pleased to announce that it is in final negotiations to acquire all of the issued and outstanding membership units of a privately-owned company with producing , conventional oil & gas assets with development potential , for the total purchase price of $ 25 million to be paid as further described below . According to preliminary due diligence , the features of the target company and/or its assets include the following : In addition , the target company has 3D seismic data for the majority of the assets being acquired and has identified and vetted numerous future drilling locations -LRB- mainly `` infill drilling '' and `` behind pipe '' -RRB- as part of a 3-year drilling program . The $ 25 million purchase price would be paid by Viking paying the seller $ 10 million at closing and the balance of the purchase price six months from the closing date , with interest to accrue on such balance at a rate of 8 % per annum . The balance owing to the seller will be evidenced by a secured promissory note or equivalent debt instrument -LRB- which can be prepaid at any time without penalty -RRB- and pledge agreement pursuant to which Viking will grant the seller a first-ranking security interest against and pledge of all of the issued and outstanding shares of the target corporation . The security interest would not apply to other assets of Viking , including the shares of Viking 's wholly-owned subsidiary , Mid-Con Petroleum , LLC . Regarding the $ 10 million due to the seller on closing , Viking has received conditional approval from its existing bank , a commercial bank experienced in the Energy sector with offices in Kansas , Oklahoma and Texas , to provide such funds at a variable annual contract rate of interest equal to the Wall Street Journal prime rate plus 1 % . The loan would be made directly to the target company , subject to Viking being the 100 % owner thereof , and secured by a first-ranking security interest against the assets of the target company . The proposed effective closing date of the potential acquisition transaction is July 1 , 2017 . Conditional : The completion of the entire transaction described above is conditional upon Viking and the seller executing definitive legal documentation on terms and conditions acceptable to both parties on or before June 30 , 2017 , and the commercial bank approving such legal documentation . There is no guarantee that such conditions will be satisfied or that Viking will be able to close the acquisition . About Viking : Viking is an independent exploration and production company focused on the acquisition and development of oil and natural gas properties in North America . The company owns oil and gas leases in Kansas , Missouri and Alberta . Viking targets under-valued assets with realistic appreciation potential . Viking is not an investment company , as defined by the Investment Company Act of 1940 . Safe Harbor Statement : This press release may contain forward-looking information within the meaning of Section 21E of the Securities Exchange Act of 1934 , as amended -LRB- the Exchange Act -RRB- , including all statements that are not statements of historical fact regarding the intent , belief or current expectations of the company , its directors or its officers with respect to , among other things : -LRB- i -RRB- the company 's financing plans ; -LRB- ii -RRB- trends affecting the company 's financial condition or results of operations ; -LRB- iii -RRB- the company 's growth strategy and operating strategy ; and -LRB- iv -RRB- the declaration and payment of dividends . The words `` may , '' `` would , '' `` will , '' `` expect , '' `` estimate , '' `` anticipate , '' `` believe , '' `` intend '' and similar expressions and variations thereof are intended to identify forward-looking statements . Investors are cautioned that any such forward-looking statements are not guarantees of future performance and involve risks and uncertainties , many of which are beyond the company 's ability to control , and that actual results may differ materially from those projected in the forward-looking statements as a result of various factors including the risk disclosed in the company 's Forms 10-K and 10-Q filed with the SEC .\",\n",
       " \"LONDON -LRB- Alliance News -RRB- - Glencore PLC on Thursday said it managed to escape the red in 2016 , as like many of its peers the multi-commodity giant returned to profit and posted earnings that were well ahead of analyst expectations . Glencore shares were 2.5 % higher on Thursday morning at 334.00 pence per share . They are up 20 % since the start of 2017 . `` As we look forward , increasingly favourable fundamentals provide the potential to create significant long-term value for Glencore shareholders via our leading portfolio of well capitalised tier one assets and resilient marketing business , combined with significant low-cost copper and zinc growth options and disciplined approach to supply , '' said Chief Executive Ivan Glasberg . Glencore reported net income attributable to shareholders in 2016 of USD1 .37 billion , swinging from the USD4 .96 billion loss booked in 2015 . The company said adjusted earnings before interest , tax , depreciation and amortisation in the year amounted to USD10 .26 billion , an 18 % increase from the USD8 .69 billion booked in 2015 , and well ahead of analyst expectations for adjusted Ebitda of USD9 .62 billion . The Industrial division , responsible for production , delivered adjusted Ebitda of USD7 .30 billion in 2016 , up 22 % from USD6 .03 billion and ahead of analyst expectations of USD6 .83 billion . Overall group adjusted Ebit rose at an even faster rate of 81 % year-on-year to USD3 .93 billion from USD2 .17 billion . Group adjusted Ebit was forecast to be USD3 .07 billion in 2016 , according to consensus . Glencore 's Marketing division contributed adjusted Ebit of USD2 .8 billion , up 14 % and at the top end of guidance . The Marketing division 's adjusted Ebit was USD2 .66 billion last year , and the consensus had forecast the unit would hit the top end of Glencore 's guidance range at USD2 .78 billion . Glencore has previously guided to Marketing Ebit of USD2 .10 billion to USD2 .40 billion in 2017 , but raised this on Thursday to between USD2 .20 billion and USD2 .50 billion . In order to move to the middle or upper end of its long-term guidance for the division for annual adjusted Ebit of USD2 .20 billion to USD3 .20 billion , Glencore said it would require a `` combination of production/volume growth , uptick in additional working capital , higher interest rates and tighter physical market conditions . `` Glencore 's earnings per share before exceptional items increased to 14 cents from 10 cents . Including items , EPS was 10 cents , swinging from a 37 cent loss per share last year . Higher commodity prices and lower costs helped improve Glencore 's profitability , with `` an outstanding cost performance '' from its key commodities of copper , zinc , nickel and thermal coal . Glencore said the `` significant reductions '' in costs for copper and zinc are expected to be sustained in 2017 . Glencore said it is `` uniquely diversified '' by both commodity and geography , boasting major low cost supply positions in copper , zinc , nickel , coal , cobalt and ferroalloys . The company also said its key commodities have favourable fundamentals , and are already in deficit or transitioning toward a deficit . With prices in recovery mode , Glencore said , having scaled back production to support cuts to overall supply to support higher prices , that it has substantial volumes of low-cost capacity that can be restarted as and when appropriate to take full advantage of the market upturn . Capital expenditure was 41 % lower in 2016 at USD3 .49 billion , and Glencore 's funds from operations rose to USD7 .77 billion from USD6 .61 billion . Net debt at the end of 2016 stood at USD15 .52 billion after being significantly slashed from USD25 .88 billion a year earlier . That brought the net debt to adjusted Ebitda ratio down to 1.51 times from the previous 2.98 times . Net funding at the end of the year was USD32 .60 billion , swinging from USD15 .50 billion worth of net debt a year ago . Total available committed liquidity stands at USD16 .70 billion . Glencore said its cashflow coverage ratios have improved to `` strong investment grade levels '' , with a funds from operations to net debt ratio of 50 % and a net debt to adjusted Ebitda ratio of 1.5 times . The company said achieving strong Baa/BBB credit ratings remains a `` top priority '' . In December , Glencore committed to giving shareholders a USD1 .00 billion windfall in 2017 , split equally between the first and second halves , with a new dividend policy to be introduced in 2018 . A new distribution policy will be effective from 2018 . It will be a fixed plus variable distribution policy that leverages the resilience of marketing cash flows , while providing upside to commodity prices , Glencore said , reiterating its plan for a USD1 .00 billion distribution for 2017 . The new policy will have a `` fixed '' USD1 .00 billion base distribution , based on the `` resilience '' of the Marketing division plus a `` minimum '' variable distribution matching at least 25 % of free cashflow generated from its Industrial unit focused on taking metals out of the ground . `` Our swift and decisive actions to reposition and optimise our capital structure and industrial asset portfolio have reduced Net funding by USD14 .7 billion over the past eighteen months and generated more than USD1 .3 billion in cost savings at our industrial assets in 2016 , '' said Glencore . Going forward , Glencore said annual capital expenditure will roughly be USD4 .00 billion , USD3 .00 billion of which will be sustaining spend . Annualised free cash flow of USD6 .90 billion is expected in 2017 at current spot prices , based on spot annualised adjusted Ebitda of USD14 .60 billion . On the operational front , Glencore did make some `` key '' changes to its 2017 guidance . Copper production guidance for 2017 has been lowered to reflect reduced volumes at Alumbrera as it reaches end of life , a 20,000 tonne reduction from the sale of a 30 % stake in EHM and lower byproduct units from the nickel and zinc divisions . Production is forecast to fall to 1.36 million tonnes in 2017 , with 25,000 tonnes leeway either side , compared to 1.43 million tonnes produced in 2016 . Zinc production is forecast to rise to 1.19 million tonnes with the same leeway , compared to 1.09 million tonnes in 2016 , driven by higher grades at Antamina . Nickel production in 2017 will experience a modest increase to 120,000 tonnes , with leeway of 4,000 tonnes either side , compared to the 115,000 tonnes produced in 2016 . That will be driven by higher volumes from Koniambo . Coal production will rise this year to 135 million tonnes , give or take 3 million tonnes either side , from the 125 million tonnes produced in 2016 , as Glencore restarts the Collinsville and Integra underground operations , and also to reflect full ownership of Australian coal assets and normalised production in Colombia following weather disruptions in 2016 . By Joshua Warner ; joshuawarner@alliancenews.com ; @JoshAllianceCopyright 2017 Alliance News Limited . All Rights Reserved.Â\",\n",
       " \"Volvo has confirmed that its new XC60 , which will be revealed in full next week at the Geneva motor show , will have an advanced form of autonomous emergency braking which will actually be able to steer around any obstacles in the road ahead . The new system , called ` Steering Support ' cuts in when mere braking alone will not avoid an accident and is active at speeds between 50km/h and 100km/h . `` We have been working with collision avoidance systems for many years and we can see how effective they are . In Sweden alone we have seen a decline of around 45 per cent * in rear-end frontal crashes thanks to our collision warning with autobrake system . With the XC60 we are determined to take the next step in reducing avoidable collisions with the addition of steering support and assistance systems , '' said Malin Ekholm , senior director , Volvo Cars ' Safety Centre . This active steering system can also kick in to pull you back onto the correct side of the road if you have drifted across your lane and there 's oncoming traffic , and it also connects to the blind spot monitoring system to help prevent you hitting someone as you pull across for a lane change . `` All three of these new features represent clear steps in our work towards fully autonomous cars , '' added Ekholm . `` We have all of the benefits of the safety technology we introduced in our larger 90 Series cars in the new XC60 . This is fully in-line with our strategic approach to develop automotive safety systems based on real-life , real-road safety . Our vision is that no one will be killed or seriously injured in a new Volvo car by the year 2020 . '' The new XC60 will be a critical model for Volvo , as it seeks to build on the recent global successes of the XC90 and S90 . Based on a shortened XC90 platform , the XC60 is likely to become Volvo 's best-selling car , at least until the new V , S , and XC40 models arrive towards the end of this year and early 2018 . The new XC60 's engine lineup will consist , initially , of the same mix of 2.0-litre diesel and petrol four-cylinder turbo engines , with the 150hp D3 diesel model likely being the big-seller at first . Volvo is working on a plugin-hybrid petrol version though , using a 1.5-litre three-cylinder engine , developed from the existing four-cylinder units . In 2016 , Volvo had a record year for worldwide sales , with 534,000 cars sold . It has a stated ambition of reaching global sales of 800,000 .\",\n",
       " \"In the first half of 2017 , chip giant Intel -LRB- NASDAQ : INTC -RRB- has released many products , including its seventh-generation Core processors for notebook and desktop computers , as well as its first Core X-series processors for the high-end desktop personal computer market . However , compared with what the company has in store for the remainder of the year , what we 've seen so far looks rather tame . Image source : Intel . Let 's consider three Intel product launches that I 'm looking forward to and why investors should care about them . Intel 's most important growth business is its data-center group , commonly abbreviated DCG . While this business has been a nice source of growth for the company for many years , it has n't grown as quickly as the company had hoped over the last several years . This year , Intel expects DCG revenue to grow at a `` high-single-digit '' rate , though the company 's long-term revenue growth here is a `` low-double-digit '' rate . One way Intel can try to juice growth is to bring out new and compelling products . New products not only give potential customers reasons to upgrade their current hardware infrastructure , but with sufficient feature and performance additions , as well as sensible product segmentation efforts , the company can also try to boost its processor average selling prices . Sometime this summer , Intel is expected to launch its next-generation server processor platform , known as Purley . With Purley , Intel not only promises to bring faster processors to the table , but it 's also promising a whole slew of new feature additions to the platform . Intel 's first revision of the Purley platform should be the main driver of the company 's DCG revenue over the next year , though the company has indicated there are several such revisions in the pipeline . It 'll be interesting to see how this one affects DCG 's business performance . In the second half of this year -- probably in the fall -- Intel is expected to launch its eighth-generation Core processor family for some types of notebook and desktop personal computers . Intel is expected to launch a product known as Kaby Lake-Refresh for notebook personal computers . These chips will include four processor cores and be manufactured in a new 14-nanometer + + technology , potentially providing a significant performance upgrade over the current Kaby Lake U-series notebook chips that have just two processor cores and are manufactured in the company 's less powerful 14-nanometer + technology . Intel is also expected to launch its first Coffee Lake processors for the enthusiast portion of the desktop personal computer market . These chips are also expected to be manufactured in the company 's 14-nanometer + + technology and include up to six processor cores , up from the four processor cores currently available in the enthusiast-oriented Kaby Lake processors . Intel has indicated that to keep its personal computer processor average selling prices robust , it aims to release new products at an annual clip that offer improved performance , features , and integration . Although Intel has formally announced its entire Core X processor lineup for high-end desktop personal computers , only the chips with between four and 10 cores are currently available for pre-order . Intel says a Core X processor with 12 cores will arrive in August , while variants with 14 , 16 , and 18 cores will launch in October . While the 12 - to 18-core parts are certainly niche products that are likely to sell in rather small quantities , they should be rather lucrative for the company . Furthermore , since the products are being released in multiple phases , Intel gets multiple opportunities to launch products , build buzz for the new chips -LRB- as well as the rest of the chips in the product line -RRB- , and so on .\",\n",
       " \"Samsung 's next flagship smartphone , the Galaxy Note 8 has been floating around the rumor mill for a while . Now , a new report from Reuters claims that the long-awaited Note-branded phablet will be announced in August . This shred of information comes from a source that 's allegedly familiar with the matter . According to the Reuters report , the Note 8 will be equipped with a dual-camera system and boast a marginally bigger curved display than the newly launched Galaxy S8 Plus . This piece of news aligns perfectly with previous reports . Besides , an August announcement is more likely to come to fruition unless of course , the popular South Korean handset maker decides to deviate from its usual launch pattern for the Galaxy Note range . It can be recalled that the Galaxy Note 5 and the fiery Galaxy Note 7 were launched in a similar time frame . The earlier models were announced at Berlin 's IFA event back in September . Last year 's Note 7 gave Samsung the much-needed first-mover advantage against this competition by bringing this date forward . More importantly from Samsung 's point of view , a late August launch date implies that it would have an opportunity to bring in its latest flagship device in the market ahead of arch rival Apple 's equally anticipated iPhone 8 . The design of one feature of the new Galaxy Note device may have reportedly faced the consequences of this aggressive approach , though . Earlier leaks indicated that there would be no rear-mounted fingerprint sensor . This seemed particularly understandable since putting the fingerprint sensor on the back of Galaxy S8 , and S8 Plus proved to be awkward due to its nearness to the device 's camera lens . There 's hearsay that Samsung is planning to embed a fingerprint scanner underneath the glass on the front of the upcoming Note device . However , citing latest reports , Forbes ' Ewan Spence debunks this possibility claiming Samsung may not be able to incorporate this technology unless it places the sensor in a location where it can be easily spotted due to uneven screen brightness . It is imperative for the Note 8 to have the fingerprint sensor for Google 's certification . Amidst the absence of cutouts for the sensor on the rear of the recently leaked panels and failure to embed one underneath the screen assembly , Spence says Samsung has two choices : The first one involves reworking the back of the device in the bid to bring about an identical accommodation just like the Galaxy S8 smartphone . Alternatively , the company can simply drop its plan to create a button-free front panel and stick to the more relevant fingerprint sensor and the standard home button fused together , instead . Do you think Samsung will give the new technology a shot or just stick to the tried and trusted solution ? Share your thoughts in the comments section below . #samsung galaxy s8 #Samsung Galaxy Note 8 #Samsung Galaxy Note 7\",\n",
       " \"PORTLAND , Ore. -- -LRB- BUSINESS WIRE -RRB- -- Lattice Semiconductor Corporation -LRB- NASDAQ : LSCC -RRB- , the leading provider of customizable smart connectivity solutions , today announced the availability of new reference designs based on its iCE40 UltraPlus FPGA devices to address emerging market requirements and to enable an expedited product development cycle . Expanding one of the industry 's most energy-efficient and programmable mobile influenced solutions , Lattice 's new reference designs for the iCE40 UltraPlus support LoRa communication , elliptic curve cryptography -LRB- ECC -RRB- security , signal aggregation , machine learning and graphics acceleration . With these new reference designs , customers are equipped with additional resources to accelerate the development of differentiated and innovative products . The iCE40 UltraPlus is a highly energy-efficient computing solution for sensor stitching and repetitive number crunching , making it ideal for offloading power hungry application processors in battery-powered devices . Lattice 's small form factor , low cost and low power FPGAs offer enhanced memory and more DSPs to improve system performance and extend battery life . Built upon existing IP and paired with the new reference designs , the iCE40 UltraPlus anchors a complete solution for enabling sensor-to-Cloud security and acceleration at the Edge . It is essential for performing functions such as data capturing , aggregation , encryption , processing and transmission . Key applications for the new iCE40 UltraPlus FPGA reference designs include : `` The new iCE40 UltraPlus solutions underscore our commitment to continuously provide our customers with updated resources for designing solutions for new markets quickly , '' said C. H. Chee , senior director of marketing at Lattice Semiconductor . `` With improved DSP performance , flexible I/Os and increased memory for buffering , the iCE40 UltraPlus brings added intelligence to smartphones and IoT Edge products , and security to the Cloud . '' The iCE40 UltraPlus is the latest addition to the iCE40 Ultra family , delivering eight times more memory -LRB- 1.1 Mbit RAM -RRB- , twice the digital signal processors -LRB- 8x DSPs -RRB- , and improved I/Os over previous generations . For more information about iCE40 UltraPlus IP solutions and reference designs , please visit http://www.latticesemi.com/en/Products/FPGAandCPLD/iCE40Ultra.aspx . Partner Quotes `` IoT Edge devices demand energy efficient , always-on sensor functionality , and Lattice 's low power and high performance FPGAs have demonstrated that they can meet the connectivity and processing needed for these advanced applications , '' said Terry Moore , CEO at MCCI . `` By using the iCE40 UltraPlus with our LoRa design stack , we can support various anomaly detection techniques for always-on security in battery powered applications . ''`` To meet mobile product requirements of always-on sensor functionality , while conserving power consumption , we looked for the smallest , lowest power and lowest cost FPGA device to complement our designs , '' said Ulli Mueller , vice president , sales and marketing at Think Silicon . `` By integrating the iCE40 UltraPlus FPGA with our NEMA | dc display processor technology , we enable graphic acceleration for always-on displays in wearables and other mobile and embedded display devices . ''`` FPGAs are ideal for AI and Machine Learning applications at the Edge due to their parallel processing architecture , '' said Guy Lemieux , CEO at VectorBlox . `` Our binarized neural network implemented in Lattice 's iCE40 UltraPlus FPGA supports face detection in always-on cameras for smart homes , security , and other mobile devices . '' About Lattice SemiconductorLattice Semiconductor -LRB- NASDAQ : LSCC -RRB- provides smart connectivity solutions powered by our low power FPGA , video ASSP , 60 GHz millimeter wave , and IP products to the consumer , communications , industrial , computing , and automotive markets worldwide . Our unwavering commitment to our customers enables them to accelerate their innovation , creating an ever better and more connected world . For more information about Lattice please visit http://www.latticesemi.com . You can also follow us via LinkedIn , Twitter , Facebook , YouTube or RSS . Lattice Semiconductor Corporation , Lattice Semiconductor -LRB- & design -RRB- , iCE40 Ultra , iCE40 UltraPlus and specific product designations are either registered trademarks or trademarks of Lattice Semiconductor Corporation or its subsidiaries in the United States and/or other countries . The use of the word `` partner '' does not imply a legal partnership between Lattice and any other entity . GENERAL NOTICE : Other product names used in this publication are for identification purposes only and may be trademarks of their respective holders .\",\n",
       " \"Apple Inc. packed its $ 1,000 iPhone with augmented reality features , betting the nascent technology will persuade consumers to pay premium prices for its products even as cheaper alternatives abound . The iPhone X , Apple 's most expensive phone ever , was one of three new models Chief Executive Officer Tim Cook showed off during an event at the company 's new $ 5 billion headquarters in Cupertino , California , on Tuesday . It also rolled out an updated Apple Watch with a cellular connection and an Apple TV set-top box that supports higher-definition video . The event marked the 10th anniversary of the original iPhone and started with a remembrance of the late co-founder Steve Jobs . The product announcements were greeted with enthusiasm but little surprise by analysts , investors and fans of the company 's products . The Watch capabilities pushed Apple shares up more than 1 percent , but the iPhone X had few ground-breaking features that were n't already telegraphed , and the stock gave up those gains to end the day down 0.4 percent at $ 160.86 . Photographer : David Paul Morris/Bloomberg `` Expectations were for the company to deliver a device with a relatively more robust set of upgraded features , '' Michael Olson , an analyst at Piper Jaffray , wrote in a note to investors . `` Apple generally met these lofty expectations . `` Those features are mostly designed for augmented reality , which superimposes digital information onto a person 's view of the real world . Cook has said AR could be as significant as the smartphone itself , and some analysts expect it to drive hundreds of billions of dollars in extra device sales in coming years . Photographer : David Paul Morris/BloombergForrester analyst Julie Ask said she 's more excited about the cellular Watch than the iPhone X. `` The Watch is showing us a future where we 're not carrying around a wallet and a smartphone everywhere we go , '' she added . Apple stock has gained about 40 percent this year on expectations the iPhone X -LRB- pronounced `` ten '' -RRB- will reignite sales growth after a rare decline last year . The iPhone accounts for almost two-thirds of total sales , and it 's a hub for most of Apple 's other products and services . With a base price of $ 999 for the 64 gigabyte version , the iPhone X boasts a brighter and more energy-efficient OLED display screen . A front facing 3-D sensor array recognizes users ' faces to unlock the handset and turns facial expressions into animated emoji icons called animoji . The 256 gigabyte version costs $ 1,149 , according to Apple 's website . A $ 1,000 iPhone could add as much as 6 percent to Apple 's 2018 earnings per share , Bernstein analyst Toni Sacconaghi estimated last week . But that depends on the iPhone X being a hit , and there 's more competition from lower-cost Chinese competitors such as Huawei Technologies Co. and Xiaomi Corp. , which timed the introduction of their new phones around Apple 's launch to attract customers who may be deterred by the iPhone X 's price . The high price may be affordable for devoted Apple fans and other higher-income earners who will pay through monthly installment plans , which accounts for about 80 percent of U. S. cellphone users , according to Bob O'Donnell , president of TECHnalysis Research . It may , however , be a problem in China , where consumers focus more on status and design , and will get the iPhone X with its new screen or nothing . `` Huawei , Xiaomi , Oppo , Vivo are offering edge-to-edge screens at $ 300 or less , '' he added . In a nod to cheaper alternatives , Apple also rolled out iPhone 8 and 8 Plus models that start at $ 699 and $ 799 respectively , and cut the price of the iPhone SE by $ 50 to $ 349 . That left Apple with its broadest range of phones ever . The iPhone X 's higher price is unlikely to lose Apple customers , since they can always opt for the cheaper models , Ben Evans , a partner at venture capital firm Andreessen Horowitz , said . Those cheaper handsets are particularly important for attracting new customers . While almost 1 in 5 iPhone users are willing to spend more than $ 1,000 on the new handset , just 11 percent of consumers overall would be willing to do so , a recent Barclays survey found . The OLED display is likely the most expensive new component in the iPhone X . But it may address the main reason people told Barclays they upgrade : improved battery life . Older LCD phone screens require an energy-intensive backlight , while OLED displays serve as their own light source , reducing power consumption . Apple said the iPhone X lasts two hours longer than the previous iPhone . The Apple iPhone 8 , Airpods , and Apple Watch on the AirPower charger . Photographer : David Paul Morris/BloombergApple executives spent much of Tuesday 's event describing how AR is at the core of the new flagship iPhone X. Its new screen , 3-D sensors , and dual cameras are designed for AR video games and other more-practical uses such as measuring digital objects in real world spaces . Months before the launch , Apple released a tool called ARKit that made it easier for developers to add AR capabilities to their apps . These technologies have never been available in consumer devices and `` solidify the platform on which Apple will retain and grow its user base for the next decade , '' Gene Munster of Loup Ventures wrote in a note following Apple 's event . The company is also working on smart glasses that may be AR-enabled , people familiar with the plan told Bloomberg earlier this year . Apple has been slower to AR technology than Google , which launched an AR software tool called Tango back in 2014 . But Apple 's ability to push the ARKit software to hundreds of millions of new and updated iPhones at once has already persuaded developers to start making new AR apps for these devices . AR may generate more revenue for developers selling products on the App Store , and Apple will take a cut -- part of the company 's plan to double sales from services to about $ 50 billion by 2020 . The AR market could be worth $ 404 billion over the next three years , with $ 286 billion from purchases of new devices and the rest in software and services , Morgan Stanley estimated this week . In the most optimistic scenario , that would lift Apple 's 2019 earnings per share 27 percent higher than consensus estimates , the analysts wrote . While the iPhone 8 , 8 Plus , Watch Series 3 and TV 4K will be available on Sept. 22 , the iPhone X wo n't go on sale until Nov. 6 . That 's about six weeks later than Loup 's Munster expected . `` The ship date likely wo n't have a material impact on the number of units sold , but will push some unit sales into the March quarter , '' he said . Apple has faced manufacturing difficulties with the new handset , leading to production delays . The company has been unable to source enough OLED panels for the new screen because there are only a handful of factories making the component , people familiar with the situation told Bloomberg earlier this year . Efforts to incorporate a fingerprint scanner underneath the touchscreen also prompted delays and were ultimately abandoned , others with knowledge of the plan said in July . The FaceID solution ultimately replaced the fingerprint sensor . For more on Apple , check out the Decrypted podcast : -- With assistance by Julie Verhage\",\n",
       " \"- exec @ * Part of $ 29 bln plan to upgrade refining complexes * Looking to BASF for fine chemical technology , expertise * Analyst sees clear trend of diversification into fine chemicals -LRB- Adds analyst comment , details -RRB- BEIJING , March 9 -LRB- Reuters -RRB- - Sinopec Corp plans to boost investment in fine chemicals at its Maoming-Zhanjiang refining base in southern China alongside partners like Germany 's BASF , a senior executive said in an interview on Thursday . The investment would be part of the $ 29 billion the state major plans to spend upgrading its refining and petrochemical hubs by 2020 , and highlights industry efforts to move up the value chain in the face of dwindling diesel demand and a refining capacity glut in the world 's second-largest oil user . Sinopec , China 's largest refiner and petrochemicals producer , is taking the lead in the push for low-volume but high-value products that are used in the pharmaceuticals , agrichemical and aviation industries . `` We are going to cooperate with BASF in more downstream fine chemical products because they have lots of advanced technology in those areas , '' said Yu Xizhi , general manager of Sinopec Maoming , on the sidelines of parliament 's annual meeting . Yu said Sinopec is far behind the German chemicals giant in terms of diversification of downstream chemical products . `` I visited BASF headquarter , where it has 600,000 tonnes of ethylene capacity and 300 units of processing equipment . In Maoming , we have 1.1 million tonnes of ethylene capacity but only 20 units for further processing . `` Sinopec said last week it would invest 200 billion yuan -LRB- $ 29 billion -RRB- to upgrade its four refining bases between 2016 and 2020 to produce high-quality fuels as China embraces more stringent fuel standards and expands petrochemicals investment . `` We are seeing a clear trend that refiners are diversifying their products to include fine chemicals . This shift helps them to better deal with oversupply in traditional fuel markets as the glut persists , '' said Seng Yick Tee , senior director at Beijing-based consultancy SIA Energy . Sinopec is better positioned than domestic rival PetroChina in chemical markets because it has more facilities and better geographic locations , Tee said . Sinopec 's refining sites to be upgraded are in the cities of Shanghai , Nanjing and Zhenhai on the east coast , and Maoming-Zhanjiang in southern Guangdong province . Under the Maoming-Zhanjiang base that Yu heads up , the 400,000-bpd Maoming refinery will focus on traditional fuel and fine chemicals , while the Zhanjiang greenfield project will produce clean fuels and have a heavier focus on fine chemicals , Yu said . `` Headquarters sets no limit on funding the fine chemicals projects , so long as we can convince them it 's the right one , '' he said . Chinese refiners have had to look for new areas of business amid a moderating economy and excess refining capacity the past few years , with domestic fuel demand growth easing . The Maoming plant posted a record annual profit of 9.2 billion yuan -LRB- $ 1.3 billion -RRB- before income tax in 2016 , due to good refining margins on near-decade low oil prices and a boom in chemicals prices , Yu said . -LRB- $ 1 = 6.9126 Chinese yuan -RRB- -LRB- Reporting by Chen Aizhu and Meng Meng ; Writing by Josephine Mason ; Editing by Tom Hogue -RRB-\"]"
      ]
     },
     "execution_count": 3,
     "metadata": {},
     "output_type": "execute_result"
    }
   ],
   "source": [
    "sconv.tokenize_stories(articles[:26], verbose = True)"
   ]
  },
  {
   "cell_type": "markdown",
   "metadata": {},
   "source": [
    "## Convert articles to the format read by the TensorFlow model:"
   ]
  },
  {
   "cell_type": "code",
   "execution_count": 4,
   "metadata": {},
   "outputs": [
    {
     "name": "stdout",
     "output_type": "stream",
     "text": [
      "Processing story number: 1\n",
      "Processing story number: 26\n",
      "Processing story number: 51\n",
      "Processing story number: 76\n",
      "Processing story number: 101\n",
      "Processing story number: 126\n",
      "Processing story number: 151\n",
      "Processing story number: 176\n",
      "Processing story number: 201\n",
      "Processing story number: 226\n",
      "Processing story number: 251\n",
      "Processing story number: 276\n",
      "Processing story number: 301\n",
      "Processing story number: 326\n",
      "Processing story number: 351\n",
      "Processing story number: 376\n",
      "Processing story number: 401\n",
      "Processing story number: 426\n",
      "Processing story number: 451\n",
      "Processing story number: 476\n",
      "Processing story number: 501\n",
      "Processing story number: 526\n",
      "Processing story number: 551\n",
      "Processing story number: 576\n",
      "Processing story number: 601\n",
      "Processing story number: 626\n",
      "Processing story number: 651\n",
      "Processing story number: 676\n",
      "Processing story number: 701\n",
      "Processing story number: 726\n",
      "Processing story number: 751\n",
      "Processing story number: 776\n",
      "Processing story number: 801\n",
      "Processing story number: 826\n",
      "Processing story number: 851\n",
      "Processing story number: 876\n",
      "Processing story number: 901\n",
      "Processing story number: 926\n",
      "Processing story number: 951\n",
      "Processing story number: 976\n",
      "Processing story number: 1001\n",
      "Processing story number: 1026\n",
      "Processing story number: 1051\n",
      "Processing story number: 1076\n",
      "Processing story number: 1101\n",
      "Processing story number: 1126\n",
      "Processing story number: 1151\n",
      "Processing story number: 1176\n",
      "Processing story number: 1201\n",
      "Processing story number: 1226\n",
      "Processing story number: 1251\n",
      "Processing story number: 1276\n",
      "Processing story number: 1301\n",
      "Processing story number: 1326\n",
      "Processing story number: 1351\n",
      "Processing story number: 1376\n",
      "Processing story number: 1401\n",
      "Processing story number: 1426\n",
      "Processing story number: 1451\n",
      "Processing story number: 1476\n",
      "Processing story number: 1501\n",
      "Processing story number: 1526\n",
      "Processing story number: 1551\n",
      "Processing story number: 1576\n",
      "Processing story number: 1601\n",
      "Processing story number: 1626\n",
      "Processing story number: 1651\n",
      "Processing story number: 1676\n",
      "Processing story number: 1701\n",
      "Processing story number: 1726\n",
      "Processing story number: 1751\n",
      "Processing story number: 1776\n",
      "Processing story number: 1801\n",
      "Processing story number: 1826\n",
      "Processing story number: 1851\n",
      "Processing story number: 1876\n",
      "Processing story number: 1901\n",
      "Processing story number: 1926\n",
      "Processing story number: 1951\n",
      "Processing story number: 1976\n",
      "Processing story number: 2001\n",
      "Processing story number: 2026\n",
      "Processing story number: 2051\n",
      "Processing story number: 2076\n",
      "Processing story number: 2101\n",
      "Processing story number: 2126\n",
      "Processing story number: 2151\n",
      "Processing story number: 2176\n",
      "Processing story number: 2201\n",
      "Processing story number: 2226\n",
      "Processing story number: 2251\n",
      "Processing story number: 2276\n",
      "Processing story number: 2301\n",
      "Processing story number: 2326\n",
      "Processing story number: 2351\n",
      "Processing story number: 2376\n",
      "Processing story number: 2401\n",
      "Processing story number: 2426\n",
      "Processing story number: 2451\n",
      "Processing story number: 2476\n",
      "Processing story number: 2501\n",
      "Processing story number: 2526\n",
      "Processing story number: 2551\n",
      "Processing story number: 2576\n",
      "Processing story number: 2601\n",
      "Processing story number: 2626\n",
      "Processing story number: 2651\n",
      "Processing story number: 2676\n",
      "Processing story number: 2701\n",
      "Processing story number: 2726\n",
      "Processing story number: 2751\n",
      "Processing story number: 2776\n",
      "Processing story number: 2801\n",
      "Processing story number: 2826\n",
      "Processing story number: 2851\n",
      "Processing story number: 2876\n",
      "Processing story number: 2901\n",
      "Processing story number: 2926\n",
      "Processing story number: 2951\n",
      "Processing story number: 2976\n",
      "Processing story number: 3001\n",
      "Processing story number: 3026\n",
      "Processing story number: 3051\n",
      "Processing story number: 3076\n",
      "Processing story number: 3101\n",
      "Processing story number: 3126\n",
      "Processing story number: 3151\n",
      "Processing story number: 3176\n",
      "Processing story number: 3201\n",
      "Processing story number: 3226\n",
      "Processing story number: 3251\n",
      "Processing story number: 3276\n",
      "Processing story number: 3301\n",
      "Processing story number: 3326\n",
      "Processing story number: 3351\n",
      "Processing story number: 3376\n",
      "Processing story number: 3401\n",
      "Processing story number: 3426\n",
      "Processing story number: 3451\n",
      "Processing story number: 3476\n",
      "Processing story number: 3501\n",
      "Processing story number: 3526\n",
      "Processing story number: 3551\n",
      "Processing story number: 3576\n",
      "Processing story number: 3601\n",
      "Processing story number: 3626\n",
      "Processing story number: 3651\n",
      "Processing story number: 3676\n",
      "Processing story number: 3701\n",
      "Processing story number: 3726\n",
      "Processing story number: 3751\n",
      "Processing story number: 3776\n",
      "Processing story number: 3801\n",
      "Processing story number: 3826\n",
      "Processing story number: 3851\n",
      "Processing story number: 3876\n",
      "Processing story number: 3901\n",
      "Processing story number: 3926\n",
      "Processing story number: 3951\n",
      "Processing story number: 3976\n"
     ]
    }
   ],
   "source": [
    "sconv.process_and_save_to_disk(articles, \"test.bin\", verbose = True)"
   ]
  },
  {
   "cell_type": "markdown",
   "metadata": {},
   "source": [
    "## Run TensorFlow model in decoder mode:"
   ]
  },
  {
   "cell_type": "code",
   "execution_count": 7,
   "metadata": {},
   "outputs": [
    {
     "name": "stdout",
     "output_type": "stream",
     "text": [
      "Starting TensorFlow Decoder...\n",
      "INFO:tensorflow:Starting seq2seq_attention in asdfdsaf decode mode...\n",
      "INFO:tensorflow:Current folder /Users/arturs/gpu-projects/Zentropy/components/summarizer\n",
      "Warning: incorrectly formatted line in vocabulary file: 0800 555 111 356\n",
      "\n",
      "\n",
      "Warning: incorrectly formatted line in vocabulary file: 1800 333 000 139\n",
      "\n",
      "\n",
      "Warning: incorrectly formatted line in vocabulary file: 2 1/2 124\n",
      "\n",
      "\n",
      "Warning: incorrectly formatted line in vocabulary file: 3 1/2 86\n",
      "\n",
      "\n",
      "max_size of vocab was specified as 50000; we now have 50000 words. Stopping reading.\n",
      "Finished constructing vocabulary of 50000 total words. Last word added: farina\n",
      "INFO:tensorflow:Building graph...\n",
      "INFO:tensorflow:Adding attention_decoder timestep 0 of 1\n",
      "INFO:tensorflow:Time to build graph: 1 seconds\n",
      "INFO:tensorflow:Loading checkpoint ../../data/summarizer_models/more_coverage/train/model.ckpt-363378\n",
      "INFO:tensorflow:Restoring parameters from ../../data/summarizer_models/more_coverage/train/model.ckpt-363378\n",
      "25 articles summarized\n",
      "50 articles summarized\n"
     ]
    },
    {
     "ename": "KeyboardInterrupt",
     "evalue": "",
     "output_type": "error",
     "traceback": [
      "\u001b[0;31m---------------------------------------------------------------------------\u001b[0m",
      "\u001b[0;31mKeyboardInterrupt\u001b[0m                         Traceback (most recent call last)",
      "\u001b[0;32m<ipython-input-7-2910a7542abc>\u001b[0m in \u001b[0;36m<module>\u001b[0;34m()\u001b[0m\n\u001b[1;32m      6\u001b[0m            \u001b[0mvocab_path\u001b[0m \u001b[0;34m=\u001b[0m \u001b[0mDATA_PATH\u001b[0m \u001b[0;34m+\u001b[0m \u001b[0;34m\"summarizer_training_data/finished_files/vocab\"\u001b[0m\u001b[0;34m,\u001b[0m\u001b[0;34m\u001b[0m\u001b[0m\n\u001b[1;32m      7\u001b[0m            \u001b[0mlog_root\u001b[0m \u001b[0;34m=\u001b[0m \u001b[0mDATA_PATH\u001b[0m \u001b[0;34m+\u001b[0m \u001b[0;34m\"summarizer_models\"\u001b[0m\u001b[0;34m,\u001b[0m\u001b[0;34m\u001b[0m\u001b[0m\n\u001b[0;32m----> 8\u001b[0;31m            exp_name = \"more_coverage\")\n\u001b[0m",
      "\u001b[0;32m~/gpu-projects/Zentropy/components/summarizer/summarizer_utils.py\u001b[0m in \u001b[0;36mrun_summarization_model_decoder\u001b[0;34m(pickle_file, data_path, vocab_path, log_root, exp_name)\u001b[0m\n\u001b[1;32m    157\u001b[0m     \u001b[0;32mtry\u001b[0m\u001b[0;34m:\u001b[0m\u001b[0;34m\u001b[0m\u001b[0m\n\u001b[1;32m    158\u001b[0m         \u001b[0mprint\u001b[0m\u001b[0;34m(\u001b[0m\u001b[0;34m\"Starting TensorFlow Decoder...\"\u001b[0m\u001b[0;34m)\u001b[0m\u001b[0;34m\u001b[0m\u001b[0m\n\u001b[0;32m--> 159\u001b[0;31m         \u001b[0mra\u001b[0m\u001b[0;34m.\u001b[0m\u001b[0mrun_external\u001b[0m\u001b[0;34m(\u001b[0m\u001b[0margv\u001b[0m\u001b[0;34m)\u001b[0m\u001b[0;34m\u001b[0m\u001b[0m\n\u001b[0m\u001b[1;32m    160\u001b[0m     \u001b[0;32mexcept\u001b[0m \u001b[0mSystemExit\u001b[0m\u001b[0;34m:\u001b[0m\u001b[0;34m\u001b[0m\u001b[0m\n\u001b[1;32m    161\u001b[0m         \u001b[0mprint\u001b[0m\u001b[0;34m(\u001b[0m\u001b[0;34m\"Summarization model exited as expected :)\"\u001b[0m\u001b[0;34m)\u001b[0m\u001b[0;34m\u001b[0m\u001b[0m\n",
      "\u001b[0;32m~/gpu-projects/Zentropy/components/summarizer/pointer-generator/run_summarization.py\u001b[0m in \u001b[0;36mrun_external\u001b[0;34m(argv)\u001b[0m\n\u001b[1;32m    339\u001b[0m \u001b[0;32mdef\u001b[0m \u001b[0mrun_external\u001b[0m\u001b[0;34m(\u001b[0m\u001b[0margv\u001b[0m\u001b[0;34m)\u001b[0m\u001b[0;34m:\u001b[0m\u001b[0;34m\u001b[0m\u001b[0m\n\u001b[1;32m    340\u001b[0m   \u001b[0mtf\u001b[0m\u001b[0;34m.\u001b[0m\u001b[0mreset_default_graph\u001b[0m\u001b[0;34m(\u001b[0m\u001b[0;34m)\u001b[0m\u001b[0;34m\u001b[0m\u001b[0m\n\u001b[0;32m--> 341\u001b[0;31m   \u001b[0mtf\u001b[0m\u001b[0;34m.\u001b[0m\u001b[0mapp\u001b[0m\u001b[0;34m.\u001b[0m\u001b[0mrun\u001b[0m\u001b[0;34m(\u001b[0m\u001b[0mmain\u001b[0m\u001b[0;34m=\u001b[0m\u001b[0mmain\u001b[0m\u001b[0;34m,\u001b[0m \u001b[0margv\u001b[0m\u001b[0;34m=\u001b[0m\u001b[0margv\u001b[0m\u001b[0;34m)\u001b[0m\u001b[0;34m\u001b[0m\u001b[0m\n\u001b[0m",
      "\u001b[0;32m~/miniconda3/envs/tensorflow/lib/python3.6/site-packages/tensorflow/python/platform/app.py\u001b[0m in \u001b[0;36mrun\u001b[0;34m(main, argv)\u001b[0m\n\u001b[1;32m     46\u001b[0m   \u001b[0;31m# Call the main function, passing through any arguments\u001b[0m\u001b[0;34m\u001b[0m\u001b[0;34m\u001b[0m\u001b[0m\n\u001b[1;32m     47\u001b[0m   \u001b[0;31m# to the final program.\u001b[0m\u001b[0;34m\u001b[0m\u001b[0;34m\u001b[0m\u001b[0m\n\u001b[0;32m---> 48\u001b[0;31m   \u001b[0m_sys\u001b[0m\u001b[0;34m.\u001b[0m\u001b[0mexit\u001b[0m\u001b[0;34m(\u001b[0m\u001b[0mmain\u001b[0m\u001b[0;34m(\u001b[0m\u001b[0m_sys\u001b[0m\u001b[0;34m.\u001b[0m\u001b[0margv\u001b[0m\u001b[0;34m[\u001b[0m\u001b[0;34m:\u001b[0m\u001b[0;36m1\u001b[0m\u001b[0;34m]\u001b[0m \u001b[0;34m+\u001b[0m \u001b[0mflags_passthrough\u001b[0m\u001b[0;34m)\u001b[0m\u001b[0;34m)\u001b[0m\u001b[0;34m\u001b[0m\u001b[0m\n\u001b[0m\u001b[1;32m     49\u001b[0m \u001b[0;34m\u001b[0m\u001b[0m\n\u001b[1;32m     50\u001b[0m \u001b[0;34m\u001b[0m\u001b[0m\n",
      "\u001b[0;32m~/gpu-projects/Zentropy/components/summarizer/pointer-generator/run_summarization.py\u001b[0m in \u001b[0;36mmain\u001b[0;34m(unused_argv)\u001b[0m\n\u001b[1;32m    323\u001b[0m     \u001b[0mmodel\u001b[0m \u001b[0;34m=\u001b[0m \u001b[0mSummarizationModel\u001b[0m\u001b[0;34m(\u001b[0m\u001b[0mdecode_model_hps\u001b[0m\u001b[0;34m,\u001b[0m \u001b[0mvocab\u001b[0m\u001b[0;34m)\u001b[0m\u001b[0;34m\u001b[0m\u001b[0m\n\u001b[1;32m    324\u001b[0m     \u001b[0mdecoder\u001b[0m \u001b[0;34m=\u001b[0m \u001b[0mBeamSearchDecoder\u001b[0m\u001b[0;34m(\u001b[0m\u001b[0mmodel\u001b[0m\u001b[0;34m,\u001b[0m \u001b[0mbatcher\u001b[0m\u001b[0;34m,\u001b[0m \u001b[0mvocab\u001b[0m\u001b[0;34m)\u001b[0m\u001b[0;34m\u001b[0m\u001b[0m\n\u001b[0;32m--> 325\u001b[0;31m     \u001b[0mdecoder\u001b[0m\u001b[0;34m.\u001b[0m\u001b[0mdecode\u001b[0m\u001b[0;34m(\u001b[0m\u001b[0;34m)\u001b[0m \u001b[0;31m# decode indefinitely (unless single_pass=True, in which case deocde the dataset exactly once)\u001b[0m\u001b[0;34m\u001b[0m\u001b[0m\n\u001b[0m\u001b[1;32m    326\u001b[0m   \u001b[0;32melif\u001b[0m \u001b[0mhps\u001b[0m\u001b[0;34m.\u001b[0m\u001b[0mmode\u001b[0m \u001b[0;34m==\u001b[0m \u001b[0;34m'decode_one'\u001b[0m\u001b[0;34m:\u001b[0m\u001b[0;34m\u001b[0m\u001b[0m\n\u001b[1;32m    327\u001b[0m     \u001b[0mdecode_model_hps\u001b[0m \u001b[0;34m=\u001b[0m \u001b[0mhps\u001b[0m  \u001b[0;31m# This will be the hyperparameters for the decoder model\u001b[0m\u001b[0;34m\u001b[0m\u001b[0m\n",
      "\u001b[0;32m~/gpu-projects/Zentropy/components/summarizer/pointer-generator/decode.py\u001b[0m in \u001b[0;36mdecode\u001b[0;34m(self)\u001b[0m\n\u001b[1;32m    112\u001b[0m \u001b[0;34m\u001b[0m\u001b[0m\n\u001b[1;32m    113\u001b[0m       \u001b[0;31m# Run beam search to get best Hypothesis\u001b[0m\u001b[0;34m\u001b[0m\u001b[0;34m\u001b[0m\u001b[0m\n\u001b[0;32m--> 114\u001b[0;31m       \u001b[0mbest_hyp\u001b[0m \u001b[0;34m=\u001b[0m \u001b[0mbeam_search\u001b[0m\u001b[0;34m.\u001b[0m\u001b[0mrun_beam_search\u001b[0m\u001b[0;34m(\u001b[0m\u001b[0mself\u001b[0m\u001b[0;34m.\u001b[0m\u001b[0m_sess\u001b[0m\u001b[0;34m,\u001b[0m \u001b[0mself\u001b[0m\u001b[0;34m.\u001b[0m\u001b[0m_model\u001b[0m\u001b[0;34m,\u001b[0m \u001b[0mself\u001b[0m\u001b[0;34m.\u001b[0m\u001b[0m_vocab\u001b[0m\u001b[0;34m,\u001b[0m \u001b[0mbatch\u001b[0m\u001b[0;34m)\u001b[0m\u001b[0;34m\u001b[0m\u001b[0m\n\u001b[0m\u001b[1;32m    115\u001b[0m \u001b[0;34m\u001b[0m\u001b[0m\n\u001b[1;32m    116\u001b[0m       \u001b[0;31m# Extract the output ids from the hypothesis and convert back to words\u001b[0m\u001b[0;34m\u001b[0m\u001b[0;34m\u001b[0m\u001b[0m\n",
      "\u001b[0;32m~/gpu-projects/Zentropy/components/summarizer/pointer-generator/beam_search.py\u001b[0m in \u001b[0;36mrun_beam_search\u001b[0;34m(sess, model, vocab, batch)\u001b[0m\n\u001b[1;32m    119\u001b[0m                         \u001b[0menc_states\u001b[0m\u001b[0;34m=\u001b[0m\u001b[0menc_states\u001b[0m\u001b[0;34m,\u001b[0m\u001b[0;34m\u001b[0m\u001b[0m\n\u001b[1;32m    120\u001b[0m                         \u001b[0mdec_init_states\u001b[0m\u001b[0;34m=\u001b[0m\u001b[0mstates\u001b[0m\u001b[0;34m,\u001b[0m\u001b[0;34m\u001b[0m\u001b[0m\n\u001b[0;32m--> 121\u001b[0;31m                         prev_coverage=prev_coverage)\n\u001b[0m\u001b[1;32m    122\u001b[0m \u001b[0;34m\u001b[0m\u001b[0m\n\u001b[1;32m    123\u001b[0m     \u001b[0;31m# Extend each hypothesis and collect them all in all_hyps\u001b[0m\u001b[0;34m\u001b[0m\u001b[0;34m\u001b[0m\u001b[0m\n",
      "\u001b[0;32m~/gpu-projects/Zentropy/components/summarizer/pointer-generator/model.py\u001b[0m in \u001b[0;36mdecode_onestep\u001b[0;34m(self, sess, batch, latest_tokens, enc_states, dec_init_states, prev_coverage)\u001b[0m\n\u001b[1;32m    418\u001b[0m       \u001b[0mto_return\u001b[0m\u001b[0;34m[\u001b[0m\u001b[0;34m'coverage'\u001b[0m\u001b[0;34m]\u001b[0m \u001b[0;34m=\u001b[0m \u001b[0mself\u001b[0m\u001b[0;34m.\u001b[0m\u001b[0mcoverage\u001b[0m\u001b[0;34m\u001b[0m\u001b[0m\n\u001b[1;32m    419\u001b[0m \u001b[0;34m\u001b[0m\u001b[0m\n\u001b[0;32m--> 420\u001b[0;31m     \u001b[0mresults\u001b[0m \u001b[0;34m=\u001b[0m \u001b[0msess\u001b[0m\u001b[0;34m.\u001b[0m\u001b[0mrun\u001b[0m\u001b[0;34m(\u001b[0m\u001b[0mto_return\u001b[0m\u001b[0;34m,\u001b[0m \u001b[0mfeed_dict\u001b[0m\u001b[0;34m=\u001b[0m\u001b[0mfeed\u001b[0m\u001b[0;34m)\u001b[0m \u001b[0;31m# run the decoder step\u001b[0m\u001b[0;34m\u001b[0m\u001b[0m\n\u001b[0m\u001b[1;32m    421\u001b[0m \u001b[0;34m\u001b[0m\u001b[0m\n\u001b[1;32m    422\u001b[0m     \u001b[0;31m# Convert results['states'] (a single LSTMStateTuple) into a list of LSTMStateTuple -- one for each hypothesis\u001b[0m\u001b[0;34m\u001b[0m\u001b[0;34m\u001b[0m\u001b[0m\n",
      "\u001b[0;32m~/miniconda3/envs/tensorflow/lib/python3.6/site-packages/tensorflow/python/client/session.py\u001b[0m in \u001b[0;36mrun\u001b[0;34m(self, fetches, feed_dict, options, run_metadata)\u001b[0m\n\u001b[1;32m    787\u001b[0m     \u001b[0;32mtry\u001b[0m\u001b[0;34m:\u001b[0m\u001b[0;34m\u001b[0m\u001b[0m\n\u001b[1;32m    788\u001b[0m       result = self._run(None, fetches, feed_dict, options_ptr,\n\u001b[0;32m--> 789\u001b[0;31m                          run_metadata_ptr)\n\u001b[0m\u001b[1;32m    790\u001b[0m       \u001b[0;32mif\u001b[0m \u001b[0mrun_metadata\u001b[0m\u001b[0;34m:\u001b[0m\u001b[0;34m\u001b[0m\u001b[0m\n\u001b[1;32m    791\u001b[0m         \u001b[0mproto_data\u001b[0m \u001b[0;34m=\u001b[0m \u001b[0mtf_session\u001b[0m\u001b[0;34m.\u001b[0m\u001b[0mTF_GetBuffer\u001b[0m\u001b[0;34m(\u001b[0m\u001b[0mrun_metadata_ptr\u001b[0m\u001b[0;34m)\u001b[0m\u001b[0;34m\u001b[0m\u001b[0m\n",
      "\u001b[0;32m~/miniconda3/envs/tensorflow/lib/python3.6/site-packages/tensorflow/python/client/session.py\u001b[0m in \u001b[0;36m_run\u001b[0;34m(self, handle, fetches, feed_dict, options, run_metadata)\u001b[0m\n\u001b[1;32m    995\u001b[0m     \u001b[0;32mif\u001b[0m \u001b[0mfinal_fetches\u001b[0m \u001b[0;32mor\u001b[0m \u001b[0mfinal_targets\u001b[0m\u001b[0;34m:\u001b[0m\u001b[0;34m\u001b[0m\u001b[0m\n\u001b[1;32m    996\u001b[0m       results = self._do_run(handle, final_targets, final_fetches,\n\u001b[0;32m--> 997\u001b[0;31m                              feed_dict_string, options, run_metadata)\n\u001b[0m\u001b[1;32m    998\u001b[0m     \u001b[0;32melse\u001b[0m\u001b[0;34m:\u001b[0m\u001b[0;34m\u001b[0m\u001b[0m\n\u001b[1;32m    999\u001b[0m       \u001b[0mresults\u001b[0m \u001b[0;34m=\u001b[0m \u001b[0;34m[\u001b[0m\u001b[0;34m]\u001b[0m\u001b[0;34m\u001b[0m\u001b[0m\n",
      "\u001b[0;32m~/miniconda3/envs/tensorflow/lib/python3.6/site-packages/tensorflow/python/client/session.py\u001b[0m in \u001b[0;36m_do_run\u001b[0;34m(self, handle, target_list, fetch_list, feed_dict, options, run_metadata)\u001b[0m\n\u001b[1;32m   1130\u001b[0m     \u001b[0;32mif\u001b[0m \u001b[0mhandle\u001b[0m \u001b[0;32mis\u001b[0m \u001b[0;32mNone\u001b[0m\u001b[0;34m:\u001b[0m\u001b[0;34m\u001b[0m\u001b[0m\n\u001b[1;32m   1131\u001b[0m       return self._do_call(_run_fn, self._session, feed_dict, fetch_list,\n\u001b[0;32m-> 1132\u001b[0;31m                            target_list, options, run_metadata)\n\u001b[0m\u001b[1;32m   1133\u001b[0m     \u001b[0;32melse\u001b[0m\u001b[0;34m:\u001b[0m\u001b[0;34m\u001b[0m\u001b[0m\n\u001b[1;32m   1134\u001b[0m       return self._do_call(_prun_fn, self._session, handle, feed_dict,\n",
      "\u001b[0;32m~/miniconda3/envs/tensorflow/lib/python3.6/site-packages/tensorflow/python/client/session.py\u001b[0m in \u001b[0;36m_do_call\u001b[0;34m(self, fn, *args)\u001b[0m\n\u001b[1;32m   1137\u001b[0m   \u001b[0;32mdef\u001b[0m \u001b[0m_do_call\u001b[0m\u001b[0;34m(\u001b[0m\u001b[0mself\u001b[0m\u001b[0;34m,\u001b[0m \u001b[0mfn\u001b[0m\u001b[0;34m,\u001b[0m \u001b[0;34m*\u001b[0m\u001b[0margs\u001b[0m\u001b[0;34m)\u001b[0m\u001b[0;34m:\u001b[0m\u001b[0;34m\u001b[0m\u001b[0m\n\u001b[1;32m   1138\u001b[0m     \u001b[0;32mtry\u001b[0m\u001b[0;34m:\u001b[0m\u001b[0;34m\u001b[0m\u001b[0m\n\u001b[0;32m-> 1139\u001b[0;31m       \u001b[0;32mreturn\u001b[0m \u001b[0mfn\u001b[0m\u001b[0;34m(\u001b[0m\u001b[0;34m*\u001b[0m\u001b[0margs\u001b[0m\u001b[0;34m)\u001b[0m\u001b[0;34m\u001b[0m\u001b[0m\n\u001b[0m\u001b[1;32m   1140\u001b[0m     \u001b[0;32mexcept\u001b[0m \u001b[0merrors\u001b[0m\u001b[0;34m.\u001b[0m\u001b[0mOpError\u001b[0m \u001b[0;32mas\u001b[0m \u001b[0me\u001b[0m\u001b[0;34m:\u001b[0m\u001b[0;34m\u001b[0m\u001b[0m\n\u001b[1;32m   1141\u001b[0m       \u001b[0mmessage\u001b[0m \u001b[0;34m=\u001b[0m \u001b[0mcompat\u001b[0m\u001b[0;34m.\u001b[0m\u001b[0mas_text\u001b[0m\u001b[0;34m(\u001b[0m\u001b[0me\u001b[0m\u001b[0;34m.\u001b[0m\u001b[0mmessage\u001b[0m\u001b[0;34m)\u001b[0m\u001b[0;34m\u001b[0m\u001b[0m\n",
      "\u001b[0;32m~/miniconda3/envs/tensorflow/lib/python3.6/site-packages/tensorflow/python/client/session.py\u001b[0m in \u001b[0;36m_run_fn\u001b[0;34m(session, feed_dict, fetch_list, target_list, options, run_metadata)\u001b[0m\n\u001b[1;32m   1119\u001b[0m         return tf_session.TF_Run(session, options,\n\u001b[1;32m   1120\u001b[0m                                  \u001b[0mfeed_dict\u001b[0m\u001b[0;34m,\u001b[0m \u001b[0mfetch_list\u001b[0m\u001b[0;34m,\u001b[0m \u001b[0mtarget_list\u001b[0m\u001b[0;34m,\u001b[0m\u001b[0;34m\u001b[0m\u001b[0m\n\u001b[0;32m-> 1121\u001b[0;31m                                  status, run_metadata)\n\u001b[0m\u001b[1;32m   1122\u001b[0m \u001b[0;34m\u001b[0m\u001b[0m\n\u001b[1;32m   1123\u001b[0m     \u001b[0;32mdef\u001b[0m \u001b[0m_prun_fn\u001b[0m\u001b[0;34m(\u001b[0m\u001b[0msession\u001b[0m\u001b[0;34m,\u001b[0m \u001b[0mhandle\u001b[0m\u001b[0;34m,\u001b[0m \u001b[0mfeed_dict\u001b[0m\u001b[0;34m,\u001b[0m \u001b[0mfetch_list\u001b[0m\u001b[0;34m)\u001b[0m\u001b[0;34m:\u001b[0m\u001b[0;34m\u001b[0m\u001b[0m\n",
      "\u001b[0;31mKeyboardInterrupt\u001b[0m: "
     ]
    }
   ],
   "source": [
    "summarizer_internal_pickle = DATA_PATH + \"pickles/decoded_stories_more_coverage.pickle\"\n",
    "#sutils.run_summarization_model_decoder(summarizer_internal_pickle, \"pretrained_model_tf1.2.1_original\")\n",
    "#sutils.run_summarization_model_decoder(summarizer_internal_pickle, \"coverage_trained\")\n",
    "sutils.run_summarization_model_decoder(summarizer_internal_pickle, \n",
    "           data_path = DATA_PATH + \"converted_articles/chunked/test_*\" ,\n",
    "           vocab_path = DATA_PATH + \"summarizer_training_data/finished_files/vocab\",\n",
    "           log_root = DATA_PATH + \"summarizer_models\",\n",
    "           exp_name = \"more_coverage\")"
   ]
  },
  {
   "cell_type": "markdown",
   "metadata": {},
   "source": [
    "## Look at results:"
   ]
  },
  {
   "cell_type": "code",
   "execution_count": 7,
   "metadata": {},
   "outputs": [],
   "source": [
    "summarization_output = pickle.load(open(summarizer_internal_pickle, \"rb\" ))"
   ]
  },
  {
   "cell_type": "code",
   "execution_count": 8,
   "metadata": {},
   "outputs": [
    {
     "name": "stdout",
     "output_type": "stream",
     "text": [
      "net management fees fell by 9pc over the year to $ 691m while performance fees dived by almost two-thirds to $ 112m . chief executive luke ellis , who took the reins in the middle of 2016 , said man group has `` made real progress in repositioning the firm for the future '' chief executive luke ellis , who took the reins in 2016 , said man group has `` made real progress in repositioning the firm for the future ''\n",
      "\n",
      "\n",
      "british american tobacco took the plastic film off another industry consolidation effort . the ftse 100 company said the deal has been unanimously approved by the transaction committee of independent reynolds established to evaluate the bat offer . reynolds shareholders will receive $ 29.44 in cash and 0.5260 bat ordinary shares for each reynolds share .\n",
      "\n",
      "\n",
      "glencore plc rode a wave of surging commodity prices in 2016 to return to a profit of $ 1.4 billion . chief executive ivan glasenberg now faces a tough decision : start splurging on new mergers or acquisitions , or return the rewards to shareholders in the form of dividends . shares in the company were up more than 4 % in early-afternoon trading in london .\n",
      "\n",
      "\n",
      "intel will buy israel 's mobileye in a deal valued at about $ 15 billion . the combination , expected to close by year 's end , will allow the companies to bring components to market faster at a lower cost . the combination , expected to close by year 's end , will allow the companies to bring components to market faster at a lower cost .\n",
      "\n",
      "\n",
      "amazon has the amazonfresh grocery delivery service in several larger markets . the company 's presence in groceries has been relatively muted . the company 's presence in groceries has been relatively muted . amazon is not interested in generating profits .\n",
      "\n",
      "\n",
      "shell of assets in the north sea to chrysaor in a deal valued at up to # 3bn . around 400 staff are expected to transfer to chrysaor on their existing terms and conditions of employment . shell will pocket an initial 3bn us dollars , followed by a payment of up to 600m us dollars between 2018 and 2021 .\n",
      "\n",
      "\n",
      "tesco has reached a deferred prosecution agreement with the sfo . the move means britain 's biggest supermarket will escape prosecution . the move means britain 's biggest supermarket will escape prosecution as long as it `` fulfils certain requirements ''\n",
      "\n",
      "\n",
      "hewlett packard enterprise -lrb- hpe -rrb- announced tuesday that it has entered into a definitive agreement to acquire nimble storage -lrb- nmbl -rrb- for $ 12.50 per share in cash with a net cash purchase price of $ 1.0 billion . the stock has soared to a new high for the year.by rtt staff writerfor comments and feedback .\n",
      "\n",
      "\n",
      "hindustan motors has formed an alliance with the ck birla group . it will be producing cars at hindustan motors ' plant in thiruvallur , tamil nadu . it was the first car to be built in india , at a plant in uttarpara near kolkata .\n",
      "\n",
      "\n",
      "10:54 am january 27 , 2017 by roland hutchinsonford . the device will work seamlessly with ford and lincoln vehicles . the device will go on sale a ford and lincoln dealers in the us this summer .\n",
      "\n",
      "\n"
     ]
    }
   ],
   "source": [
    "for s in summarization_output['summaries']:\n",
    "    print(s+\"\\n\\n\")\n"
   ]
  },
  {
   "cell_type": "markdown",
   "metadata": {},
   "source": [
    "## All lower case - Named entity detector will complain!"
   ]
  },
  {
   "cell_type": "code",
   "execution_count": 9,
   "metadata": {
    "scrolled": false
   },
   "outputs": [
    {
     "name": "stdout",
     "output_type": "stream",
     "text": [
      "Net management fees fell by 9pc over the year to $691m while performance fees dived by almost two-thirds to $112m. Chief executive Luke Ellis, who took the reins in the middle of 2016, said Man Group has ``made real progress in repositioning the firm for the future ''Chief executive Luke Ellis, who took the reins in 2016, said Man Group has`` made real progress in repositioning the firm for the future''\n",
      "\n",
      "\n",
      "British American tobacco took the plastic film off another industry consolidation effort. the FTSE 100 company said the deal has been unanimously approved by the transaction committee of independent Reynolds established to evaluate the BAT offer. Reynolds shareholders will receive $29.44 in cash and 0.5260 BAT ordinary shares for each Reynolds share.\n",
      "\n",
      "\n",
      "Glencore PLC rode a wave of surging commodity prices in 2016 to return to a profit of $1.4 billion. Chief executive Ivan Glasenberg now faces a tough decision: start splurging on new mergers or acquisitions, or return the rewards to shareholders in the form of dividends. Shares in the company were up more than 4% in early-afternoon trading in london.\n",
      "\n",
      "\n",
      "Intel will buy Israel's Mobileye in a deal valued at about $15 billion. the combination, expected to close by year's end, will allow the companies to bring components to market faster at a lower cost. the combination, expected to close by year's end, will allow the companies to bring components to market faster at a lower cost.\n",
      "\n",
      "\n",
      "Amazon has the AmazonFresh grocery delivery service in several larger markets. the company's presence in groceries has been relatively muted. the company's presence in groceries has been relatively muted. Amazon is not interested in generating profits.\n",
      "\n",
      "\n",
      "Shell of assets in the North Sea to Chrysaor in a deal valued at up to # 3bn. around 400 staff are expected to transfer to Chrysaor on their existing terms and conditions of employment. Shell will pocket an initial 3bn US dollars, followed by a payment of up to 600m US dollars between 2018 and 2021.\n",
      "\n",
      "\n",
      "Tesco has reached a Deferred prosecution Agreement with the SFO. the move means Britain's biggest supermarket will escape prosecution. the move means Britain's biggest supermarket will escape prosecution as long as it ``fulfils certain requirements ''\n",
      "\n",
      "\n",
      "Hewlett Packard Enterprise -lrb- HPE -rrb- announced Tuesday that it has entered into a definitive agreement to acquire Nimble Storage -lrb- NMBL -rrb- for $12.50 per share in cash with a net cash purchase price of $1.0 billion. the stock has soared to a new high for the year.by RTT Staff WriterFor comments and feedback.\n",
      "\n",
      "\n",
      "Hindustan Motors has formed an alliance with the CK Birla Group. It will be producing cars at Hindustan Motors' plant in Thiruvallur, Tamil Nadu. It was the first car to be built in India, at a plant in Uttarpara near Kolkata.\n",
      "\n",
      "\n",
      "10:54 am January 27, 2017 by Roland HutchinsonFord. the device will work seamlessly with Ford and Lincoln vehicles. the device will go on sale a Ford and Lincoln dealers in the us this summer.\n",
      "\n",
      "\n"
     ]
    }
   ],
   "source": [
    "tokenized_summaries = sutils.try_fix_upper_case_for_summaries(articles[:10], summarization_output['summaries_tokens'])\n",
    "\n",
    "detokenizer = MosesDetokenizer()\n",
    "\n",
    "detokenized_summaries = []\n",
    "\n",
    "for s in tokenized_summaries:\n",
    "    s_detok = detokenizer.detokenize(s, return_str=True)\n",
    "    detokenized_summaries.append(s_detok)\n",
    "    print(s_detok+\"\\n\\n\")"
   ]
  },
  {
   "cell_type": "code",
   "execution_count": 1,
   "metadata": {},
   "outputs": [
    {
     "ename": "NameError",
     "evalue": "name 'detokenized_summaries' is not defined",
     "output_type": "error",
     "traceback": [
      "\u001b[0;31m---------------------------------------------------------------------------\u001b[0m",
      "\u001b[0;31mNameError\u001b[0m                                 Traceback (most recent call last)",
      "\u001b[0;32m<ipython-input-1-b2bf3de6890b>\u001b[0m in \u001b[0;36m<module>\u001b[0;34m()\u001b[0m\n\u001b[0;32m----> 1\u001b[0;31m \u001b[0mlen\u001b[0m\u001b[0;34m(\u001b[0m\u001b[0mdetokenized_summaries\u001b[0m\u001b[0;34m)\u001b[0m\u001b[0;34m\u001b[0m\u001b[0m\n\u001b[0m",
      "\u001b[0;31mNameError\u001b[0m: name 'detokenized_summaries' is not defined"
     ]
    }
   ],
   "source": [
    "len(detokenized_summaries)"
   ]
  },
  {
   "cell_type": "markdown",
   "metadata": {},
   "source": [
    "## Much better! Next let's look at our baseline summaries:"
   ]
  },
  {
   "cell_type": "code",
   "execution_count": 8,
   "metadata": {},
   "outputs": [],
   "source": [
    "summaries_3sent = sutils.get_3_sentence_summaries(articles)\n"
   ]
  },
  {
   "cell_type": "markdown",
   "metadata": {},
   "source": [
    "## Send data to named entity extractor:"
   ]
  },
  {
   "cell_type": "code",
   "execution_count": 32,
   "metadata": {},
   "outputs": [],
   "source": [
    "summarizer_output_pickle = \"../../data/pickles/summarizer_output.pickle\"\n",
    "\n",
    "summarizer_output = {\n",
    "    'ids' : ids,\n",
    "    'stories': articles,\n",
    "     #'summaries': detokenized_summaries,\n",
    "    'summaries_3sent': summaries_3sent\n",
    "}\n",
    "\n",
    "pickle.dump(summarizer_output, open(summarizer_output_pickle, \"wb\"))"
   ]
  },
  {
   "cell_type": "code",
   "execution_count": 37,
   "metadata": {},
   "outputs": [
    {
     "data": {
      "text/plain": [
       "3986"
      ]
     },
     "execution_count": 37,
     "metadata": {},
     "output_type": "execute_result"
    }
   ],
   "source": [
    "len(summarizer_output['stories'])"
   ]
  },
  {
   "cell_type": "markdown",
   "metadata": {},
   "source": [
    "## Load NER library:"
   ]
  },
  {
   "cell_type": "code",
   "execution_count": 16,
   "metadata": {
    "scrolled": true
   },
   "outputs": [],
   "source": [
    "import sys\n",
    "sys.path.append(\"../ner\")\n",
    "\n",
    "import NERutils as ner\n"
   ]
  },
  {
   "cell_type": "code",
   "execution_count": 15,
   "metadata": {},
   "outputs": [],
   "source": [
    "foo_bar = 3"
   ]
  },
  {
   "cell_type": "markdown",
   "metadata": {},
   "source": [
    "## Showtime:"
   ]
  },
  {
   "cell_type": "code",
   "execution_count": 23,
   "metadata": {},
   "outputs": [
    {
     "name": "stdout",
     "output_type": "stream",
     "text": [
      "RUNNING TOKENIZER\n",
      "SPLITTING SENTENCES LINE BY LINE\n"
     ]
    },
    {
     "ename": "IndexError",
     "evalue": "list index out of range",
     "output_type": "error",
     "traceback": [
      "\u001b[0;31m---------------------------------------------------------------------------\u001b[0m",
      "\u001b[0;31mIndexError\u001b[0m                                Traceback (most recent call last)",
      "\u001b[0;32m<ipython-input-23-5fd0eb491e3e>\u001b[0m in \u001b[0;36m<module>\u001b[0;34m()\u001b[0m\n\u001b[1;32m     22\u001b[0m     \u001b[0;32mreturn\u001b[0m\u001b[0;34m(\u001b[0m\u001b[0mstories\u001b[0m\u001b[0;34m)\u001b[0m\u001b[0;34m\u001b[0m\u001b[0m\n\u001b[1;32m     23\u001b[0m \u001b[0;34m\u001b[0m\u001b[0m\n\u001b[0;32m---> 24\u001b[0;31m \u001b[0mner_articles\u001b[0m \u001b[0;34m=\u001b[0m \u001b[0mextract_orgs\u001b[0m\u001b[0;34m(\u001b[0m\u001b[0msummarizer_output\u001b[0m\u001b[0;34m[\u001b[0m\u001b[0;34m'stories'\u001b[0m\u001b[0;34m]\u001b[0m\u001b[0;34m)\u001b[0m\u001b[0;34m\u001b[0m\u001b[0m\n\u001b[0m\u001b[1;32m     25\u001b[0m \u001b[0mner_summaries\u001b[0m \u001b[0;34m=\u001b[0m \u001b[0mextract_orgs\u001b[0m\u001b[0;34m(\u001b[0m\u001b[0msummarizer_output\u001b[0m\u001b[0;34m[\u001b[0m\u001b[0;34m'summaries'\u001b[0m\u001b[0;34m]\u001b[0m\u001b[0;34m)\u001b[0m\u001b[0;34m\u001b[0m\u001b[0m\n\u001b[1;32m     26\u001b[0m \u001b[0mner_summaries_3sent\u001b[0m \u001b[0;34m=\u001b[0m \u001b[0mextract_orgs\u001b[0m\u001b[0;34m(\u001b[0m\u001b[0msummarizer_output\u001b[0m\u001b[0;34m[\u001b[0m\u001b[0;34m'summaries_3sent'\u001b[0m\u001b[0;34m]\u001b[0m\u001b[0;34m)\u001b[0m\u001b[0;34m\u001b[0m\u001b[0m\n",
      "\u001b[0;32m<ipython-input-23-5fd0eb491e3e>\u001b[0m in \u001b[0;36mextract_orgs\u001b[0;34m(stories)\u001b[0m\n\u001b[1;32m      6\u001b[0m         \u001b[0mstoryCombined\u001b[0m \u001b[0;34m=\u001b[0m \u001b[0mstory\u001b[0m\u001b[0;34m.\u001b[0m\u001b[0mreplace\u001b[0m\u001b[0;34m(\u001b[0m\u001b[0;34m'\\n'\u001b[0m\u001b[0;34m,\u001b[0m \u001b[0;34m' '\u001b[0m\u001b[0;34m)\u001b[0m\u001b[0;34m\u001b[0m\u001b[0m\n\u001b[1;32m      7\u001b[0m         \u001b[0mstoryTokenized\u001b[0m \u001b[0;34m=\u001b[0m \u001b[0mtokenize\u001b[0m\u001b[0;34m.\u001b[0m\u001b[0mword_tokenize\u001b[0m\u001b[0;34m(\u001b[0m\u001b[0mstoryCombined\u001b[0m\u001b[0;34m)\u001b[0m\u001b[0;34m\u001b[0m\u001b[0m\n\u001b[0;32m----> 8\u001b[0;31m         \u001b[0msplit\u001b[0m \u001b[0;34m=\u001b[0m \u001b[0mner\u001b[0m\u001b[0;34m.\u001b[0m\u001b[0msentenceSplitter\u001b[0m\u001b[0;34m(\u001b[0m\u001b[0mstoryTokenized\u001b[0m\u001b[0;34m)\u001b[0m\u001b[0;34m\u001b[0m\u001b[0m\n\u001b[0m\u001b[1;32m      9\u001b[0m         \u001b[0mner\u001b[0m\u001b[0;34m.\u001b[0m\u001b[0mwriteArticle\u001b[0m\u001b[0;34m(\u001b[0m\u001b[0msplit\u001b[0m\u001b[0;34m,\u001b[0m\u001b[0minputFile\u001b[0m\u001b[0;34m)\u001b[0m\u001b[0;34m\u001b[0m\u001b[0m\n\u001b[1;32m     10\u001b[0m \u001b[0;34m\u001b[0m\u001b[0m\n",
      "\u001b[0;32m~/gpu-projects/Zentropy/components/ner/NERutils.py\u001b[0m in \u001b[0;36msentenceSplitter\u001b[0;34m(article)\u001b[0m\n\u001b[1;32m     12\u001b[0m \u001b[0;34m\u001b[0m\u001b[0m\n\u001b[1;32m     13\u001b[0m \u001b[0;32mdef\u001b[0m \u001b[0msentenceSplitter\u001b[0m\u001b[0;34m(\u001b[0m\u001b[0marticle\u001b[0m\u001b[0;34m)\u001b[0m\u001b[0;34m:\u001b[0m\u001b[0;34m\u001b[0m\u001b[0m\n\u001b[0;32m---> 14\u001b[0;31m     \u001b[0;32mif\u001b[0m \u001b[0marticle\u001b[0m\u001b[0;34m[\u001b[0m\u001b[0;34m-\u001b[0m\u001b[0;36m1\u001b[0m\u001b[0;34m]\u001b[0m \u001b[0;34m!=\u001b[0m \u001b[0;34m'.'\u001b[0m\u001b[0;34m:\u001b[0m \u001b[0marticle\u001b[0m\u001b[0;34m.\u001b[0m\u001b[0mappend\u001b[0m\u001b[0;34m(\u001b[0m\u001b[0;34m'.'\u001b[0m\u001b[0;34m)\u001b[0m\u001b[0;34m\u001b[0m\u001b[0m\n\u001b[0m\u001b[1;32m     15\u001b[0m     \u001b[0msentences\u001b[0m \u001b[0;34m=\u001b[0m \u001b[0;34m[\u001b[0m\u001b[0;34m]\u001b[0m\u001b[0;34m\u001b[0m\u001b[0m\n\u001b[1;32m     16\u001b[0m     \u001b[0msentence\u001b[0m \u001b[0;34m=\u001b[0m \u001b[0;34m[\u001b[0m\u001b[0;34m]\u001b[0m\u001b[0;34m\u001b[0m\u001b[0m\n",
      "\u001b[0;31mIndexError\u001b[0m: list index out of range"
     ]
    }
   ],
   "source": [
    "def extract_orgs(stories):\n",
    "    inputFile = open('../ner/input.txt','w')\n",
    "    print('RUNNING TOKENIZER')\n",
    "    print('SPLITTING SENTENCES LINE BY LINE')\n",
    "    for story in stories:\n",
    "        storyCombined = story.replace('\\n', ' ')\n",
    "        storyTokenized = tokenize.word_tokenize(storyCombined)\n",
    "        split = ner.sentenceSplitter(storyTokenized)\n",
    "        ner.writeArticle(split,inputFile)\n",
    "\n",
    "    inputFile.close()\n",
    "\n",
    "    print('RUNNING MODEL')\n",
    "    os.system('python2.7 ../ner/tagger-master/tagger.py --model ../ner/tagger-master/models/english/ --input ../ner/input.txt --output ../ner/output.txt')\n",
    "\n",
    "    with open(r'../ner/output.txt','r') as namedStory:\n",
    "        namedStory=namedStory.read().replace('\\n', ' ')\n",
    "\n",
    "    # Get named entities:\n",
    "    orgs  = ner.findNamedEntities(namedStory.split(' '))\n",
    "    \n",
    "    return(stories)\n",
    "\n",
    "ner_articles = extract_orgs(summarizer_output['stories'])\n",
    "ner_summaries = extract_orgs(summarizer_woutput['summaries'])\n",
    "ner_summaries_3sent = extract_orgs(summarizer_output['summaries_3sent'])"
   ]
  },
  {
   "cell_type": "code",
   "execution_count": 29,
   "metadata": {},
   "outputs": [
    {
     "name": "stdout",
     "output_type": "stream",
     "text": [
      "RUNNING TOKENIZER\n",
      "SPLITTING SENTENCES LINE BY LINE\n"
     ]
    },
    {
     "ename": "AttributeError",
     "evalue": "'list' object has no attribute 'split'",
     "output_type": "error",
     "traceback": [
      "\u001b[0;31m---------------------------------------------------------------------------\u001b[0m",
      "\u001b[0;31mAttributeError\u001b[0m                            Traceback (most recent call last)",
      "\u001b[0;32m<ipython-input-29-f44bf9d4b95a>\u001b[0m in \u001b[0;36m<module>\u001b[0;34m()\u001b[0m\n\u001b[1;32m      6\u001b[0m     \u001b[0mstoryCombined\u001b[0m \u001b[0;34m=\u001b[0m \u001b[0mstory\u001b[0m\u001b[0;34m.\u001b[0m\u001b[0mreplace\u001b[0m\u001b[0;34m(\u001b[0m\u001b[0;34m'\\n'\u001b[0m\u001b[0;34m,\u001b[0m \u001b[0;34m' '\u001b[0m\u001b[0;34m)\u001b[0m\u001b[0;34m\u001b[0m\u001b[0m\n\u001b[1;32m      7\u001b[0m     \u001b[0mstoryTokenized\u001b[0m \u001b[0;34m=\u001b[0m \u001b[0mtokenize\u001b[0m\u001b[0;34m.\u001b[0m\u001b[0mword_tokenize\u001b[0m\u001b[0;34m(\u001b[0m\u001b[0mstoryCombined\u001b[0m\u001b[0;34m)\u001b[0m\u001b[0;34m\u001b[0m\u001b[0m\n\u001b[0;32m----> 8\u001b[0;31m     \u001b[0msplit\u001b[0m \u001b[0;34m=\u001b[0m \u001b[0mstoryTokenized\u001b[0m\u001b[0;34m.\u001b[0m\u001b[0msplit\u001b[0m\u001b[0;34m(\u001b[0m\u001b[0;34m'.'\u001b[0m\u001b[0;34m)\u001b[0m\u001b[0;34m\u001b[0m\u001b[0m\n\u001b[0m\u001b[1;32m      9\u001b[0m     \u001b[0mner\u001b[0m\u001b[0;34m.\u001b[0m\u001b[0mwriteArticle\u001b[0m\u001b[0;34m(\u001b[0m\u001b[0msplit\u001b[0m\u001b[0;34m,\u001b[0m\u001b[0minputFile\u001b[0m\u001b[0;34m)\u001b[0m\u001b[0;34m\u001b[0m\u001b[0m\n\u001b[1;32m     10\u001b[0m \u001b[0;34m\u001b[0m\u001b[0m\n",
      "\u001b[0;31mAttributeError\u001b[0m: 'list' object has no attribute 'split'"
     ]
    }
   ],
   "source": [
    "stories = summarizer_output['stories']\n",
    "inputFile = open('../ner/input.txt','w')\n",
    "print('RUNNING TOKENIZER')\n",
    "print('SPLITTING SENTENCES LINE BY LINE')\n",
    "for story in stories:\n",
    "    storyCombined = story.replace('\\n', ' ')\n",
    "    storyTokenized = tokenize.word_tokenize(storyCombined)\n",
    "    split = ner.sentenceSplitter(storyTokenized)\n",
    "    ner.writeArticle(split,inputFile)\n",
    "\n",
    "inputFile.close()\n",
    "\n",
    "print('RUNNING MODEL')\n",
    "os.system('python2.7 ../ner/tagger-master/tagger.py --model ../ner/tagger-master/models/english/ --input ../ner/input.txt --output ../ner/output.txt')\n",
    "\n",
    "with open(r'../ner/output.txt','r') as namedStory:\n",
    "    namedStory=namedStory.read().replace('\\n', ' ')\n",
    "\n",
    "# Get named entities:\n",
    "orgs  = ner.findNamedEntities(namedStory.split(' '))"
   ]
  },
  {
   "cell_type": "code",
   "execution_count": 28,
   "metadata": {},
   "outputs": [
    {
     "data": {
      "text/plain": [
       "'Net management fees fell by 9pc over the course of the year to $691m while performance fees dived by almost two-thirds to $112m. As a result the firm’s shares dropped by 10pc in early trading, but recovered later in the day to a more modest 1.8pc loss. In part that was due to a rise in overall assets under management which increased by 3pc to $80.9bn. The company prefers to focus on adjusted pre-tax profits, which came in at $205m, down from 2015’s profit of $400m. Chief executive Luke Ellis, who took the reins in the middle of 2016, said Man Group has “made real progress in repositioning the firm for the future” and “continued to control our cost base”.“Looking forward to 2017, we have started the year with a good pipeline of interest from clients and encouraging performance across most of our strategies as the new global political environment has created many alpha opportunities, but it remains early days in an uncertain market,” he said.'"
      ]
     },
     "execution_count": 28,
     "metadata": {},
     "output_type": "execute_result"
    }
   ],
   "source": [
    "summarizer_output['stories'][0]"
   ]
  },
  {
   "cell_type": "code",
   "execution_count": null,
   "metadata": {},
   "outputs": [],
   "source": []
  }
 ],
 "metadata": {
  "kernelspec": {
   "display_name": "tensorflow",
   "language": "python",
   "name": "tensorflow"
  },
  "language_info": {
   "codemirror_mode": {
    "name": "ipython",
    "version": 3
   },
   "file_extension": ".py",
   "mimetype": "text/x-python",
   "name": "python",
   "nbconvert_exporter": "python",
   "pygments_lexer": "ipython3",
   "version": "3.6.4"
  }
 },
 "nbformat": 4,
 "nbformat_minor": 2
}
