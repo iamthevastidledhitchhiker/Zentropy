{
 "cells": [
  {
   "cell_type": "code",
   "execution_count": 1,
   "metadata": {
    "scrolled": true
   },
   "outputs": [],
   "source": [
    "%load_ext autoreload\n",
    "%autoreload 2\n",
    "import sys\n",
    "sys.path.append(\"components/summarizer/pointer-generator\")\n",
    "import components.summarizer.summarizer_utils as sutils\n",
    "import components.summarizer.story_converter as sconv\n",
    "import pickle\n",
    "import nltk.tokenize as tokenize\n",
    "import os\n",
    "from nltk.tokenize.moses import MosesDetokenizer"
   ]
  },
  {
   "cell_type": "markdown",
   "metadata": {},
   "source": [
    "## Get some articles to summarize!"
   ]
  },
  {
   "cell_type": "code",
   "execution_count": 2,
   "metadata": {
    "scrolled": true
   },
   "outputs": [
    {
     "name": "stdout",
     "output_type": "stream",
     "text": [
      "Downloading articles...\n",
      "Downloading articles DONE\n"
     ]
    }
   ],
   "source": [
    "articles = [\n",
    "    \"http://www.bbc.com/news/business-43967923\",\n",
    "    \"https://www.theguardian.com/technology/2018/may/02/tesla-loss-model-3-elon-musk\",\n",
    "    \"https://www.theguardian.com/world/2018/may/03/japan-robot-dogs-get-solemn-buddhist-send-off-at-funerals\"\n",
    "]\n",
    "\n",
    "print(\"Downloading articles...\")\n",
    "story_data = sutils.fetch_and_pickle_stories(articles, 'data/pickles/raw_stories.pickle', 'data/stories/', False)\n",
    "print(\"Downloading articles DONE\")"
   ]
  },
  {
   "cell_type": "code",
   "execution_count": 3,
   "metadata": {},
   "outputs": [
    {
     "data": {
      "text/plain": [
       "['Image copyright Getty Images Image caption Slash of Guns \\'n\\' Roses plays a Gibson guitar as James Brown watches onGibson, whose electric guitars have been played by stars including Elvis, Keith Richards and Jimmy Page, has filed for bankruptcy protection as it struggles with $500m (£367m) of debt.Lenders will take control of the Nashville-based company, which was founded in 1902.It made an ill-fated acquisition of Philips\\' consumer audio division four years ago for $135m.Gibson will pull out of that business, and focus on musical instruments.Chief executive Henry Juszkiewicz, who bought the company in 1986, said the Chapter 11 filing would assure the company\\'s \"long-term stability and financial health\".Image copyright Getty Images Image caption Keith Richards of the Rolling Stones plays a Gibson guitarUnder the bankruptcy measures, Gibson will wind down its consumer audio business, whose brands include KRK, Cerwin Vega and Stanton headphones, loudspeakers and turntables.Mandolin originsThe firm makes its electric guitars in Nashville and Memphis, while its acoustic guitars are manufactured in Bozeman, Montana.It sells more than 170,000 guitars annually in more than 80 countries, and said electric guitar sales jumped more than 10% to $122m in the 12 months to January.Lenders including Silver Point Capital, Melody Capital Partners and funds affiliated with KKR Credit Advisors will take a stake in the company.It aims to exit bankruptcy protection on 24 September.The earliest documented instrument produced by founder Orville Gibson was a mandolin made in 1894, with the company being officially founded eight years later.Image copyright Getty ImagesThe guitar which defined the brandPerhaps the most famous of Gibson\\'s guitars has been the Gibson Les Paul.First commercially produced in 1952 after guitarist Les Paul worked on the design with the company, it became one of the first solid body guitars and was built to compete with rival Fender.Slash of Guns N\\' Roses one guitarist famously associated with the Les Paul, and later became an official ambassador for Gibson.Jimmy Page of Led Zeppelin switched from the Fender Telecaster to the Gibson Les Paul - owning several which he had modified to help produce his distinctive sound.And while Bob Marley is not remembered primarily for his guitar skill, much of his electric work involved a modified Gibson Les Paul Junior.Noel Gallagher owns the black Gibson Les Paul which Johnny Marr played on seminal The Smiths album, The Queen is Dead.In an interview with Music Radar in 2015, Marr said it was one of several he gave to the Oasis songwriter - implying he did so while drunk but that he had no regrets.\"With Noel, the guitars went to a really good home. He wrote some great stuff with them, so it all worked out.\"',\n",
       " 'Elon Musk got testy with analysts amid concerns over company’s future, after it burned through $745.3m in cash during important quarterTesla posted a record $709.6m net loss in the first quarter and burned through $745.3m in cash while struggling to crank out large numbers of its Model 3 mass-market electric car.The loss and cash burn announced on Wednesday raised questions about the company’s future and whether it would be able to pay all of its bills by early next year without more borrowing or another round of stock sales.During a sometimes testy conference call with analysts, Tesla’s CEO, Elon Musk, conceded that criticism was valid but said it was “quite likely” the company would make money and have positive cash flow in the third quarter.“It’s high time we became profitable,” said Musk, who also promised restructuring this month to achieve profit goals. “The truth is you’re not a real company until you are, frankly. That’s our focus right now.”Tesla factory to be investigated over safety concerns Read moreBut Tesla investors gave a rare rebuke to Musk after he cut off analysts asking about future profit potential, sending shares down 5% despite promises that production of the troubled Model 3 electric car was on track.Tesla stock was little changed after the earnings announcement but fell during a conference call with analysts, when Musk began cutting analysts’ questions short, costing Tesla over $2bn in market capitalization.“These questions are so dry. They’re killing me,” Musk said after an analyst asked what percentage of Tesla 3 reservation holders have started to configure options for their cars, an indicator of how much profit Tesla will be able to wring from the vehicles. Another analyst asked about a capital requirement before being cut off.Musk then took several questions in a row about plans for a self-driving car network and other long-term projects from the host of a YouTube channel focused on investing, praising the questions as not boring.Tesla said its net loss amounted to $4.19 per share. Excluding one-time expenses such as stock-based compensation, the company lost $3.35 per share. Revenue grew by 26% from a year ago to $3.4bn.The giant loss in a critical quarter for the 15-year-old company fell short of Wall Street estimates. Analysts polled by FactSet expected an adjusted loss of $3.54 per share. Revenue, however, exceeded estimates of $3.28bn.In April, Tesla said it would not need to return to markets for more capital because it expected to generate cash from sales of the Model 3. But it has had trouble getting them out the door to several hundred thousand people who put down $1,000 deposits to order one.Facebook Twitter Pinterest A Tesla Model 3 at an auto show in China. Photograph: Roman Pilipey/EPAMoody’s Investor Service downgraded Tesla’s debt into junk territory back in March, warning at the time that Tesla didn’t have cash to cover $3.7bn for normal operations, capital expenses and debt that come due early next year. At the end of last year the company had a total of $9.5bn in long-term debt.“The negative outlook reflects the likelihood that Tesla will have to undertake a large, near-term capital raise in order to refund maturing obligations and avoid a liquidity shortfall,” Moody’s wrote in a note to investors.Tesla has had only two profitable quarters in its nearly eight years as a public company.The key to raising cash to cover expenses is production of the Model 3 mass-market electric car, which starts at $35,000 but can easily top $50,000 with options.Musk said the restructuring would involve getting rid of third-party contractors that have grown out of control. “We’re going to scrub barnacles on that front,” he said.He admitted that Tesla made a mistake by adding too much automation too quickly at the factory.Tesla halts Model 3 production as firm scrambles to improve automation Read moreThe plant has missed Musk’s forecasts by a wide mark. When production started last summer he promised to build 20,000 Model 3s during the month of December. Instead, Tesla made only 2,425 during the entire fourth quarter.Then Tesla forecast 10,000 Model 3s per month at the end of the first quarter. As it turned out, just under 9,800 were assembled from January through March, Tesla said in April. The Fremont, California, factory was shut down for four or five days last month to clear production bottlenecks, Tesla said.The company, which also makes solar panels, predicted in April that production would climb rapidly through the second quarter and reach about 5,000 vehicles per week – which would return Tesla to its originally promised 20,000 per month rate – around the end of June. It predicted high sales and strong cash flow in the third quarter. “As a result Tesla does not require an equity or debt raise this year, apart from standard credit lines,” the company said.The Model 3 is the most important piece of Tesla’s plan to become a mainstream automaker. At one point it had more than 500,000 potential buyers on a waiting list. But in April the company conceded that some had cancelled, although it refused to give numbers. Tesla said reservations “remained stable” through the first quarter.',\n",
       " 'At a memorial for 114 ‘deceased’ robot pets, incense wafted through the air as priests chanted and prayed for their soulsLaying to rest a much-loved family pet usually requires little more than a shovel, a plot in the back garden and some well-chosen words. But what happens when the “pet” in question is a robot?In Japan, the demise of irreparable Aibo robotic dogs is marked in much the same way as that of humans, with a solemn ceremony at a Buddhist temple.At a memorial for 114 “deceased” members of Sony’s old generation of Aibo, incense wafted through the air as priests in traditional robes chanted sutras and prayed for the repose of their souls.Sony brings its AI-infused robotic dog Aibo back from the dead Read moreEach dog wore a tag showing where they had come from and the names of their grieving owners.When it first went on sale in 1999, Aibo was touted as the world’s first entertainment robot for home use, with initial batch of 3,000 selling out in just 20 minutes, despite costing more than US$2,000 each.Sony went on to sell more than 150,000, but decided to end production in 2006 as it attempted to cut costs. The firm stopped repairing malfunctioning Aibo in 2014, leaving owners whose pets were beyond repair unsure of how to dispose of their companions.Kofukuji, a 450-year-old temple in Isumi, near Tokyo, has conducted services for 800 “dead” Aibo dogs.In January, Sony brought Aibo back from the dead, releasing an upgraded version that uses AI and internet connectivity to interact with its owner and surroundings. But the consumer electronics giant has resisted pressure from owners of the original Aibo to resume repairs of old models.Instead, owners of defunct robotic dogs can send them to A Fun, a company that repairs vintage products, which passes them on to Kofukuji. After the service – which does not involve burial or cremation – the firm removes parts that can be used to fix less seriously damaged models.Many of the dogs are accompanied by notes written by their former owners. “I feel relieved to know there will be a prayer for my Aibo,” one said. Another wrote: “Please help other Aibos. My eyes filled with tears when I decided to say goodbye.”Bungen Oi, one of the temple’s priests, said he did not see anything wrong with giving four-legged friends, albeit of the robotic variety, a proper send-off . “All things have a bit of soul,” he said.Agence France-Presse contributed to this report']"
      ]
     },
     "execution_count": 3,
     "metadata": {},
     "output_type": "execute_result"
    }
   ],
   "source": [
    "story_data['stories']"
   ]
  },
  {
   "cell_type": "markdown",
   "metadata": {},
   "source": [
    "## Convert articles to the format read by the TensorFlow model:"
   ]
  },
  {
   "cell_type": "code",
   "execution_count": 4,
   "metadata": {},
   "outputs": [],
   "source": [
    "sconv.process_and_save_to_disk(story_data['stories'], \"test.bin\", \"data/converted_articles\")"
   ]
  },
  {
   "cell_type": "markdown",
   "metadata": {},
   "source": [
    "## Run TensorFlow model in decoder mode:"
   ]
  },
  {
   "cell_type": "code",
   "execution_count": 5,
   "metadata": {},
   "outputs": [
    {
     "name": "stdout",
     "output_type": "stream",
     "text": [
      "Starting TensorFlow Decoder...\n",
      "INFO:tensorflow:Starting seq2seq_attention in asdfdsaf decode mode...\n",
      "INFO:tensorflow:Current folder /Users/arturs/gpu-projects/Zentropy\n",
      "Warning: incorrectly formatted line in vocabulary file: 0800 555 111 356\n",
      "\n",
      "\n",
      "Warning: incorrectly formatted line in vocabulary file: 1800 333 000 139\n",
      "\n",
      "\n",
      "Warning: incorrectly formatted line in vocabulary file: 2 1/2 124\n",
      "\n",
      "\n",
      "Warning: incorrectly formatted line in vocabulary file: 3 1/2 86\n",
      "\n",
      "\n",
      "max_size of vocab was specified as 50000; we now have 50000 words. Stopping reading.\n",
      "Finished constructing vocabulary of 50000 total words. Last word added: farina\n",
      "INFO:tensorflow:Building graph...\n",
      "example_generator completed reading all datafiles. No more data.\n",
      "INFO:tensorflow:The example generator for this example queue filling thread has exhausted data.\n",
      "INFO:tensorflow:single_pass mode is on, so we've finished reading dataset. This thread is stopping.\n",
      "INFO:tensorflow:Adding attention_decoder timestep 0 of 1\n",
      "INFO:tensorflow:Time to build graph: 0 seconds\n",
      "INFO:tensorflow:Loading checkpoint data/summarizer_models/more_coverage/train/model.ckpt-363378\n",
      "INFO:tensorflow:Restoring parameters from data/summarizer_models/more_coverage/train/model.ckpt-363378\n",
      "WARNING:tensorflow:Bucket input queue is empty when calling next_batch. Bucket queue size: 0, Input queue size: 0\n",
      "INFO:tensorflow:Finished reading dataset in single_pass mode.\n",
      "INFO:tensorflow:Decoder has finished reading dataset for single_pass.\n",
      "INFO:tensorflow:Output has been saved in data/summarizer_models/more_coverage/decode_test_400maxenc_4beam_35mindec_100maxdec_ckpt-363378/reference and data/summarizer_models/more_coverage/decode_test_400maxenc_4beam_35mindec_100maxdec_ckpt-363378/decoded. Now starting ROUGE eval...\n",
      "Summarization model exited as expected :)\n"
     ]
    }
   ],
   "source": [
    "DATA_DIR = 'data/'\n",
    "summarizer_internal_pickle = f\"{DATA_DIR}pickles/decoded_stories.pickle\"\n",
    "data_path = f\"{DATA_DIR}converted_articles/chunked/test_*\"\n",
    "vocab_path = f\"{DATA_DIR}summarizer_training_data/finished_files/vocab\"\n",
    "log_root = f\"{DATA_DIR}summarizer_models\"\n",
    "exp_name = \"more_coverage\"\n",
    "#exp_name = \"no_coverage\"\n",
    "#exp_name = \"some_coverage\"\n",
    "\n",
    "sutils.run_summarization_model_decoder(summarizer_internal_pickle, data_path = data_path,\n",
    "           vocab_path = vocab_path, log_root = log_root, exp_name = exp_name)"
   ]
  },
  {
   "cell_type": "markdown",
   "metadata": {},
   "source": [
    "## Look at results:"
   ]
  },
  {
   "cell_type": "code",
   "execution_count": 6,
   "metadata": {},
   "outputs": [],
   "source": [
    "summarization_output = pickle.load(open(summarizer_internal_pickle, \"rb\" ))"
   ]
  },
  {
   "cell_type": "code",
   "execution_count": 7,
   "metadata": {},
   "outputs": [
    {
     "name": "stdout",
     "output_type": "stream",
     "text": [
      "image copyright getty images image caption slash of guns 'n' roses plays a gibson guitar as james brown watches ongibson , whose electric guitars have been played by stars including elvis , keith richards and jimmy page . it made an ill-fated acquisition of philips ' consumer audio division four years ago for $ 135m . gibson will pull out of that business , and focus on musical instruments.chief executive henry juszkiewicz , who bought the company in 1986 .\n",
      "\n",
      "\n",
      "analysts : elon musk got testy with analysts amid concerns over company 's future . tesla factory to be investigated over safety concerns read morebut tesla investors gave a rare rebuke to musk . tesla factory to be investigated over safety concerns read morebut tesla investors gave a rare rebuke to musk .\n",
      "\n",
      "\n",
      "irreparable aibo robotic dogs are marked in much the same way as that of humans . the demise of irreparable aibo robotic dogs is marked in much the same way as that of humans . the firm stopped repairing malfunctioning aibo in 2014 , leaving owners whose pets were beyond repair unsure .\n",
      "\n",
      "\n"
     ]
    }
   ],
   "source": [
    "for s in summarization_output['summaries']:\n",
    "    print(s+\"\\n\\n\")\n"
   ]
  },
  {
   "cell_type": "markdown",
   "metadata": {},
   "source": [
    "## All lower case - Named entity detector will complain!"
   ]
  },
  {
   "cell_type": "code",
   "execution_count": 8,
   "metadata": {},
   "outputs": [
    {
     "name": "stdout",
     "output_type": "stream",
     "text": [
      "Image copyright Getty Images Image caption Slash of Guns'n' Roses plays a Gibson guitar as James Brown watches onGibson, whose electric guitars have been played by stars including Elvis, Keith Richards and Jimmy Page. it made an ill-fated acquisition of Philips' consumer audio division four years ago for $135m. Gibson will pull out of that business, and focus on musical instruments.Chief executive Henry Juszkiewicz, who bought the company in 1986.\n",
      "\n",
      "\n",
      "analysts: Elon Musk got testy with analysts amid concerns over company's future. Tesla factory to be investigated over safety concerns Read moreBut Tesla investors gave a rare rebuke to Musk. Tesla factory to be investigated over safety concerns Read moreBut Tesla investors gave a rare rebuke to Musk.\n",
      "\n",
      "\n",
      "irreparable Aibo robotic dogs are marked in much the same way as that of humans. the demise of irreparable Aibo robotic dogs is marked in much the same way as that of humans. the firm stopped repairing malfunctioning Aibo in 2014, leaving owners whose pets were beyond repair unsure.\n",
      "\n",
      "\n"
     ]
    }
   ],
   "source": [
    "tokenized_summaries = sutils.try_fix_upper_case_for_summaries(story_data['stories'], summarization_output['summaries_tokens'])\n",
    "\n",
    "detokenizer = MosesDetokenizer()\n",
    "\n",
    "detokenized_summaries = []\n",
    "\n",
    "for s in tokenized_summaries:\n",
    "    s_detok = detokenizer.detokenize(s, return_str=True)\n",
    "    detokenized_summaries.append(s_detok)\n",
    "    print(s_detok+\"\\n\\n\")"
   ]
  },
  {
   "cell_type": "markdown",
   "metadata": {},
   "source": [
    "## Much better! Next let's look at our baseline summaries:"
   ]
  },
  {
   "cell_type": "code",
   "execution_count": 9,
   "metadata": {},
   "outputs": [
    {
     "name": "stdout",
     "output_type": "stream",
     "text": [
      "Extractive summaries:\n",
      "\n",
      "Mandolin originsThe firm makes its electric guitars in Nashville and Memphis, while its acoustic guitars are manufactured in Bozeman, Montana.Image copyright Getty ImagesThe guitar which defined the brandPerhaps the most famous of Gibson's guitars has been the Gibson Les Paul.Jimmy Page of Led Zeppelin switched from the Fender Telecaster to the Gibson Les Paul - owning several which he had modified to help produce his distinctive sound.And while Bob Marley is not remembered primarily for his guitar skill, much of his electric work involved a modified Gibson Les Paul Junior.Noel Gallagher owns the black Gibson Les Paul which Johnny Marr played on seminal The Smiths album, The Queen is Dead.\n",
      "\n",
      "\n",
      "Tesla stock was little changed after the earnings announcement but fell during a conference call with analysts, when Musk began cutting analysts’ questions short, costing Tesla over $2bn in market capitalization.Facebook Twitter Pinterest A Tesla Model 3 at an auto show in China.Tesla halts Model 3 production as firm scrambles to improve automation Read moreThe plant has missed Musk’s forecasts by a wide mark.Then Tesla forecast 10,000 Model 3s per month at the end of the first quarter.The Fremont, California, factory was shut down for four or five days last month to clear production bottlenecks, Tesla said.\n",
      "\n",
      "\n",
      "But what happens when the “pet” in question is a robot?In Japan, the demise of irreparable Aibo robotic dogs is marked in much the same way as that of humans, with a solemn ceremony at a Buddhist temple.Kofukuji, a 450-year-old temple in Isumi, near Tokyo, has conducted services for 800 “dead” Aibo dogs.But the consumer electronics giant has resisted pressure from owners of the original Aibo to resume repairs of old models.Instead, owners of defunct robotic dogs can send them to A Fun, a company that repairs vintage products, which passes them on to Kofukuji.\n",
      "\n",
      "\n",
      "3 sentence summaries:\n",
      "\n",
      "Gibson, whose electric guitars have been played by stars including Elvis, Keith Richards and Jimmy Page, has filed for bankruptcy protection as it struggles with $500m (£367m) of debt. Lenders will take control of the Nashville-based company, which was founded in 1902. It made an ill-fated acquisition of Philips' consumer audio division four years ago for $135m.\n",
      "\n",
      "\n",
      "Elon Musk got testy with analysts amid concerns over company’s future, after it burned through $745.3m in cash during important quarter. Tesla posted a record $709.6m net loss in the first quarter and burned through $745.3m in cash while struggling to crank out large numbers of its Model 3 mass-market electric car. The loss and cash burn announced on Wednesday raised questions about the company’s future and whether it would be able to pay all of its bills by early next year without more borrowing or another round of stock sales.\n",
      "\n",
      "\n",
      "At a memorial for 114 ‘deceased’ robot pets, incense wafted through the air as priests chanted and prayed for their souls. Laying to rest a much-loved family pet usually requires little more than a shovel, a plot in the back garden and some well-chosen words. But what happens when the “pet” in question is a robot?\n",
      "\n",
      "\n"
     ]
    }
   ],
   "source": [
    "print(\"Extractive summaries:\\n\")\n",
    "for s1 in story_data['summaries_extractive']:\n",
    "    print(s1+\"\\n\\n\")\n",
    "\n",
    "print(\"3 sentence summaries:\\n\")\n",
    "for s2 in story_data['summaries_3sent']:\n",
    "    print(s2+\"\\n\\n\")"
   ]
  },
  {
   "cell_type": "markdown",
   "metadata": {},
   "source": [
    "## Load NER library:"
   ]
  },
  {
   "cell_type": "code",
   "execution_count": 10,
   "metadata": {
    "scrolled": true
   },
   "outputs": [],
   "source": [
    "import components.ner.NERutils as ner"
   ]
  },
  {
   "cell_type": "markdown",
   "metadata": {},
   "source": [
    "## Showtime:"
   ]
  },
  {
   "cell_type": "code",
   "execution_count": null,
   "metadata": {},
   "outputs": [
    {
     "name": "stdout",
     "output_type": "stream",
     "text": [
      "RUNNING TOKENIZER\n",
      "SPLITTING SENTENCES LINE BY LINE\n",
      "RUNNING MODEL\n"
     ]
    }
   ],
   "source": [
    "all_orgs = []\n",
    "\n",
    "for story in detokenized_summaries:\n",
    "    storyCombined = story.replace('\\n', ' ')\n",
    "\n",
    "    print('RUNNING TOKENIZER')\n",
    "    storyTokenized = tokenize.word_tokenize(storyCombined)\n",
    "\n",
    "    print('SPLITTING SENTENCES LINE BY LINE')\n",
    "    split = ner.sentenceSplitter(storyTokenized)\n",
    "\n",
    "    inputFile = open(r'components/ner/input.txt','w')\n",
    "    ner.writeArticle(split,inputFile)\n",
    "    inputFile.close()\n",
    "\n",
    "    print('RUNNING MODEL')\n",
    "    os.system('python2.7 components/ner/tagger-master/tagger.py --model components/ner/tagger-master/models/english/ --input components/ner/input.txt --output components/ner/output.txt')\n",
    "\n",
    "    with open(r'components/ner/output.txt','r') as namedStory:\n",
    "        namedStory=namedStory.read().replace('\\n', ' ')\n",
    "\n",
    "    print('NAMED ENTITIES:')\n",
    "    orgs  = ner.findNamedEntities(namedStory.split(' '))\n",
    "    all_orgs.append(orgs)\n",
    "    print(orgs)\n"
   ]
  },
  {
   "cell_type": "code",
   "execution_count": null,
   "metadata": {},
   "outputs": [],
   "source": [
    "all_orgs"
   ]
  },
  {
   "cell_type": "code",
   "execution_count": null,
   "metadata": {},
   "outputs": [],
   "source": [
    "detokenized_summaries"
   ]
  },
  {
   "cell_type": "code",
   "execution_count": null,
   "metadata": {},
   "outputs": [],
   "source": []
  }
 ],
 "metadata": {
  "kernelspec": {
   "display_name": "tensorflow",
   "language": "python",
   "name": "tensorflow"
  },
  "language_info": {
   "codemirror_mode": {
    "name": "ipython",
    "version": 3
   },
   "file_extension": ".py",
   "mimetype": "text/x-python",
   "name": "python",
   "nbconvert_exporter": "python",
   "pygments_lexer": "ipython3",
   "version": "3.6.4"
  }
 },
 "nbformat": 4,
 "nbformat_minor": 2
}
